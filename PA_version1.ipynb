{
  "nbformat": 4,
  "nbformat_minor": 0,
  "metadata": {
    "colab": {
      "name": "PA version1.ipynb",
      "provenance": [],
      "collapsed_sections": [],
      "mount_file_id": "11RVJFvnB7GGVCKcjsNS-6gRST6sl95Lo",
      "authorship_tag": "ABX9TyMDQoXKayHHmQUAtcDDrnAs",
      "include_colab_link": true
    },
    "kernelspec": {
      "name": "python3",
      "display_name": "Python 3"
    },
    "accelerator": "GPU"
  },
  "cells": [
    {
      "cell_type": "markdown",
      "metadata": {
        "id": "view-in-github",
        "colab_type": "text"
      },
      "source": [
        "<a href=\"https://colab.research.google.com/github/aravind0654/chinna/blob/master/PA_version1.ipynb\" target=\"_parent\"><img src=\"https://colab.research.google.com/assets/colab-badge.svg\" alt=\"Open In Colab\"/></a>"
      ]
    },
    {
      "cell_type": "code",
      "metadata": {
        "id": "wUhfe9DnLAJW"
      },
      "source": [
        "import numpy as np\n",
        "import pandas as pd"
      ],
      "execution_count": null,
      "outputs": []
    },
    {
      "cell_type": "code",
      "metadata": {
        "id": "9UDpnGdEG2IX"
      },
      "source": [
        "import seaborn as sns\n",
        "import matplotlib.pyplot as plt"
      ],
      "execution_count": null,
      "outputs": []
    },
    {
      "cell_type": "code",
      "metadata": {
        "id": "iFYmWCnsG-GU"
      },
      "source": [
        "%matplotlib inline"
      ],
      "execution_count": null,
      "outputs": []
    },
    {
      "cell_type": "code",
      "metadata": {
        "id": "RMNcZXgcIF1A"
      },
      "source": [
        "sns.set_style(\"whitegrid\")"
      ],
      "execution_count": null,
      "outputs": []
    },
    {
      "cell_type": "code",
      "metadata": {
        "id": "1xe7-pMoIP3v"
      },
      "source": [
        "train_data = pd.read_csv(\"/content/drive/MyDrive/cs-training.csv\" )"
      ],
      "execution_count": null,
      "outputs": []
    },
    {
      "cell_type": "code",
      "metadata": {
        "id": "6FTENyJcK9KN",
        "colab": {
          "base_uri": "https://localhost:8080/"
        },
        "outputId": "a40b6263-1dc1-4978-9554-9c9064b49a20"
      },
      "source": [
        "train_data.shape"
      ],
      "execution_count": null,
      "outputs": [
        {
          "output_type": "execute_result",
          "data": {
            "text/plain": [
              "(150000, 12)"
            ]
          },
          "metadata": {
            "tags": []
          },
          "execution_count": 8
        }
      ]
    },
    {
      "cell_type": "code",
      "metadata": {
        "id": "Z2y4ZxSeLAhc",
        "colab": {
          "base_uri": "https://localhost:8080/"
        },
        "outputId": "c9084710-571d-4c3d-e4c4-68c7575414ab"
      },
      "source": [
        "train_data.columns"
      ],
      "execution_count": null,
      "outputs": [
        {
          "output_type": "execute_result",
          "data": {
            "text/plain": [
              "Index(['Unnamed: 0', 'SeriousDlqin2yrs',\n",
              "       'RevolvingUtilizationOfUnsecuredLines', 'age',\n",
              "       'NumberOfTime30-59DaysPastDueNotWorse', 'DebtRatio', 'MonthlyIncome',\n",
              "       'NumberOfOpenCreditLinesAndLoans', 'NumberOfTimes90DaysLate',\n",
              "       'NumberRealEstateLoansOrLines', 'NumberOfTime60-89DaysPastDueNotWorse',\n",
              "       'NumberOfDependents'],\n",
              "      dtype='object')"
            ]
          },
          "metadata": {
            "tags": []
          },
          "execution_count": 9
        }
      ]
    },
    {
      "cell_type": "code",
      "metadata": {
        "id": "vDbLD3v3K925"
      },
      "source": [
        "train_data.drop('Unnamed: 0', axis = 1, inplace=True)"
      ],
      "execution_count": null,
      "outputs": []
    },
    {
      "cell_type": "code",
      "metadata": {
        "id": "TLFe38b0LLaJ",
        "colab": {
          "base_uri": "https://localhost:8080/",
          "height": 241
        },
        "outputId": "6f0a0947-1140-4a9f-fc06-f3f7b9c52ca6"
      },
      "source": [
        "train_data.head()"
      ],
      "execution_count": null,
      "outputs": [
        {
          "output_type": "execute_result",
          "data": {
            "text/html": [
              "<div>\n",
              "<style scoped>\n",
              "    .dataframe tbody tr th:only-of-type {\n",
              "        vertical-align: middle;\n",
              "    }\n",
              "\n",
              "    .dataframe tbody tr th {\n",
              "        vertical-align: top;\n",
              "    }\n",
              "\n",
              "    .dataframe thead th {\n",
              "        text-align: right;\n",
              "    }\n",
              "</style>\n",
              "<table border=\"1\" class=\"dataframe\">\n",
              "  <thead>\n",
              "    <tr style=\"text-align: right;\">\n",
              "      <th></th>\n",
              "      <th>SeriousDlqin2yrs</th>\n",
              "      <th>RevolvingUtilizationOfUnsecuredLines</th>\n",
              "      <th>age</th>\n",
              "      <th>NumberOfTime30-59DaysPastDueNotWorse</th>\n",
              "      <th>DebtRatio</th>\n",
              "      <th>MonthlyIncome</th>\n",
              "      <th>NumberOfOpenCreditLinesAndLoans</th>\n",
              "      <th>NumberOfTimes90DaysLate</th>\n",
              "      <th>NumberRealEstateLoansOrLines</th>\n",
              "      <th>NumberOfTime60-89DaysPastDueNotWorse</th>\n",
              "      <th>NumberOfDependents</th>\n",
              "    </tr>\n",
              "  </thead>\n",
              "  <tbody>\n",
              "    <tr>\n",
              "      <th>0</th>\n",
              "      <td>1</td>\n",
              "      <td>0.766127</td>\n",
              "      <td>45</td>\n",
              "      <td>2</td>\n",
              "      <td>0.802982</td>\n",
              "      <td>9120.0</td>\n",
              "      <td>13</td>\n",
              "      <td>0</td>\n",
              "      <td>6</td>\n",
              "      <td>0</td>\n",
              "      <td>2.0</td>\n",
              "    </tr>\n",
              "    <tr>\n",
              "      <th>1</th>\n",
              "      <td>0</td>\n",
              "      <td>0.957151</td>\n",
              "      <td>40</td>\n",
              "      <td>0</td>\n",
              "      <td>0.121876</td>\n",
              "      <td>2600.0</td>\n",
              "      <td>4</td>\n",
              "      <td>0</td>\n",
              "      <td>0</td>\n",
              "      <td>0</td>\n",
              "      <td>1.0</td>\n",
              "    </tr>\n",
              "    <tr>\n",
              "      <th>2</th>\n",
              "      <td>0</td>\n",
              "      <td>0.658180</td>\n",
              "      <td>38</td>\n",
              "      <td>1</td>\n",
              "      <td>0.085113</td>\n",
              "      <td>3042.0</td>\n",
              "      <td>2</td>\n",
              "      <td>1</td>\n",
              "      <td>0</td>\n",
              "      <td>0</td>\n",
              "      <td>0.0</td>\n",
              "    </tr>\n",
              "    <tr>\n",
              "      <th>3</th>\n",
              "      <td>0</td>\n",
              "      <td>0.233810</td>\n",
              "      <td>30</td>\n",
              "      <td>0</td>\n",
              "      <td>0.036050</td>\n",
              "      <td>3300.0</td>\n",
              "      <td>5</td>\n",
              "      <td>0</td>\n",
              "      <td>0</td>\n",
              "      <td>0</td>\n",
              "      <td>0.0</td>\n",
              "    </tr>\n",
              "    <tr>\n",
              "      <th>4</th>\n",
              "      <td>0</td>\n",
              "      <td>0.907239</td>\n",
              "      <td>49</td>\n",
              "      <td>1</td>\n",
              "      <td>0.024926</td>\n",
              "      <td>63588.0</td>\n",
              "      <td>7</td>\n",
              "      <td>0</td>\n",
              "      <td>1</td>\n",
              "      <td>0</td>\n",
              "      <td>0.0</td>\n",
              "    </tr>\n",
              "  </tbody>\n",
              "</table>\n",
              "</div>"
            ],
            "text/plain": [
              "   SeriousDlqin2yrs  ...  NumberOfDependents\n",
              "0                 1  ...                 2.0\n",
              "1                 0  ...                 1.0\n",
              "2                 0  ...                 0.0\n",
              "3                 0  ...                 0.0\n",
              "4                 0  ...                 0.0\n",
              "\n",
              "[5 rows x 11 columns]"
            ]
          },
          "metadata": {
            "tags": []
          },
          "execution_count": 11
        }
      ]
    },
    {
      "cell_type": "code",
      "metadata": {
        "id": "OzW9pygCMHPy",
        "colab": {
          "base_uri": "https://localhost:8080/",
          "height": 241
        },
        "outputId": "22f02a7a-a074-4ada-947d-df8d637bdafa"
      },
      "source": [
        "train_data.tail()"
      ],
      "execution_count": null,
      "outputs": [
        {
          "output_type": "execute_result",
          "data": {
            "text/html": [
              "<div>\n",
              "<style scoped>\n",
              "    .dataframe tbody tr th:only-of-type {\n",
              "        vertical-align: middle;\n",
              "    }\n",
              "\n",
              "    .dataframe tbody tr th {\n",
              "        vertical-align: top;\n",
              "    }\n",
              "\n",
              "    .dataframe thead th {\n",
              "        text-align: right;\n",
              "    }\n",
              "</style>\n",
              "<table border=\"1\" class=\"dataframe\">\n",
              "  <thead>\n",
              "    <tr style=\"text-align: right;\">\n",
              "      <th></th>\n",
              "      <th>SeriousDlqin2yrs</th>\n",
              "      <th>RevolvingUtilizationOfUnsecuredLines</th>\n",
              "      <th>age</th>\n",
              "      <th>NumberOfTime30-59DaysPastDueNotWorse</th>\n",
              "      <th>DebtRatio</th>\n",
              "      <th>MonthlyIncome</th>\n",
              "      <th>NumberOfOpenCreditLinesAndLoans</th>\n",
              "      <th>NumberOfTimes90DaysLate</th>\n",
              "      <th>NumberRealEstateLoansOrLines</th>\n",
              "      <th>NumberOfTime60-89DaysPastDueNotWorse</th>\n",
              "      <th>NumberOfDependents</th>\n",
              "    </tr>\n",
              "  </thead>\n",
              "  <tbody>\n",
              "    <tr>\n",
              "      <th>149995</th>\n",
              "      <td>0</td>\n",
              "      <td>0.040674</td>\n",
              "      <td>74</td>\n",
              "      <td>0</td>\n",
              "      <td>0.225131</td>\n",
              "      <td>2100.0</td>\n",
              "      <td>4</td>\n",
              "      <td>0</td>\n",
              "      <td>1</td>\n",
              "      <td>0</td>\n",
              "      <td>0.0</td>\n",
              "    </tr>\n",
              "    <tr>\n",
              "      <th>149996</th>\n",
              "      <td>0</td>\n",
              "      <td>0.299745</td>\n",
              "      <td>44</td>\n",
              "      <td>0</td>\n",
              "      <td>0.716562</td>\n",
              "      <td>5584.0</td>\n",
              "      <td>4</td>\n",
              "      <td>0</td>\n",
              "      <td>1</td>\n",
              "      <td>0</td>\n",
              "      <td>2.0</td>\n",
              "    </tr>\n",
              "    <tr>\n",
              "      <th>149997</th>\n",
              "      <td>0</td>\n",
              "      <td>0.246044</td>\n",
              "      <td>58</td>\n",
              "      <td>0</td>\n",
              "      <td>3870.000000</td>\n",
              "      <td>NaN</td>\n",
              "      <td>18</td>\n",
              "      <td>0</td>\n",
              "      <td>1</td>\n",
              "      <td>0</td>\n",
              "      <td>0.0</td>\n",
              "    </tr>\n",
              "    <tr>\n",
              "      <th>149998</th>\n",
              "      <td>0</td>\n",
              "      <td>0.000000</td>\n",
              "      <td>30</td>\n",
              "      <td>0</td>\n",
              "      <td>0.000000</td>\n",
              "      <td>5716.0</td>\n",
              "      <td>4</td>\n",
              "      <td>0</td>\n",
              "      <td>0</td>\n",
              "      <td>0</td>\n",
              "      <td>0.0</td>\n",
              "    </tr>\n",
              "    <tr>\n",
              "      <th>149999</th>\n",
              "      <td>0</td>\n",
              "      <td>0.850283</td>\n",
              "      <td>64</td>\n",
              "      <td>0</td>\n",
              "      <td>0.249908</td>\n",
              "      <td>8158.0</td>\n",
              "      <td>8</td>\n",
              "      <td>0</td>\n",
              "      <td>2</td>\n",
              "      <td>0</td>\n",
              "      <td>0.0</td>\n",
              "    </tr>\n",
              "  </tbody>\n",
              "</table>\n",
              "</div>"
            ],
            "text/plain": [
              "        SeriousDlqin2yrs  ...  NumberOfDependents\n",
              "149995                 0  ...                 0.0\n",
              "149996                 0  ...                 2.0\n",
              "149997                 0  ...                 0.0\n",
              "149998                 0  ...                 0.0\n",
              "149999                 0  ...                 0.0\n",
              "\n",
              "[5 rows x 11 columns]"
            ]
          },
          "metadata": {
            "tags": []
          },
          "execution_count": 12
        }
      ]
    },
    {
      "cell_type": "markdown",
      "metadata": {
        "id": "k0vtdpp8jLbP"
      },
      "source": [
        "1. SeriousDlqin2yrs:\n",
        "°  attribute indicates whether the borrower\n",
        "has experienced any past dues until 90 days in the previous 2 years.\n",
        "2. RevolvingUtilizationOfUnsecuredLines:\n",
        "° This attribute indicates the credit card limits of the borrower after\n",
        "excluding any current loan debt and real estate.\n",
        "3. Age:\n",
        "4. NumberOfTime30-59DaysPastDueNotWorse:\n",
        "° The number of this attribute indicates the number of times borrowers\n",
        "have paid their EMIs late but have paid them 30 days after the due\n",
        "date or 59 days before the due date.\n",
        "5. DebtRatio: If my monthly debt is 200 and my other expenditure is 500, then I\n",
        "spend 700 monthly. If my monthly income is $1,000, then the value\n",
        "of the DebtRatio is $700/$1,000 = 0.7000\n",
        "6. MonthlyIncome:\n",
        "°  monthly income of borrowers.\n",
        "7. NumberOfOpenCreditLinesAndLoans:\n",
        "° This attribute indicates the number of open loans and/or the number\n",
        "of credit cards the borrower holds.\n",
        "8. NumberOfTimes90DaysLate:\n",
        "° This attribute indicates how many times a borrower has paid their\n",
        "dues 90 days after the due date of their EMIs.\n",
        "9. NumberRealEstateLoansOrLines:\n",
        "° This attribute indicates the number of loans the borrower holds for\n",
        "their real estate or the number of home loans a borrower has.\n",
        "10. NumberOfTime60-89DaysPastDueNotWorse:\n",
        "° This attribute indicates how many times borrowers have paid their\n",
        "EMIs late but paid them 60 days after their due date or 89 days before\n",
        "their due date.\n",
        "11. NumberOfDependents:\n",
        "° This attribute is self-explanatory as well. It indicates the number\n",
        "of dependent family members the borrowers have. The dependent\n",
        "count is excluding the borrower"
      ]
    },
    {
      "cell_type": "code",
      "metadata": {
        "id": "X9DqVmDVMQtP",
        "colab": {
          "base_uri": "https://localhost:8080/"
        },
        "outputId": "f4a99a82-6a83-4000-c5ff-bf0f67f90c80"
      },
      "source": [
        "train_data.info()"
      ],
      "execution_count": null,
      "outputs": [
        {
          "output_type": "stream",
          "text": [
            "<class 'pandas.core.frame.DataFrame'>\n",
            "RangeIndex: 150000 entries, 0 to 149999\n",
            "Data columns (total 11 columns):\n",
            " #   Column                                Non-Null Count   Dtype  \n",
            "---  ------                                --------------   -----  \n",
            " 0   SeriousDlqin2yrs                      150000 non-null  int64  \n",
            " 1   RevolvingUtilizationOfUnsecuredLines  150000 non-null  float64\n",
            " 2   age                                   150000 non-null  int64  \n",
            " 3   NumberOfTime30-59DaysPastDueNotWorse  150000 non-null  int64  \n",
            " 4   DebtRatio                             150000 non-null  float64\n",
            " 5   MonthlyIncome                         120269 non-null  float64\n",
            " 6   NumberOfOpenCreditLinesAndLoans       150000 non-null  int64  \n",
            " 7   NumberOfTimes90DaysLate               150000 non-null  int64  \n",
            " 8   NumberRealEstateLoansOrLines          150000 non-null  int64  \n",
            " 9   NumberOfTime60-89DaysPastDueNotWorse  150000 non-null  int64  \n",
            " 10  NumberOfDependents                    146076 non-null  float64\n",
            "dtypes: float64(4), int64(7)\n",
            "memory usage: 12.6 MB\n"
          ],
          "name": "stdout"
        }
      ]
    },
    {
      "cell_type": "code",
      "metadata": {
        "id": "MyUUmJUYIhxy",
        "colab": {
          "base_uri": "https://localhost:8080/",
          "height": 334
        },
        "outputId": "8cac24f2-f987-4a61-966c-7a5d90fb0bca"
      },
      "source": [
        "train_data.describe()"
      ],
      "execution_count": null,
      "outputs": [
        {
          "output_type": "execute_result",
          "data": {
            "text/html": [
              "<div>\n",
              "<style scoped>\n",
              "    .dataframe tbody tr th:only-of-type {\n",
              "        vertical-align: middle;\n",
              "    }\n",
              "\n",
              "    .dataframe tbody tr th {\n",
              "        vertical-align: top;\n",
              "    }\n",
              "\n",
              "    .dataframe thead th {\n",
              "        text-align: right;\n",
              "    }\n",
              "</style>\n",
              "<table border=\"1\" class=\"dataframe\">\n",
              "  <thead>\n",
              "    <tr style=\"text-align: right;\">\n",
              "      <th></th>\n",
              "      <th>SeriousDlqin2yrs</th>\n",
              "      <th>RevolvingUtilizationOfUnsecuredLines</th>\n",
              "      <th>age</th>\n",
              "      <th>NumberOfTime30-59DaysPastDueNotWorse</th>\n",
              "      <th>DebtRatio</th>\n",
              "      <th>MonthlyIncome</th>\n",
              "      <th>NumberOfOpenCreditLinesAndLoans</th>\n",
              "      <th>NumberOfTimes90DaysLate</th>\n",
              "      <th>NumberRealEstateLoansOrLines</th>\n",
              "      <th>NumberOfTime60-89DaysPastDueNotWorse</th>\n",
              "      <th>NumberOfDependents</th>\n",
              "    </tr>\n",
              "  </thead>\n",
              "  <tbody>\n",
              "    <tr>\n",
              "      <th>count</th>\n",
              "      <td>150000.000000</td>\n",
              "      <td>150000.000000</td>\n",
              "      <td>150000.000000</td>\n",
              "      <td>150000.000000</td>\n",
              "      <td>150000.000000</td>\n",
              "      <td>1.202690e+05</td>\n",
              "      <td>150000.000000</td>\n",
              "      <td>150000.000000</td>\n",
              "      <td>150000.000000</td>\n",
              "      <td>150000.000000</td>\n",
              "      <td>146076.000000</td>\n",
              "    </tr>\n",
              "    <tr>\n",
              "      <th>mean</th>\n",
              "      <td>0.066840</td>\n",
              "      <td>6.048438</td>\n",
              "      <td>52.295207</td>\n",
              "      <td>0.421033</td>\n",
              "      <td>353.005076</td>\n",
              "      <td>6.670221e+03</td>\n",
              "      <td>8.452760</td>\n",
              "      <td>0.265973</td>\n",
              "      <td>1.018240</td>\n",
              "      <td>0.240387</td>\n",
              "      <td>0.757222</td>\n",
              "    </tr>\n",
              "    <tr>\n",
              "      <th>std</th>\n",
              "      <td>0.249746</td>\n",
              "      <td>249.755371</td>\n",
              "      <td>14.771866</td>\n",
              "      <td>4.192781</td>\n",
              "      <td>2037.818523</td>\n",
              "      <td>1.438467e+04</td>\n",
              "      <td>5.145951</td>\n",
              "      <td>4.169304</td>\n",
              "      <td>1.129771</td>\n",
              "      <td>4.155179</td>\n",
              "      <td>1.115086</td>\n",
              "    </tr>\n",
              "    <tr>\n",
              "      <th>min</th>\n",
              "      <td>0.000000</td>\n",
              "      <td>0.000000</td>\n",
              "      <td>0.000000</td>\n",
              "      <td>0.000000</td>\n",
              "      <td>0.000000</td>\n",
              "      <td>0.000000e+00</td>\n",
              "      <td>0.000000</td>\n",
              "      <td>0.000000</td>\n",
              "      <td>0.000000</td>\n",
              "      <td>0.000000</td>\n",
              "      <td>0.000000</td>\n",
              "    </tr>\n",
              "    <tr>\n",
              "      <th>25%</th>\n",
              "      <td>0.000000</td>\n",
              "      <td>0.029867</td>\n",
              "      <td>41.000000</td>\n",
              "      <td>0.000000</td>\n",
              "      <td>0.175074</td>\n",
              "      <td>3.400000e+03</td>\n",
              "      <td>5.000000</td>\n",
              "      <td>0.000000</td>\n",
              "      <td>0.000000</td>\n",
              "      <td>0.000000</td>\n",
              "      <td>0.000000</td>\n",
              "    </tr>\n",
              "    <tr>\n",
              "      <th>50%</th>\n",
              "      <td>0.000000</td>\n",
              "      <td>0.154181</td>\n",
              "      <td>52.000000</td>\n",
              "      <td>0.000000</td>\n",
              "      <td>0.366508</td>\n",
              "      <td>5.400000e+03</td>\n",
              "      <td>8.000000</td>\n",
              "      <td>0.000000</td>\n",
              "      <td>1.000000</td>\n",
              "      <td>0.000000</td>\n",
              "      <td>0.000000</td>\n",
              "    </tr>\n",
              "    <tr>\n",
              "      <th>75%</th>\n",
              "      <td>0.000000</td>\n",
              "      <td>0.559046</td>\n",
              "      <td>63.000000</td>\n",
              "      <td>0.000000</td>\n",
              "      <td>0.868254</td>\n",
              "      <td>8.249000e+03</td>\n",
              "      <td>11.000000</td>\n",
              "      <td>0.000000</td>\n",
              "      <td>2.000000</td>\n",
              "      <td>0.000000</td>\n",
              "      <td>1.000000</td>\n",
              "    </tr>\n",
              "    <tr>\n",
              "      <th>max</th>\n",
              "      <td>1.000000</td>\n",
              "      <td>50708.000000</td>\n",
              "      <td>109.000000</td>\n",
              "      <td>98.000000</td>\n",
              "      <td>329664.000000</td>\n",
              "      <td>3.008750e+06</td>\n",
              "      <td>58.000000</td>\n",
              "      <td>98.000000</td>\n",
              "      <td>54.000000</td>\n",
              "      <td>98.000000</td>\n",
              "      <td>20.000000</td>\n",
              "    </tr>\n",
              "  </tbody>\n",
              "</table>\n",
              "</div>"
            ],
            "text/plain": [
              "       SeriousDlqin2yrs  ...  NumberOfDependents\n",
              "count     150000.000000  ...       146076.000000\n",
              "mean           0.066840  ...            0.757222\n",
              "std            0.249746  ...            1.115086\n",
              "min            0.000000  ...            0.000000\n",
              "25%            0.000000  ...            0.000000\n",
              "50%            0.000000  ...            0.000000\n",
              "75%            0.000000  ...            1.000000\n",
              "max            1.000000  ...           20.000000\n",
              "\n",
              "[8 rows x 11 columns]"
            ]
          },
          "metadata": {
            "tags": []
          },
          "execution_count": 14
        }
      ]
    },
    {
      "cell_type": "code",
      "metadata": {
        "id": "6jn9h38sWO5Q",
        "colab": {
          "base_uri": "https://localhost:8080/",
          "height": 296
        },
        "outputId": "18989ecc-4ef0-4f76-ab47-996c45a9eb65"
      },
      "source": [
        "sns.countplot(x = train_data['SeriousDlqin2yrs'], data = train_data, palette=  \"RdBu_r\")"
      ],
      "execution_count": null,
      "outputs": [
        {
          "output_type": "execute_result",
          "data": {
            "text/plain": [
              "<matplotlib.axes._subplots.AxesSubplot at 0x7f05ec308828>"
            ]
          },
          "metadata": {
            "tags": []
          },
          "execution_count": 15
        },
        {
          "output_type": "display_data",
          "data": {
            "image/png": "[encoded data removed]",
            "text/plain": [
              "<Figure size 432x288 with 1 Axes>"
            ]
          },
          "metadata": {
            "tags": [],
            "needs_background": "light"
          }
        }
      ]
    },
    {
      "cell_type": "code",
      "metadata": {
        "id": "W_8_37bv0M1L",
        "colab": {
          "base_uri": "https://localhost:8080/"
        },
        "outputId": "c0be6ac0-0967-4378-e727-19315f4ffa3a"
      },
      "source": [
        "delinquency     = train_data[train_data['SeriousDlqin2yrs'] == 1]\n",
        "no_delinquency  = train_data[train_data['SeriousDlqin2yrs'] == 0]\n",
        "\n",
        "print(delinquency.shape, no_delinquency.shape)"
      ],
      "execution_count": null,
      "outputs": [
        {
          "output_type": "stream",
          "text": [
            "(10026, 11) (139974, 11)\n"
          ],
          "name": "stdout"
        }
      ]
    },
    {
      "cell_type": "markdown",
      "metadata": {
        "id": "OsNGiJKGmmvB"
      },
      "source": [
        "this indicates that the borrowers with Serious Delinquency in 2 years are very low compared to the total borrowers.\n",
        "So, this is a skewed or imbalanced  dataset in which one target class label is highly dominating the other class label.\n"
      ]
    },
    {
      "cell_type": "markdown",
      "metadata": {
        "id": "2m7GXrXYn7zm"
      },
      "source": [
        " we do some some basic Exploratory data analysis"
      ]
    },
    {
      "cell_type": "code",
      "metadata": {
        "id": "0VVqq699OA02",
        "colab": {
          "base_uri": "https://localhost:8080/"
        },
        "outputId": "5d27b700-94aa-4532-d24c-dfe01d9c8222"
      },
      "source": [
        "train_data.isnull().sum() #gives the attribute wise null values in the daatset"
      ],
      "execution_count": null,
      "outputs": [
        {
          "output_type": "execute_result",
          "data": {
            "text/plain": [
              "SeriousDlqin2yrs                            0\n",
              "RevolvingUtilizationOfUnsecuredLines        0\n",
              "age                                         0\n",
              "NumberOfTime30-59DaysPastDueNotWorse        0\n",
              "DebtRatio                                   0\n",
              "MonthlyIncome                           29731\n",
              "NumberOfOpenCreditLinesAndLoans             0\n",
              "NumberOfTimes90DaysLate                     0\n",
              "NumberRealEstateLoansOrLines                0\n",
              "NumberOfTime60-89DaysPastDueNotWorse        0\n",
              "NumberOfDependents                       3924\n",
              "dtype: int64"
            ]
          },
          "metadata": {
            "tags": []
          },
          "execution_count": 17
        }
      ]
    },
    {
      "cell_type": "code",
      "metadata": {
        "id": "ApsXEAyTMVJ2",
        "colab": {
          "base_uri": "https://localhost:8080/",
          "height": 495
        },
        "outputId": "34c5dcd0-3f4c-4ae2-bf1e-222a7fcacb03"
      },
      "source": [
        "plt.figure(figsize = (10,4))\n",
        "sns.heatmap(train_data.isnull(), yticklabels=False)"
      ],
      "execution_count": null,
      "outputs": [
        {
          "output_type": "execute_result",
          "data": {
            "text/plain": [
              "<matplotlib.axes._subplots.AxesSubplot at 0x7f05ecac3940>"
            ]
          },
          "metadata": {
            "tags": []
          },
          "execution_count": 18
        },
        {
          "output_type": "display_data",
          "data": {
            "image/png": "[encoded data removed]",
            "text/plain": [
              "<Figure size 720x288 with 2 Axes>"
            ]
          },
          "metadata": {
            "tags": [],
            "needs_background": "light"
          }
        }
      ]
    },
    {
      "cell_type": "markdown",
      "metadata": {
        "id": "aSPCaaRnoUb-"
      },
      "source": [
        "there are null values in Monthly Income and Number of Dependents, the former NaN values can be filled with mean of that attribute and the later can be with the median"
      ]
    },
    {
      "cell_type": "code",
      "metadata": {
        "id": "P8WrvToCGzV8"
      },
      "source": [
        "train_data['MonthlyIncome'] = train_data['MonthlyIncome'].fillna(train_data['MonthlyIncome'].mean())\n",
        "train_data['NumberOfDependents'] = train_data['NumberOfDependents'].fillna(train_data['NumberOfDependents'].median())"
      ],
      "execution_count": null,
      "outputs": []
    },
    {
      "cell_type": "code",
      "metadata": {
        "id": "seHoZ2KUJtnG",
        "colab": {
          "base_uri": "https://localhost:8080/"
        },
        "outputId": "d42e5e9c-f174-4542-eebf-45df61e87607"
      },
      "source": [
        "train_data.isnull().sum()"
      ],
      "execution_count": null,
      "outputs": [
        {
          "output_type": "execute_result",
          "data": {
            "text/plain": [
              "SeriousDlqin2yrs                        0\n",
              "RevolvingUtilizationOfUnsecuredLines    0\n",
              "age                                     0\n",
              "NumberOfTime30-59DaysPastDueNotWorse    0\n",
              "DebtRatio                               0\n",
              "MonthlyIncome                           0\n",
              "NumberOfOpenCreditLinesAndLoans         0\n",
              "NumberOfTimes90DaysLate                 0\n",
              "NumberRealEstateLoansOrLines            0\n",
              "NumberOfTime60-89DaysPastDueNotWorse    0\n",
              "NumberOfDependents                      0\n",
              "dtype: int64"
            ]
          },
          "metadata": {
            "tags": []
          },
          "execution_count": 20
        }
      ]
    },
    {
      "cell_type": "code",
      "metadata": {
        "id": "m3Cl22pGXHhS",
        "colab": {
          "base_uri": "https://localhost:8080/",
          "height": 459
        },
        "outputId": "943cc71a-923e-4443-af96-8edf93847c96"
      },
      "source": [
        "plt.figure(figsize = (10,6))\n",
        "#data['age'].hist(bins = 30, color = \"darkred\")\n",
        "sns.distplot(train_data['age'])"
      ],
      "execution_count": null,
      "outputs": [
        {
          "output_type": "stream",
          "text": [
            "/usr/local/lib/python3.6/dist-packages/seaborn/distributions.py:2551: FutureWarning: `distplot` is a deprecated function and will be removed in a future version. Please adapt your code to use either `displot` (a figure-level function with similar flexibility) or `histplot` (an axes-level function for histograms).\n",
            "  warnings.warn(msg, FutureWarning)\n"
          ],
          "name": "stderr"
        },
        {
          "output_type": "execute_result",
          "data": {
            "text/plain": [
              "<matplotlib.axes._subplots.AxesSubplot at 0x7f05ec35eef0>"
            ]
          },
          "metadata": {
            "tags": []
          },
          "execution_count": 21
        },
        {
          "output_type": "display_data",
          "data": {
            "image/png": "[encoded data removed]",
            "text/plain": [
              "<Figure size 720x432 with 1 Axes>"
            ]
          },
          "metadata": {
            "tags": [],
            "needs_background": "light"
          }
        }
      ]
    },
    {
      "cell_type": "code",
      "metadata": {
        "id": "_mOomXhwYv9j",
        "colab": {
          "base_uri": "https://localhost:8080/",
          "height": 350
        },
        "outputId": "f6669abe-bce4-4862-966f-9a234f4a6673"
      },
      "source": [
        "sns.countplot(train_data['NumberOfDependents'], data  = train_data)"
      ],
      "execution_count": null,
      "outputs": [
        {
          "output_type": "stream",
          "text": [
            "/usr/local/lib/python3.6/dist-packages/seaborn/_decorators.py:43: FutureWarning: Pass the following variable as a keyword arg: x. From version 0.12, the only valid positional argument will be `data`, and passing other arguments without an explicit keyword will result in an error or misinterpretation.\n",
            "  FutureWarning\n"
          ],
          "name": "stderr"
        },
        {
          "output_type": "execute_result",
          "data": {
            "text/plain": [
              "<matplotlib.axes._subplots.AxesSubplot at 0x7f05e89825f8>"
            ]
          },
          "metadata": {
            "tags": []
          },
          "execution_count": 22
        },
        {
          "output_type": "display_data",
          "data": {
            "image/png": "[encoded data removed]",
            "text/plain": [
              "<Figure size 432x288 with 1 Axes>"
            ]
          },
          "metadata": {
            "tags": [],
            "needs_background": "light"
          }
        }
      ]
    },
    {
      "cell_type": "code",
      "metadata": {
        "id": "hkRd8sg3ZJVS",
        "colab": {
          "base_uri": "https://localhost:8080/",
          "height": 493
        },
        "outputId": "8214837f-2bb4-45c1-f152-a6d38a1aaa30"
      },
      "source": [
        "plt.figure(figsize = (10,6))\n",
        "plt.subplot(1,2,1)\n",
        "sns.countplot(train_data['NumberOfTime30-59DaysPastDueNotWorse'], hue = 'SeriousDlqin2yrs', data = train_data)\n",
        "\n",
        "plt.subplot(1,2,2)\n",
        "sns.countplot(train_data['NumberOfTime60-89DaysPastDueNotWorse'], hue = 'SeriousDlqin2yrs', data = train_data)"
      ],
      "execution_count": null,
      "outputs": [
        {
          "output_type": "stream",
          "text": [
            "/usr/local/lib/python3.6/dist-packages/seaborn/_decorators.py:43: FutureWarning: Pass the following variable as a keyword arg: x. From version 0.12, the only valid positional argument will be `data`, and passing other arguments without an explicit keyword will result in an error or misinterpretation.\n",
            "  FutureWarning\n",
            "/usr/local/lib/python3.6/dist-packages/seaborn/_decorators.py:43: FutureWarning: Pass the following variable as a keyword arg: x. From version 0.12, the only valid positional argument will be `data`, and passing other arguments without an explicit keyword will result in an error or misinterpretation.\n",
            "  FutureWarning\n"
          ],
          "name": "stderr"
        },
        {
          "output_type": "execute_result",
          "data": {
            "text/plain": [
              "<matplotlib.axes._subplots.AxesSubplot at 0x7f05e8a81048>"
            ]
          },
          "metadata": {
            "tags": []
          },
          "execution_count": 23
        },
        {
          "output_type": "display_data",
          "data": {
            "image/png": "[encoded data removed]",
            "text/plain": [
              "<Figure size 720x432 with 2 Axes>"
            ]
          },
          "metadata": {
            "tags": [],
            "needs_background": "light"
          }
        }
      ]
    },
    {
      "cell_type": "code",
      "metadata": {
        "id": "5mfquFALPDh6",
        "colab": {
          "base_uri": "https://localhost:8080/",
          "height": 604
        },
        "outputId": "9704af84-81ce-41f6-b7b2-7a077d730ed1"
      },
      "source": [
        "plt.figure(figsize = (10,6))\n",
        "sns.heatmap(train_data.corr(), annot = True)"
      ],
      "execution_count": null,
      "outputs": [
        {
          "output_type": "execute_result",
          "data": {
            "text/plain": [
              "<matplotlib.axes._subplots.AxesSubplot at 0x7f05ecb73748>"
            ]
          },
          "metadata": {
            "tags": []
          },
          "execution_count": 24
        },
        {
          "output_type": "display_data",
          "data": {
            "image/png": "[encoded data removed]",
            "text/plain": [
              "<Figure size 720x432 with 2 Axes>"
            ]
          },
          "metadata": {
            "tags": [],
            "needs_background": "light"
          }
        }
      ]
    },
    {
      "cell_type": "markdown",
      "metadata": {
        "id": "BIvR705rpOmV"
      },
      "source": [
        "1. there is a high correlation between NumberOfTime30-59DaysPastDuebutNotWorse and NumberOfTime60-89DaysPastDuebutNotWorse\n",
        "2. there is a high correlation between NumberOfTimes90DaysLate and NumberOfTime30-59DaysPastDuebutNotWorse\n",
        "3. there is a high correlation between NumberOfTimes90DaysLate and NumberOfTime 60-89DaysPastDuebutNotWorse"
      ]
    },
    {
      "cell_type": "code",
      "metadata": {
        "id": "2K84grDpPh9N",
        "colab": {
          "base_uri": "https://localhost:8080/"
        },
        "outputId": "d84c4ef6-016f-43ae-8415-2e0dc5c725b5"
      },
      "source": [
        "import collections\n",
        "collections.Counter(train_data.age)"
      ],
      "execution_count": null,
      "outputs": [
        {
          "output_type": "execute_result",
          "data": {
            "text/plain": [
              "Counter({0: 1,\n",
              "         21: 183,\n",
              "         22: 434,\n",
              "         23: 641,\n",
              "         24: 816,\n",
              "         25: 953,\n",
              "         26: 1193,\n",
              "         27: 1338,\n",
              "         28: 1560,\n",
              "         29: 1702,\n",
              "         30: 1937,\n",
              "         31: 2038,\n",
              "         32: 2050,\n",
              "         33: 2239,\n",
              "         34: 2155,\n",
              "         35: 2246,\n",
              "         36: 2379,\n",
              "         37: 2521,\n",
              "         38: 2631,\n",
              "         39: 2987,\n",
              "         40: 3093,\n",
              "         41: 3122,\n",
              "         42: 3082,\n",
              "         43: 3208,\n",
              "         44: 3294,\n",
              "         45: 3502,\n",
              "         46: 3714,\n",
              "         47: 3719,\n",
              "         48: 3806,\n",
              "         49: 3837,\n",
              "         50: 3753,\n",
              "         51: 3627,\n",
              "         52: 3609,\n",
              "         53: 3648,\n",
              "         54: 3561,\n",
              "         55: 3416,\n",
              "         56: 3589,\n",
              "         57: 3375,\n",
              "         58: 3443,\n",
              "         59: 3280,\n",
              "         60: 3258,\n",
              "         61: 3522,\n",
              "         62: 3568,\n",
              "         63: 3719,\n",
              "         64: 3058,\n",
              "         65: 2594,\n",
              "         66: 2494,\n",
              "         67: 2503,\n",
              "         68: 2235,\n",
              "         69: 1954,\n",
              "         70: 1777,\n",
              "         71: 1646,\n",
              "         72: 1649,\n",
              "         73: 1520,\n",
              "         74: 1451,\n",
              "         75: 1241,\n",
              "         76: 1183,\n",
              "         77: 1099,\n",
              "         78: 1054,\n",
              "         79: 981,\n",
              "         80: 876,\n",
              "         81: 774,\n",
              "         82: 647,\n",
              "         83: 512,\n",
              "         84: 480,\n",
              "         85: 483,\n",
              "         86: 407,\n",
              "         87: 357,\n",
              "         88: 313,\n",
              "         89: 276,\n",
              "         90: 198,\n",
              "         91: 154,\n",
              "         92: 93,\n",
              "         93: 87,\n",
              "         94: 47,\n",
              "         95: 45,\n",
              "         96: 18,\n",
              "         97: 17,\n",
              "         98: 6,\n",
              "         99: 9,\n",
              "         101: 3,\n",
              "         102: 3,\n",
              "         103: 3,\n",
              "         105: 1,\n",
              "         107: 1,\n",
              "         109: 2})"
            ]
          },
          "metadata": {
            "tags": []
          },
          "execution_count": 25
        }
      ]
    },
    {
      "cell_type": "code",
      "metadata": {
        "id": "31knZGfsdT-l",
        "colab": {
          "base_uri": "https://localhost:8080/",
          "height": 391
        },
        "outputId": "96cc29f3-7eec-4d8b-b996-47c5e18ec0e3"
      },
      "source": [
        "plt.figure(figsize = (10,6))\n",
        "train_data['age'].plot.box()"
      ],
      "execution_count": null,
      "outputs": [
        {
          "output_type": "execute_result",
          "data": {
            "text/plain": [
              "<matplotlib.axes._subplots.AxesSubplot at 0x7f05ecac3ac8>"
            ]
          },
          "metadata": {
            "tags": []
          },
          "execution_count": 26
        },
        {
          "output_type": "display_data",
          "data": {
            "image/png": "[encoded data removed]",
            "text/plain": [
              "<Figure size 720x432 with 1 Axes>"
            ]
          },
          "metadata": {
            "tags": [],
            "needs_background": "light"
          }
        }
      ]
    },
    {
      "cell_type": "markdown",
      "metadata": {
        "id": "SksJ46r06QoJ"
      },
      "source": [
        "there are some outliers in age"
      ]
    },
    {
      "cell_type": "code",
      "metadata": {
        "id": "pbiQdk6J6cEz",
        "colab": {
          "base_uri": "https://localhost:8080/",
          "height": 391
        },
        "outputId": "ea090de9-af80-47f5-d2a5-87f0804ed69f"
      },
      "source": [
        "plt.figure(figsize = (10,6))\n",
        "train_data['NumberOfDependents'].plot.box()"
      ],
      "execution_count": null,
      "outputs": [
        {
          "output_type": "execute_result",
          "data": {
            "text/plain": [
              "<matplotlib.axes._subplots.AxesSubplot at 0x7f05e6cfd6d8>"
            ]
          },
          "metadata": {
            "tags": []
          },
          "execution_count": 27
        },
        {
          "output_type": "display_data",
          "data": {
            "image/png": "[encoded data removed]",
            "text/plain": [
              "<Figure size 720x432 with 1 Axes>"
            ]
          },
          "metadata": {
            "tags": [],
            "needs_background": "light"
          }
        }
      ]
    },
    {
      "cell_type": "markdown",
      "metadata": {
        "id": "dqFlgAEq61mp"
      },
      "source": [
        "there are many outliers in number of dependents"
      ]
    },
    {
      "cell_type": "code",
      "metadata": {
        "id": "0ad1oLz8dzmK",
        "colab": {
          "base_uri": "https://localhost:8080/"
        },
        "outputId": "a894b2aa-77cb-4c3a-f695-08e3fd01d711"
      },
      "source": [
        "collections.Counter(train_data['NumberOfTime30-59DaysPastDueNotWorse'])"
      ],
      "execution_count": null,
      "outputs": [
        {
          "output_type": "execute_result",
          "data": {
            "text/plain": [
              "Counter({0: 126018,\n",
              "         1: 16033,\n",
              "         2: 4598,\n",
              "         3: 1754,\n",
              "         4: 747,\n",
              "         5: 342,\n",
              "         6: 140,\n",
              "         7: 54,\n",
              "         8: 25,\n",
              "         9: 12,\n",
              "         10: 4,\n",
              "         11: 1,\n",
              "         12: 2,\n",
              "         13: 1,\n",
              "         96: 5,\n",
              "         98: 264})"
            ]
          },
          "metadata": {
            "tags": []
          },
          "execution_count": 28
        }
      ]
    },
    {
      "cell_type": "markdown",
      "metadata": {
        "id": "_gqNeVLusT8k"
      },
      "source": [
        "1. there are 5 borrowers who paid the credit card bill between 30-59 days after the due date 96 times\n",
        "2. there are 264 borrowers who paid the credit card bill between 30-59 days after the due date 98 times\n",
        "3. probably they were outliers or the one who are Seriously Deliquent as Credit card Defaulters prediction itself is a problem of outliers prediction"
      ]
    },
    {
      "cell_type": "code",
      "metadata": {
        "id": "KwodDXbz7AyC",
        "colab": {
          "base_uri": "https://localhost:8080/",
          "height": 391
        },
        "outputId": "a95a0d14-5fae-4d27-e831-b750b41b0c56"
      },
      "source": [
        "plt.figure(figsize = (8,6))\n",
        "train_data['NumberOfTime30-59DaysPastDueNotWorse'].plot.box() # for better visualization we should plot this for people who have serious delinquency"
      ],
      "execution_count": null,
      "outputs": [
        {
          "output_type": "execute_result",
          "data": {
            "text/plain": [
              "<matplotlib.axes._subplots.AxesSubplot at 0x7f05e6ceadd8>"
            ]
          },
          "metadata": {
            "tags": []
          },
          "execution_count": 29
        },
        {
          "output_type": "display_data",
          "data": {
            "image/png": "[encoded data removed]",
            "text/plain": [
              "<Figure size 576x432 with 1 Axes>"
            ]
          },
          "metadata": {
            "tags": [],
            "needs_background": "light"
          }
        }
      ]
    },
    {
      "cell_type": "code",
      "metadata": {
        "id": "HaKrUkQimYZ_",
        "colab": {
          "base_uri": "https://localhost:8080/"
        },
        "outputId": "852317aa-86ce-4918-d0cf-f34942ca8897"
      },
      "source": [
        "collections.Counter(train_data['NumberOfTime60-89DaysPastDueNotWorse'])"
      ],
      "execution_count": null,
      "outputs": [
        {
          "output_type": "execute_result",
          "data": {
            "text/plain": [
              "Counter({0: 142396,\n",
              "         1: 5731,\n",
              "         2: 1118,\n",
              "         3: 318,\n",
              "         4: 105,\n",
              "         5: 34,\n",
              "         6: 16,\n",
              "         7: 9,\n",
              "         8: 2,\n",
              "         9: 1,\n",
              "         11: 1,\n",
              "         96: 5,\n",
              "         98: 264})"
            ]
          },
          "metadata": {
            "tags": []
          },
          "execution_count": 30
        }
      ]
    },
    {
      "cell_type": "markdown",
      "metadata": {
        "id": "4trMQbCXiHGR"
      },
      "source": [
        "Feature Importance"
      ]
    },
    {
      "cell_type": "code",
      "metadata": {
        "id": "1r2E5bUwiLTc"
      },
      "source": [
        "from sklearn.ensemble import RandomForestClassifier"
      ],
      "execution_count": null,
      "outputs": []
    },
    {
      "cell_type": "code",
      "metadata": {
        "id": "opadhDKBixYt",
        "colab": {
          "base_uri": "https://localhost:8080/"
        },
        "outputId": "d535e12c-5766-4d73-e19d-944e8d9d548d"
      },
      "source": [
        "train_data.columns"
      ],
      "execution_count": null,
      "outputs": [
        {
          "output_type": "execute_result",
          "data": {
            "text/plain": [
              "Index(['SeriousDlqin2yrs', 'RevolvingUtilizationOfUnsecuredLines', 'age',\n",
              "       'NumberOfTime30-59DaysPastDueNotWorse', 'DebtRatio', 'MonthlyIncome',\n",
              "       'NumberOfOpenCreditLinesAndLoans', 'NumberOfTimes90DaysLate',\n",
              "       'NumberRealEstateLoansOrLines', 'NumberOfTime60-89DaysPastDueNotWorse',\n",
              "       'NumberOfDependents'],\n",
              "      dtype='object')"
            ]
          },
          "metadata": {
            "tags": []
          },
          "execution_count": 32
        }
      ]
    },
    {
      "cell_type": "code",
      "metadata": {
        "id": "P3q7Il7Gt7Bn"
      },
      "source": [
        "columns = ['RevolvingUtilizationOfUnsecuredLines', 'age',\n",
        "       'NumberOfTime30-59DaysPastDueNotWorse', 'DebtRatio', 'MonthlyIncome',\n",
        "       'NumberOfOpenCreditLinesAndLoans', 'NumberOfTimes90DaysLate',\n",
        "       'NumberRealEstateLoansOrLines', 'NumberOfTime60-89DaysPastDueNotWorse',\n",
        "       'NumberOfDependents']"
      ],
      "execution_count": null,
      "outputs": []
    },
    {
      "cell_type": "code",
      "metadata": {
        "id": "tOqnxmyZiLfQ"
      },
      "source": [
        "X_train = train_data.drop('SeriousDlqin2yrs', axis = 1)\n",
        "y_train = np.array(train_data['SeriousDlqin2yrs'])"
      ],
      "execution_count": null,
      "outputs": []
    },
    {
      "cell_type": "code",
      "metadata": {
        "id": "1Y8KtH6gjuz4"
      },
      "source": [
        "from sklearn.preprocessing import StandardScaler\n",
        "from sklearn.pipeline import Pipeline"
      ],
      "execution_count": null,
      "outputs": []
    },
    {
      "cell_type": "markdown",
      "metadata": {
        "id": "XALSRR-SlIcL"
      },
      "source": [
        "**Standardization of a dataset is a common requirement for many machine learning estimators: they might behave badly if the individual features do not more or less look like standard normally distributed data (e.g. Gaussian with 0 mean and unit variance)**.\n",
        "**Standardize features by removing the mean and scaling to unit variance**"
      ]
    },
    {
      "cell_type": "code",
      "metadata": {
        "id": "P94GNBYquBIT"
      },
      "source": [
        "X_train_columns = ['RevolvingUtilizationOfUnsecuredLines', 'age',\n",
        "       'NumberOfTime30-59DaysPastDueNotWorse', 'DebtRatio', 'MonthlyIncome',\n",
        "       'NumberOfOpenCreditLinesAndLoans', 'NumberOfTimes90DaysLate',\n",
        "       'NumberRealEstateLoansOrLines', 'NumberOfTime60-89DaysPastDueNotWorse',\n",
        "       'NumberOfDependents']"
      ],
      "execution_count": null,
      "outputs": []
    },
    {
      "cell_type": "code",
      "metadata": {
        "id": "oe7omHoSmwju"
      },
      "source": [
        "scaler = StandardScaler()\n",
        "\n",
        "scaler.fit(X_train)\n",
        "\n",
        "X_train = scaler.transform(X_train)"
      ],
      "execution_count": null,
      "outputs": []
    },
    {
      "cell_type": "code",
      "metadata": {
        "id": "MzVGsBQKtuuO"
      },
      "source": [
        "X_train = pd.DataFrame(X_train)"
      ],
      "execution_count": null,
      "outputs": []
    },
    {
      "cell_type": "code",
      "metadata": {
        "id": "rrXr7kQtiLif"
      },
      "source": [
        "forest = RandomForestClassifier(n_estimators=100)"
      ],
      "execution_count": null,
      "outputs": []
    },
    {
      "cell_type": "code",
      "metadata": {
        "id": "A8wh2-JP4Ma8",
        "colab": {
          "base_uri": "https://localhost:8080/"
        },
        "outputId": "e2a36dd3-6e5f-437d-ce50-8be25b666677"
      },
      "source": [
        "forest.fit(X_train, y_train)"
      ],
      "execution_count": null,
      "outputs": [
        {
          "output_type": "execute_result",
          "data": {
            "text/plain": [
              "RandomForestClassifier(bootstrap=True, ccp_alpha=0.0, class_weight=None,\n",
              "                       criterion='gini', max_depth=None, max_features='auto',\n",
              "                       max_leaf_nodes=None, max_samples=None,\n",
              "                       min_impurity_decrease=0.0, min_impurity_split=None,\n",
              "                       min_samples_leaf=1, min_samples_split=2,\n",
              "                       min_weight_fraction_leaf=0.0, n_estimators=100,\n",
              "                       n_jobs=None, oob_score=False, random_state=None,\n",
              "                       verbose=0, warm_start=False)"
            ]
          },
          "metadata": {
            "tags": []
          },
          "execution_count": 40
        }
      ]
    },
    {
      "cell_type": "code",
      "metadata": {
        "id": "ggO2Dyh5jU8S",
        "colab": {
          "base_uri": "https://localhost:8080/"
        },
        "outputId": "88b24f3f-fee6-420f-9c89-5585b26761a5"
      },
      "source": [
        "importances = forest.feature_importances_\n",
        "importances"
      ],
      "execution_count": null,
      "outputs": [
        {
          "output_type": "execute_result",
          "data": {
            "text/plain": [
              "array([0.19232663, 0.12707946, 0.04812223, 0.17743878, 0.14815886,\n",
              "       0.08920661, 0.09220135, 0.03462479, 0.04861403, 0.04222725])"
            ]
          },
          "metadata": {
            "tags": []
          },
          "execution_count": 41
        }
      ]
    },
    {
      "cell_type": "code",
      "metadata": {
        "id": "0uPh9KCQjcyu",
        "colab": {
          "base_uri": "https://localhost:8080/",
          "height": 296
        },
        "outputId": "a1f9a319-4dcd-436c-ff6d-b7d2cbab20b7"
      },
      "source": [
        "plt.figure(figsize = (10,10))\n",
        "Importance = pd.DataFrame({'Importance':importances*100}, index=X_train_columns)\n",
        "Importance.sort_values('Importance', axis=0, ascending=True).plot(kind='barh', color='r', )\n",
        "plt.xlabel('Variable Importance')\n",
        "plt.gca().legend_ = None"
      ],
      "execution_count": null,
      "outputs": [
        {
          "output_type": "display_data",
          "data": {
            "text/plain": [
              "<Figure size 720x720 with 0 Axes>"
            ]
          },
          "metadata": {
            "tags": []
          }
        },
        {
          "output_type": "display_data",
          "data": {
            "image/png": "[encoded data removed]",
            "text/plain": [
              "<Figure size 432x288 with 1 Axes>"
            ]
          },
          "metadata": {
            "tags": [],
            "needs_background": "light"
          }
        }
      ]
    },
    {
      "cell_type": "markdown",
      "metadata": {
        "id": "mJ-eIQyrt8qc"
      },
      "source": [
        "RevolvingUtilizationOfUnsecuredLines and DebtRatio , MonthlyIncome are comparatively important features in predicting the target class \"SeriousDelinqIn2Years'"
      ]
    },
    {
      "cell_type": "markdown",
      "metadata": {
        "id": "4ula93Tnu__3"
      },
      "source": [
        "In the below codes, we can see why predictive models directly applied on this dataset gives mislead results"
      ]
    },
    {
      "cell_type": "code",
      "metadata": {
        "id": "oasM67fs5OOi"
      },
      "source": [
        "from sklearn.linear_model import LogisticRegression\n",
        "from sklearn.ensemble import AdaBoostClassifier, GradientBoostingClassifier, RandomForestClassifier\n",
        "from sklearn.neighbors import KNeighborsClassifier"
      ],
      "execution_count": null,
      "outputs": []
    },
    {
      "cell_type": "code",
      "metadata": {
        "id": "2oD35USTAkcz"
      },
      "source": [
        "from sklearn.model_selection import train_test_split "
      ],
      "execution_count": null,
      "outputs": []
    },
    {
      "cell_type": "code",
      "metadata": {
        "id": "97eBQkRCArDA"
      },
      "source": [
        "X_train_1, X_test_1, y_train_1, y_test_1 = train_test_split(X_train, y_train, test_size=0.33, random_state=42)"
      ],
      "execution_count": null,
      "outputs": []
    },
    {
      "cell_type": "code",
      "metadata": {
        "id": "tr5sBtjgYOtY",
        "colab": {
          "base_uri": "https://localhost:8080/"
        },
        "outputId": "c005d79b-6928-44d6-f4bb-437eb98a86c4"
      },
      "source": [
        "from sklearn.linear_model import SGDClassifier\n",
        "sgd_clf = SGDClassifier()\n",
        "\n",
        "sgd_clf.fit(X_train_1, y_train_1)"
      ],
      "execution_count": null,
      "outputs": [
        {
          "output_type": "execute_result",
          "data": {
            "text/plain": [
              "SGDClassifier(alpha=0.0001, average=False, class_weight=None,\n",
              "              early_stopping=False, epsilon=0.1, eta0=0.0, fit_intercept=True,\n",
              "              l1_ratio=0.15, learning_rate='optimal', loss='hinge',\n",
              "              max_iter=1000, n_iter_no_change=5, n_jobs=None, penalty='l2',\n",
              "              power_t=0.5, random_state=None, shuffle=True, tol=0.001,\n",
              "              validation_fraction=0.1, verbose=0, warm_start=False)"
            ]
          },
          "metadata": {
            "tags": []
          },
          "execution_count": 46
        }
      ]
    },
    {
      "cell_type": "markdown",
      "metadata": {
        "id": "KiVINJcGu2Lf"
      },
      "source": [
        "**Linear classifiers (SVM, logistic regression, etc.) with SGD training.\n",
        "\n",
        "This estimator implements regularized linear models with stochastic gradient descent (SGD) learning: the gradient of the loss is estimated each sample at a time and the model is updated along the way with a decreasing strength schedule (aka learning rate). SGD allows minibatch (online/out-of-core) learning via the partial_fit method. For best results using the default learning rate schedule, the data should have zero mean and unit variance.**"
      ]
    },
    {
      "cell_type": "code",
      "metadata": {
        "id": "C6cdUqGq3hCV",
        "colab": {
          "base_uri": "https://localhost:8080/"
        },
        "outputId": "af6eda78-9423-444e-b6cc-a09b37f34bfb"
      },
      "source": [
        "y_train_1"
      ],
      "execution_count": null,
      "outputs": [
        {
          "output_type": "execute_result",
          "data": {
            "text/plain": [
              "array([0, 0, 0, ..., 0, 0, 0])"
            ]
          },
          "metadata": {
            "tags": []
          },
          "execution_count": 47
        }
      ]
    },
    {
      "cell_type": "code",
      "metadata": {
        "id": "WKGFqQQFeBx5",
        "colab": {
          "base_uri": "https://localhost:8080/"
        },
        "outputId": "4bb15f78-917a-4b5f-ec3d-8fea9d5b1467"
      },
      "source": [
        "from sklearn.metrics import confusion_matrix, classification_report, accuracy_score\n",
        "from sklearn.model_selection import cross_val_predict\n",
        "\n",
        "y_pred  = cross_val_predict(sgd_clf, X_train_1, y_train_1, cv = 3)\n",
        "\n",
        "print(confusion_matrix(y_train_1, y_pred))\n",
        "print(\"\\n\")\n",
        "print(classification_report(y_train_1,y_pred))"
      ],
      "execution_count": null,
      "outputs": [
        {
          "output_type": "stream",
          "text": [
            "[[93671    56]\n",
            " [ 6709    64]]\n",
            "\n",
            "\n",
            "              precision    recall  f1-score   support\n",
            "\n",
            "           0       0.93      1.00      0.97     93727\n",
            "           1       0.53      0.01      0.02      6773\n",
            "\n",
            "    accuracy                           0.93    100500\n",
            "   macro avg       0.73      0.50      0.49    100500\n",
            "weighted avg       0.91      0.93      0.90    100500\n",
            "\n"
          ],
          "name": "stdout"
        }
      ]
    },
    {
      "cell_type": "markdown",
      "metadata": {
        "id": "EDX8H3Ui5GhQ"
      },
      "source": [
        "**quite a bad precision and recall. the model is unable to predict the borrowers who have serious credit card delinquency in 2 years which is the objective of our problem**"
      ]
    },
    {
      "cell_type": "code",
      "metadata": {
        "id": "d1hxL7sAYOnn",
        "colab": {
          "base_uri": "https://localhost:8080/"
        },
        "outputId": "8ac6491c-54c5-4666-e7dc-0d54a597c7dd"
      },
      "source": [
        "from sklearn.model_selection import cross_val_score\n",
        "\n",
        "cross_val_score(sgd_clf, X_train, y_train,cv = 10, scoring = \"accuracy\")"
      ],
      "execution_count": null,
      "outputs": [
        {
          "output_type": "execute_result",
          "data": {
            "text/plain": [
              "array([0.9334    , 0.93293333, 0.933     , 0.93306667, 0.9332    ,\n",
              "       0.93313333, 0.9336    , 0.9332    , 0.93326667, 0.93373333])"
            ]
          },
          "metadata": {
            "tags": []
          },
          "execution_count": 49
        }
      ]
    },
    {
      "cell_type": "markdown",
      "metadata": {
        "id": "NII07rRPeWhx"
      },
      "source": [
        "This demonstrates why accuracy is generally not the preferred performance measure for classifiers, especially when you are dealing with skewed datasets (i.e., when some classes are much more frequent than others)."
      ]
    },
    {
      "cell_type": "code",
      "metadata": {
        "id": "z2G7DsCZeCN8",
        "colab": {
          "base_uri": "https://localhost:8080/"
        },
        "outputId": "45e7d3ec-51a5-4adf-b07d-332ef3463447"
      },
      "source": [
        "from sklearn.metrics import precision_score, recall_score, f1_score\n",
        "\n",
        "print(\"Accuracy on Cross-validation :\",cross_val_score(sgd_clf, X_train, y_train,cv = 5, scoring = \"accuracy\"))\n",
        "print(\"\\n\")\n",
        "print(\"precision_score:\",precision_score(y_train_1, y_pred))\n",
        "print(\"\\n\")\n",
        "print(\"recall_score:\",recall_score(y_train_1,y_pred))\n",
        "print(\"\\n\")\n",
        "print(\"f1score:\", f1_score(y_train_1, y_pred))"
      ],
      "execution_count": null,
      "outputs": [
        {
          "output_type": "stream",
          "text": [
            "Accuracy on Cross-validation : [0.93316667 0.93306667 0.9331     0.93316667 0.93316667]\n",
            "\n",
            "\n",
            "precision_score: 0.5333333333333333\n",
            "\n",
            "\n",
            "recall_score: 0.009449283921452828\n",
            "\n",
            "\n",
            "f1score: 0.018569563325112434\n"
          ],
          "name": "stdout"
        }
      ]
    },
    {
      "cell_type": "markdown",
      "metadata": {
        "id": "YqhxgLpshfH-"
      },
      "source": [
        "VERy BAd\n",
        "We can see that although cross-val accuracy is quite satisfactory, **precision recall scores are below-par**. \n",
        "Therefore, accuracy isn't only the metric for generalization of the model.\n",
        "\n",
        "\n",
        "\n",
        "\n",
        "\n"
      ]
    },
    {
      "cell_type": "code",
      "metadata": {
        "id": "3c6sEuXaeCIs"
      },
      "source": [
        "from sklearn.metrics import precision_recall_curve\n",
        "\n",
        "precision, recall , thresholds = precision_recall_curve(y_train_1, y_pred)"
      ],
      "execution_count": null,
      "outputs": []
    },
    {
      "cell_type": "code",
      "metadata": {
        "id": "5TlH9_xL9I4Z",
        "colab": {
          "base_uri": "https://localhost:8080/"
        },
        "outputId": "c74d91ee-c5c4-4959-ab0e-33a3f4b2bc41"
      },
      "source": [
        "precision"
      ],
      "execution_count": null,
      "outputs": [
        {
          "output_type": "execute_result",
          "data": {
            "text/plain": [
              "array([0.06739303, 0.53333333, 1.        ])"
            ]
          },
          "metadata": {
            "tags": []
          },
          "execution_count": 52
        }
      ]
    },
    {
      "cell_type": "code",
      "metadata": {
        "id": "eljHoeSH9Ysv",
        "colab": {
          "base_uri": "https://localhost:8080/"
        },
        "outputId": "f4e84f4b-4c96-4fee-aad3-9aae8d8ec8f2"
      },
      "source": [
        "thresholds"
      ],
      "execution_count": null,
      "outputs": [
        {
          "output_type": "execute_result",
          "data": {
            "text/plain": [
              "array([0, 1])"
            ]
          },
          "metadata": {
            "tags": []
          },
          "execution_count": 53
        }
      ]
    },
    {
      "cell_type": "code",
      "metadata": {
        "id": "ddKH19Jz9Y9-",
        "colab": {
          "base_uri": "https://localhost:8080/"
        },
        "outputId": "9241590e-c16a-4d20-bae3-9156960cf707"
      },
      "source": [
        "recall"
      ],
      "execution_count": null,
      "outputs": [
        {
          "output_type": "execute_result",
          "data": {
            "text/plain": [
              "array([1.        , 0.00944928, 0.        ])"
            ]
          },
          "metadata": {
            "tags": []
          },
          "execution_count": 54
        }
      ]
    },
    {
      "cell_type": "code",
      "metadata": {
        "id": "y-o58_aceBvj",
        "colab": {
          "base_uri": "https://localhost:8080/",
          "height": 279
        },
        "outputId": "66a12bd3-5719-40a8-be72-d8a1e29f5a82"
      },
      "source": [
        "def plot_precision_recall_vs_threshold(precision, recall, thresholds):\n",
        "  plt.plot(thresholds, precision[:-1], \"b--\",label = \"Precision\")\n",
        "  plt.plot(thresholds, recall[:-1], \"g-\", label = \"Recall\")  \n",
        "\n",
        "plot_precision_recall_vs_threshold(precision, recall, thresholds)\n",
        "plt.xlabel(\"precision\")\n",
        "plt.ylabel(\"recall\")\n",
        "plt.legend()\n",
        "plt.show()"
      ],
      "execution_count": null,
      "outputs": [
        {
          "output_type": "display_data",
          "data": {
            "image/png": "[encoded data removed]",
            "text/plain": [
              "<Figure size 432x288 with 1 Axes>"
            ]
          },
          "metadata": {
            "tags": [],
            "needs_background": "light"
          }
        }
      ]
    },
    {
      "cell_type": "code",
      "metadata": {
        "id": "n2x0MskKeBsK"
      },
      "source": [
        "from sklearn.metrics import roc_curve\n",
        "fpr, tpr, thresholds = roc_curve(y_train_1, y_pred)"
      ],
      "execution_count": null,
      "outputs": []
    },
    {
      "cell_type": "code",
      "metadata": {
        "id": "Cb-PSj7KxI14",
        "colab": {
          "base_uri": "https://localhost:8080/"
        },
        "outputId": "de79ecca-b9d5-41a2-eed2-1c23ef5dbce9"
      },
      "source": [
        "fpr"
      ],
      "execution_count": null,
      "outputs": [
        {
          "output_type": "execute_result",
          "data": {
            "text/plain": [
              "array([0.00000000e+00, 5.97479915e-04, 1.00000000e+00])"
            ]
          },
          "metadata": {
            "tags": []
          },
          "execution_count": 57
        }
      ]
    },
    {
      "cell_type": "code",
      "metadata": {
        "id": "-FwfU0rbxSQU",
        "colab": {
          "base_uri": "https://localhost:8080/"
        },
        "outputId": "4a6f459d-9cae-4c46-90d0-ba9cbeccde0e"
      },
      "source": [
        "tpr"
      ],
      "execution_count": null,
      "outputs": [
        {
          "output_type": "execute_result",
          "data": {
            "text/plain": [
              "array([0.        , 0.00944928, 1.        ])"
            ]
          },
          "metadata": {
            "tags": []
          },
          "execution_count": 58
        }
      ]
    },
    {
      "cell_type": "code",
      "metadata": {
        "id": "3JFeoZyLxWuY",
        "colab": {
          "base_uri": "https://localhost:8080/"
        },
        "outputId": "20edae85-01eb-43d1-e5de-c4b5892067a3"
      },
      "source": [
        "y_train[456]"
      ],
      "execution_count": null,
      "outputs": [
        {
          "output_type": "execute_result",
          "data": {
            "text/plain": [
              "0"
            ]
          },
          "metadata": {
            "tags": []
          },
          "execution_count": 59
        }
      ]
    },
    {
      "cell_type": "code",
      "metadata": {
        "id": "ozRrxYYdzbTv",
        "colab": {
          "base_uri": "https://localhost:8080/"
        },
        "outputId": "5ca2e2dc-d1db-4776-bf9a-e58582f4f4fe"
      },
      "source": [
        "y_train"
      ],
      "execution_count": null,
      "outputs": [
        {
          "output_type": "execute_result",
          "data": {
            "text/plain": [
              "array([1, 0, 0, ..., 0, 0, 0])"
            ]
          },
          "metadata": {
            "tags": []
          },
          "execution_count": 60
        }
      ]
    },
    {
      "cell_type": "code",
      "metadata": {
        "id": "GSlq6VZ_eBnc",
        "colab": {
          "base_uri": "https://localhost:8080/",
          "height": 265
        },
        "outputId": "14060a9f-4434-41f7-e103-6dd994e0988e"
      },
      "source": [
        "def plot_roc_curve(fpr, tpr, label=None):\n",
        "    plt.plot(fpr, tpr, linewidth=2, label=label)\n",
        "    plt.plot([0, 1], [0, 1], 'k--') # Dashed diagonal\n",
        "   \n",
        "\n",
        "plot_roc_curve(fpr, tpr)\n",
        "plt.show()"
      ],
      "execution_count": null,
      "outputs": [
        {
          "output_type": "display_data",
          "data": {
            "image/png": "[encoded data removed]",
            "text/plain": [
              "<Figure size 432x288 with 1 Axes>"
            ]
          },
          "metadata": {
            "tags": [],
            "needs_background": "light"
          }
        }
      ]
    },
    {
      "cell_type": "markdown",
      "metadata": {
        "id": "DuUlMxNZA-me"
      },
      "source": [
        "*Reasons for our model making poor predictions are*\n",
        " **the dataset is a skewed one which has about 140000 rows of no serious delinquency and only 10000 rows of serious delinquency. therefore, our model is trained well on *\"no serios delinquency\"* and poorly trained on \"serious delinquency \" **\n",
        "there are many methods for dealing such datasets\n",
        "1. **UnderSampling**\n",
        "it will copy of all the less numbered lables, in our case about 10000 of \"serious delinquency and only takes 10000 of \"no serious delinquncy\" labels\n",
        "2. **Oversampling**\n",
        "it will copy all 140000 rows of \"no serious delinquncy\" labels and clone the 10000 rows of \"serious delinquency\" upto 140000 rows.\n",
        "  **this is comparatively better method than Undersampling**\n",
        "3. **combining both undersampling and oversampling**\n",
        "combines both undersampling and oversampling and improves the **computational power**\n"
      ]
    },
    {
      "cell_type": "code",
      "metadata": {
        "id": "DykVxZjjsFT6",
        "colab": {
          "base_uri": "https://localhost:8080/"
        },
        "outputId": "90d77f99-485a-4db5-e881-916c5c08b57f"
      },
      "source": [
        "delinquency     = train_data[train_data['SeriousDlqin2yrs'] == 1]\n",
        "no_delinquency  = train_data[train_data['SeriousDlqin2yrs'] == 0]\n",
        "\n",
        "print(delinquency.shape, no_delinquency.shape)"
      ],
      "execution_count": null,
      "outputs": [
        {
          "output_type": "stream",
          "text": [
            "(10026, 11) (139974, 11)\n"
          ],
          "name": "stdout"
        }
      ]
    },
    {
      "cell_type": "code",
      "metadata": {
        "id": "VtSwycVUJ1Fj",
        "colab": {
          "base_uri": "https://localhost:8080/"
        },
        "outputId": "3217209a-26a6-4da4-882d-fbd4818f88de"
      },
      "source": [
        "from imblearn.under_sampling import NearMiss  #imbalnced learning \n",
        "\n",
        "nm = NearMiss(random_state = 42)\n",
        "\n",
        "X_us, y_us = nm.fit_sample(X_train, y_train)"
      ],
      "execution_count": null,
      "outputs": [
        {
          "output_type": "stream",
          "text": [
            "/usr/local/lib/python3.6/dist-packages/sklearn/externals/six.py:31: FutureWarning: The module is deprecated in version 0.21 and will be removed in version 0.23 since we've dropped support for Python 2.7. Please rely on the official version of six (https://pypi.org/project/six/).\n",
            "  \"(https://pypi.org/project/six/).\", FutureWarning)\n",
            "/usr/local/lib/python3.6/dist-packages/sklearn/utils/deprecation.py:144: FutureWarning: The sklearn.neighbors.base module is  deprecated in version 0.22 and will be removed in version 0.24. The corresponding classes / functions should instead be imported from sklearn.neighbors. Anything that cannot be imported from sklearn.neighbors is now part of the private API.\n",
            "  warnings.warn(message, FutureWarning)\n",
            "/usr/local/lib/python3.6/dist-packages/sklearn/utils/deprecation.py:87: FutureWarning: Function safe_indexing is deprecated; safe_indexing is deprecated in version 0.22 and will be removed in version 0.24.\n",
            "  warnings.warn(msg, category=FutureWarning)\n",
            "/usr/local/lib/python3.6/dist-packages/sklearn/utils/deprecation.py:87: FutureWarning: Function safe_indexing is deprecated; safe_indexing is deprecated in version 0.22 and will be removed in version 0.24.\n",
            "  warnings.warn(msg, category=FutureWarning)\n",
            "/usr/local/lib/python3.6/dist-packages/sklearn/utils/deprecation.py:87: FutureWarning: Function safe_indexing is deprecated; safe_indexing is deprecated in version 0.22 and will be removed in version 0.24.\n",
            "  warnings.warn(msg, category=FutureWarning)\n"
          ],
          "name": "stderr"
        }
      ]
    },
    {
      "cell_type": "code",
      "metadata": {
        "id": "L_P1-LyMvtgT",
        "colab": {
          "base_uri": "https://localhost:8080/"
        },
        "outputId": "468599d9-0949-4e38-9e5b-109b8a2caff6"
      },
      "source": [
        "from collections import Counter\n",
        "print(\"Original data shape{}\".format(Counter(y_train)))\n",
        "print(\"Undersampled data shape{}\".format(Counter(y_us)))"
      ],
      "execution_count": null,
      "outputs": [
        {
          "output_type": "stream",
          "text": [
            "Original data shapeCounter({0: 139974, 1: 10026})\n",
            "Undersampled data shapeCounter({0: 10026, 1: 10026})\n"
          ],
          "name": "stdout"
        }
      ]
    },
    {
      "cell_type": "code",
      "metadata": {
        "id": "aYwR03-fs6e-",
        "colab": {
          "base_uri": "https://localhost:8080/"
        },
        "outputId": "2d2a8f57-a33f-478e-f3ab-4b372523457d"
      },
      "source": [
        "print(X_us.shape,y_us.shape)"
      ],
      "execution_count": null,
      "outputs": [
        {
          "output_type": "stream",
          "text": [
            "(20052, 10) (20052,)\n"
          ],
          "name": "stdout"
        }
      ]
    },
    {
      "cell_type": "code",
      "metadata": {
        "id": "Jmi0Io42tgi2"
      },
      "source": [
        "X_train_us, X_test_us,y_train_us, y_test_us = train_test_split(X_us, y_us, test_size = 0.30)"
      ],
      "execution_count": null,
      "outputs": []
    },
    {
      "cell_type": "code",
      "metadata": {
        "id": "eXOPJcL4vhPK",
        "colab": {
          "base_uri": "https://localhost:8080/"
        },
        "outputId": "f25c99bd-39c9-4810-d38c-1aadd385b726"
      },
      "source": [
        "forest.fit(X_train_us, y_train_us)"
      ],
      "execution_count": null,
      "outputs": [
        {
          "output_type": "execute_result",
          "data": {
            "text/plain": [
              "RandomForestClassifier(bootstrap=True, ccp_alpha=0.0, class_weight=None,\n",
              "                       criterion='gini', max_depth=None, max_features='auto',\n",
              "                       max_leaf_nodes=None, max_samples=None,\n",
              "                       min_impurity_decrease=0.0, min_impurity_split=None,\n",
              "                       min_samples_leaf=1, min_samples_split=2,\n",
              "                       min_weight_fraction_leaf=0.0, n_estimators=100,\n",
              "                       n_jobs=None, oob_score=False, random_state=None,\n",
              "                       verbose=0, warm_start=False)"
            ]
          },
          "metadata": {
            "tags": []
          },
          "execution_count": 67
        }
      ]
    },
    {
      "cell_type": "code",
      "metadata": {
        "id": "Y2cC4NmxwU_g",
        "colab": {
          "base_uri": "https://localhost:8080/"
        },
        "outputId": "9c784442-048c-42c9-8d8c-41af7c659f3b"
      },
      "source": [
        "y_pred_forest = forest.predict(X_test_us)\n",
        "\n",
        "print(confusion_matrix(y_test_us,y_pred_forest))\n",
        "print(\"\\n\")\n",
        "print(classification_report(y_test_us, y_pred_forest))"
      ],
      "execution_count": null,
      "outputs": [
        {
          "output_type": "stream",
          "text": [
            "[[2747  228]\n",
            " [ 414 2627]]\n",
            "\n",
            "\n",
            "              precision    recall  f1-score   support\n",
            "\n",
            "           0       0.87      0.92      0.90      2975\n",
            "           1       0.92      0.86      0.89      3041\n",
            "\n",
            "    accuracy                           0.89      6016\n",
            "   macro avg       0.89      0.89      0.89      6016\n",
            "weighted avg       0.89      0.89      0.89      6016\n",
            "\n"
          ],
          "name": "stdout"
        }
      ]
    },
    {
      "cell_type": "markdown",
      "metadata": {
        "id": "9Qv4ac_mt60b"
      },
      "source": [
        "Quite improvement in precision and recall but not the best one. We limimted our training set size  from 150000 rows to 20000 rows which reduces training. the curve is definitely under-fitted. Undersampling works for a very large dataset"
      ]
    },
    {
      "cell_type": "markdown",
      "metadata": {
        "id": "Ji9YCsbPvL2O"
      },
      "source": [
        "**OVERSAMPLING**"
      ]
    },
    {
      "cell_type": "code",
      "metadata": {
        "id": "Hj3YDclowhTv",
        "colab": {
          "base_uri": "https://localhost:8080/"
        },
        "outputId": "ae6a5327-71cc-42ae-d88c-61d8df9d48cc"
      },
      "source": [
        "from imblearn.over_sampling import SMOTE\n",
        "\n",
        "smote = SMOTE()\n",
        "\n",
        "X_os, y_os = smote.fit_sample(X_train,y_train)"
      ],
      "execution_count": null,
      "outputs": [
        {
          "output_type": "stream",
          "text": [
            "/usr/local/lib/python3.6/dist-packages/sklearn/utils/deprecation.py:87: FutureWarning: Function safe_indexing is deprecated; safe_indexing is deprecated in version 0.22 and will be removed in version 0.24.\n",
            "  warnings.warn(msg, category=FutureWarning)\n"
          ],
          "name": "stderr"
        }
      ]
    },
    {
      "cell_type": "code",
      "metadata": {
        "id": "VywDWluXzl2A",
        "colab": {
          "base_uri": "https://localhost:8080/"
        },
        "outputId": "0544868e-110a-4305-8edc-0ad238c487fd"
      },
      "source": [
        "from collections import Counter\n",
        "print(\"Original data shape{}\".format(Counter(y_train)))\n",
        "print(\"Oversampled data shape{}\".format(Counter(y_os)))"
      ],
      "execution_count": null,
      "outputs": [
        {
          "output_type": "stream",
          "text": [
            "Original data shapeCounter({0: 139974, 1: 10026})\n",
            "Oversampled data shapeCounter({1: 139974, 0: 139974})\n"
          ],
          "name": "stdout"
        }
      ]
    },
    {
      "cell_type": "code",
      "metadata": {
        "id": "SoDutO2kyaPE"
      },
      "source": [
        "X_train_os, X_test_os,y_train_os, y_test_os = train_test_split(X_os, y_os, test_size = 0.30)"
      ],
      "execution_count": null,
      "outputs": []
    },
    {
      "cell_type": "code",
      "metadata": {
        "id": "PIXGekGTzcvq",
        "colab": {
          "base_uri": "https://localhost:8080/"
        },
        "outputId": "d3605e6c-befb-45ed-93fe-4f682cb4d8bb"
      },
      "source": [
        "forest.fit(X_train_os, y_train_os)"
      ],
      "execution_count": null,
      "outputs": [
        {
          "output_type": "execute_result",
          "data": {
            "text/plain": [
              "RandomForestClassifier(bootstrap=True, ccp_alpha=0.0, class_weight=None,\n",
              "                       criterion='gini', max_depth=None, max_features='auto',\n",
              "                       max_leaf_nodes=None, max_samples=None,\n",
              "                       min_impurity_decrease=0.0, min_impurity_split=None,\n",
              "                       min_samples_leaf=1, min_samples_split=2,\n",
              "                       min_weight_fraction_leaf=0.0, n_estimators=100,\n",
              "                       n_jobs=None, oob_score=False, random_state=None,\n",
              "                       verbose=0, warm_start=False)"
            ]
          },
          "metadata": {
            "tags": []
          },
          "execution_count": 72
        }
      ]
    },
    {
      "cell_type": "code",
      "metadata": {
        "id": "lKwrZqUo0cIn"
      },
      "source": [
        "y_preds = forest.predict(X_test_os)"
      ],
      "execution_count": null,
      "outputs": []
    },
    {
      "cell_type": "code",
      "metadata": {
        "id": "t41ESO6D0jtC",
        "colab": {
          "base_uri": "https://localhost:8080/"
        },
        "outputId": "6386a187-2aaf-4fc9-8168-25c5420f6f46"
      },
      "source": [
        "print(confusion_matrix(y_test_os, y_preds))\n",
        "print(\"\\n\")\n",
        "print(classification_report(y_test_os, y_preds))"
      ],
      "execution_count": null,
      "outputs": [
        {
          "output_type": "stream",
          "text": [
            "[[39951  2415]\n",
            " [ 3029 38590]]\n",
            "\n",
            "\n",
            "              precision    recall  f1-score   support\n",
            "\n",
            "           0       0.93      0.94      0.94     42366\n",
            "           1       0.94      0.93      0.93     41619\n",
            "\n",
            "    accuracy                           0.94     83985\n",
            "   macro avg       0.94      0.94      0.94     83985\n",
            "weighted avg       0.94      0.94      0.94     83985\n",
            "\n"
          ],
          "name": "stdout"
        }
      ]
    },
    {
      "cell_type": "markdown",
      "metadata": {
        "id": "3ADX1Ixaw4Sd"
      },
      "source": [
        "Quite an improvement from undersampling\n",
        "\n",
        "**COMBINING BOTH OVERFITTING AND UNDERFITTING**"
      ]
    },
    {
      "cell_type": "code",
      "metadata": {
        "id": "S8F7eDrJ0mAq"
      },
      "source": [
        "from imblearn.combine import SMOTETomek\n",
        "\n",
        "stm = SMOTETomek(random_state = 101)"
      ],
      "execution_count": null,
      "outputs": []
    },
    {
      "cell_type": "code",
      "metadata": {
        "id": "3ytJDiK61NTO",
        "colab": {
          "base_uri": "https://localhost:8080/"
        },
        "outputId": "fc2b081c-8454-4e07-8207-4453a3c77068"
      },
      "source": [
        "X_combine, y_combine = stm.fit_resample(X_train,y_train)"
      ],
      "execution_count": null,
      "outputs": [
        {
          "output_type": "stream",
          "text": [
            "/usr/local/lib/python3.6/dist-packages/sklearn/utils/deprecation.py:87: FutureWarning: Function safe_indexing is deprecated; safe_indexing is deprecated in version 0.22 and will be removed in version 0.24.\n",
            "  warnings.warn(msg, category=FutureWarning)\n",
            "/usr/local/lib/python3.6/dist-packages/sklearn/utils/deprecation.py:87: FutureWarning: Function safe_indexing is deprecated; safe_indexing is deprecated in version 0.22 and will be removed in version 0.24.\n",
            "  warnings.warn(msg, category=FutureWarning)\n"
          ],
          "name": "stderr"
        }
      ]
    },
    {
      "cell_type": "code",
      "metadata": {
        "id": "Uy2HXOVA1ZcY",
        "colab": {
          "base_uri": "https://localhost:8080/",
          "height": 51
        },
        "outputId": "c8b36c19-6633-4a99-8111-833b3db12d77"
      },
      "source": [
        "print(\"Original data shape{}\".format(Counter(y_train)))\n",
        "print(\"Combined data shape{}\".format(Counter(y_combine)))"
      ],
      "execution_count": null,
      "outputs": [
        {
          "output_type": "stream",
          "text": [
            "Original data shapeCounter({0: 139974, 1: 10026})\n",
            "Combined data shapeCounter({1: 137569, 0: 137569})\n"
          ],
          "name": "stdout"
        }
      ]
    },
    {
      "cell_type": "code",
      "metadata": {
        "id": "VVCbgIGG1mkv"
      },
      "source": [
        "X_train_com, X_test_com,y_train_com, y_test_com = train_test_split(X_combine, y_combine, test_size = 0.30)"
      ],
      "execution_count": null,
      "outputs": []
    },
    {
      "cell_type": "code",
      "metadata": {
        "id": "D2E6f_Mb15Xm",
        "colab": {
          "base_uri": "https://localhost:8080/"
        },
        "outputId": "0d8b9d48-e947-49f0-bb4c-ad7fd2ef213b"
      },
      "source": [
        "forest.fit(X_train_com, y_train_com)"
      ],
      "execution_count": null,
      "outputs": [
        {
          "output_type": "execute_result",
          "data": {
            "text/plain": [
              "RandomForestClassifier(bootstrap=True, ccp_alpha=0.0, class_weight=None,\n",
              "                       criterion='gini', max_depth=None, max_features='auto',\n",
              "                       max_leaf_nodes=None, max_samples=None,\n",
              "                       min_impurity_decrease=0.0, min_impurity_split=None,\n",
              "                       min_samples_leaf=1, min_samples_split=2,\n",
              "                       min_weight_fraction_leaf=0.0, n_estimators=100,\n",
              "                       n_jobs=None, oob_score=False, random_state=None,\n",
              "                       verbose=0, warm_start=False)"
            ]
          },
          "metadata": {
            "tags": []
          },
          "execution_count": 78
        }
      ]
    },
    {
      "cell_type": "code",
      "metadata": {
        "id": "IzA9N1Ja1_lf"
      },
      "source": [
        "predictions = forest.predict(X_test_com)"
      ],
      "execution_count": null,
      "outputs": []
    },
    {
      "cell_type": "code",
      "metadata": {
        "id": "8VCApz9c2Hun",
        "colab": {
          "base_uri": "https://localhost:8080/"
        },
        "outputId": "1ff20ba8-4ec6-4152-94f6-d044c9ad4edd"
      },
      "source": [
        "print(confusion_matrix(y_test_com, predictions))\n",
        "print(\"\\n\")\n",
        "print(classification_report(y_test_com, predictions))"
      ],
      "execution_count": null,
      "outputs": [
        {
          "output_type": "stream",
          "text": [
            "[[39008  2222]\n",
            " [ 2764 38548]]\n",
            "\n",
            "\n",
            "              precision    recall  f1-score   support\n",
            "\n",
            "           0       0.93      0.95      0.94     41230\n",
            "           1       0.95      0.93      0.94     41312\n",
            "\n",
            "    accuracy                           0.94     82542\n",
            "   macro avg       0.94      0.94      0.94     82542\n",
            "weighted avg       0.94      0.94      0.94     82542\n",
            "\n"
          ],
          "name": "stdout"
        }
      ]
    },
    {
      "cell_type": "markdown",
      "metadata": {
        "id": "N1MNe5VxzQ7e"
      },
      "source": [
        "**Almost similar accuracy with Oversampling but considerably saves the computational time**"
      ]
    },
    {
      "cell_type": "markdown",
      "metadata": {
        "id": "M-nh4R-N4sYw"
      },
      "source": [
        "we use SMOTETomek ,which combines both undersampling and oversampling and apply different classification algoriths \n",
        "1. Logistic Regression\n",
        "2. Naive Bayes Classifier\n",
        "3. Decision Tree Classifier\n",
        "4. Support Vector Classifiers\n",
        "5. Ensemble Methods:\n",
        "i.Adaptive Boosting Classifier\n",
        "ii.Gradient Boosting Classifier\n",
        "iii.RandomForest Classifier\n",
        "\n",
        "We use cross-validation instead of train-test-split and plot the Reciver Operator Characteristics(ROCs) for different algorithms then select the best model based on AUC.\n",
        "\n",
        "\n",
        "1. **Logistic Regression**"
      ]
    },
    {
      "cell_type": "code",
      "metadata": {
        "id": "tW80NjSK2Tp6"
      },
      "source": [
        "from sklearn.linear_model import LogisticRegression\n",
        "\n",
        "LogReg = LogisticRegression(max_iter = 1000)"
      ],
      "execution_count": null,
      "outputs": []
    },
    {
      "cell_type": "code",
      "metadata": {
        "id": "zU5pp7wG5HBq"
      },
      "source": [
        "from imblearn.combine import SMOTETomek\n",
        "\n",
        "stm = SMOTETomek(random_state = 101)"
      ],
      "execution_count": null,
      "outputs": []
    },
    {
      "cell_type": "code",
      "metadata": {
        "id": "TazdxGP45HNe",
        "colab": {
          "base_uri": "https://localhost:8080/"
        },
        "outputId": "e0d1657c-b720-415d-86e4-de87b1763db8"
      },
      "source": [
        "X_train, y_train = stm.fit_sample(X_train,y_train)"
      ],
      "execution_count": null,
      "outputs": [
        {
          "output_type": "stream",
          "text": [
            "/usr/local/lib/python3.6/dist-packages/sklearn/utils/deprecation.py:87: FutureWarning: Function safe_indexing is deprecated; safe_indexing is deprecated in version 0.22 and will be removed in version 0.24.\n",
            "  warnings.warn(msg, category=FutureWarning)\n",
            "/usr/local/lib/python3.6/dist-packages/sklearn/utils/deprecation.py:87: FutureWarning: Function safe_indexing is deprecated; safe_indexing is deprecated in version 0.22 and will be removed in version 0.24.\n",
            "  warnings.warn(msg, category=FutureWarning)\n"
          ],
          "name": "stderr"
        }
      ]
    },
    {
      "cell_type": "code",
      "metadata": {
        "id": "7mXNAyn7-ara",
        "colab": {
          "base_uri": "https://localhost:8080/"
        },
        "outputId": "70af3447-7452-4e3f-cf7f-c698dbc3f6bb"
      },
      "source": [
        "LogReg.fit(X_train,y_train)"
      ],
      "execution_count": null,
      "outputs": [
        {
          "output_type": "execute_result",
          "data": {
            "text/plain": [
              "LogisticRegression(C=1.0, class_weight=None, dual=False, fit_intercept=True,\n",
              "                   intercept_scaling=1, l1_ratio=None, max_iter=1000,\n",
              "                   multi_class='auto', n_jobs=None, penalty='l2',\n",
              "                   random_state=None, solver='lbfgs', tol=0.0001, verbose=0,\n",
              "                   warm_start=False)"
            ]
          },
          "metadata": {
            "tags": []
          },
          "execution_count": 84
        }
      ]
    },
    {
      "cell_type": "code",
      "metadata": {
        "id": "p87srvmCgu1E",
        "colab": {
          "base_uri": "https://localhost:8080/"
        },
        "outputId": "fd759d89-b96c-49db-b0fa-b3336d574282"
      },
      "source": [
        "from sklearn.model_selection import cross_val_predict \n",
        "\n",
        "y_pred_LogReg  = cross_val_predict(LogReg, X_train, y_train, cv = 10)\n",
        "\n",
        "print(confusion_matrix(y_train, y_pred_LogReg))\n",
        "print(\"\\n\")\n",
        "print(classification_report(y_train, y_pred_LogReg))"
      ],
      "execution_count": null,
      "outputs": [
        {
          "output_type": "stream",
          "text": [
            "[[105562  32007]\n",
            " [ 47029  90540]]\n",
            "\n",
            "\n",
            "              precision    recall  f1-score   support\n",
            "\n",
            "           0       0.69      0.77      0.73    137569\n",
            "           1       0.74      0.66      0.70    137569\n",
            "\n",
            "    accuracy                           0.71    275138\n",
            "   macro avg       0.72      0.71      0.71    275138\n",
            "weighted avg       0.72      0.71      0.71    275138\n",
            "\n"
          ],
          "name": "stdout"
        }
      ]
    },
    {
      "cell_type": "markdown",
      "metadata": {
        "id": "94V6Hico_eCz"
      },
      "source": [
        "bad recall. Out of all borrowers who had Serious Delinquency in 2 years , the model can predict only 64% of them"
      ]
    },
    {
      "cell_type": "code",
      "metadata": {
        "id": "TQWALtdo5G_j"
      },
      "source": [
        "from sklearn.metrics import precision_recall_curve\n",
        "from sklearn.metrics import plot_precision_recall_curve\n",
        "\n",
        "precision , recall , thresholds = precision_recall_curve(y_train, y_pred_LogReg)"
      ],
      "execution_count": null,
      "outputs": []
    },
    {
      "cell_type": "code",
      "metadata": {
        "id": "uvVenQVWG0ks",
        "colab": {
          "base_uri": "https://localhost:8080/"
        },
        "outputId": "006ca7d7-3250-42e0-9f2a-765243fc63c8"
      },
      "source": [
        "precision"
      ],
      "execution_count": null,
      "outputs": [
        {
          "output_type": "execute_result",
          "data": {
            "text/plain": [
              "array([0.5       , 0.73881858, 1.        ])"
            ]
          },
          "metadata": {
            "tags": []
          },
          "execution_count": 87
        }
      ]
    },
    {
      "cell_type": "code",
      "metadata": {
        "id": "5Mrpub-wG4M5",
        "colab": {
          "base_uri": "https://localhost:8080/"
        },
        "outputId": "05945d58-ab91-42b8-f83f-209b97d35781"
      },
      "source": [
        "thresholds"
      ],
      "execution_count": null,
      "outputs": [
        {
          "output_type": "execute_result",
          "data": {
            "text/plain": [
              "array([0, 1])"
            ]
          },
          "metadata": {
            "tags": []
          },
          "execution_count": 88
        }
      ]
    },
    {
      "cell_type": "code",
      "metadata": {
        "id": "--5yy5Wo_4tK",
        "colab": {
          "base_uri": "https://localhost:8080/",
          "height": 513
        },
        "outputId": "6f0eda27-2e4b-4bae-cff9-ea728ecd05d4"
      },
      "source": [
        "plt.figure(figsize= (10,8))\n",
        "\n",
        "def plot_precision_recall_vs_thresholds(precision, recall, thresholds):\n",
        "  plt.plot(thresholds, precision[:-1], \"r-\", label = \"Precision\")\n",
        "  plt.plot(thresholds, recall[:-1], \"b--\", label = \"recall\")\n",
        "  plt.title(\"Precision-recall curve\")\n",
        "\n",
        "plot_precision_recall_vs_thresholds(precision, recall, thresholds)\n",
        "plt.xlabel(\"Precision\")\n",
        "plt.ylabel(\"Recall\")\n",
        "plt.legend()\n",
        "plt.show()"
      ],
      "execution_count": null,
      "outputs": [
        {
          "output_type": "display_data",
          "data": {
            "image/png": "[encoded data removed]",
            "text/plain": [
              "<Figure size 720x576 with 1 Axes>"
            ]
          },
          "metadata": {
            "tags": [],
            "needs_background": "light"
          }
        }
      ]
    },
    {
      "cell_type": "code",
      "metadata": {
        "id": "lUT3ZW5S_4qN"
      },
      "source": [
        "from sklearn.metrics import roc_curve\n",
        "from sklearn.metrics import  plot_roc_curve\n",
        "\n",
        "fpr_lr, tpr_lr, thresholds = roc_curve(y_train, y_pred_LogReg)"
      ],
      "execution_count": null,
      "outputs": []
    },
    {
      "cell_type": "code",
      "metadata": {
        "id": "i_6wraSe_4oi",
        "colab": {
          "base_uri": "https://localhost:8080/",
          "height": 279
        },
        "outputId": "fcc12fca-00e2-495f-ddc7-60ae8be905c5"
      },
      "source": [
        "def roc_auc_curve(fpr,  tpr, label = None):\n",
        "  plt.plot(fpr, tpr, linewidth = 2,label = label)\n",
        "  plt.plot([0,1],[0,1], \"k--\")\n",
        "  plt.xlabel(\"False positive rate \")\n",
        "  plt.ylabel(\"true positive rate\")\n",
        "\n",
        "roc_auc_curve(fpr = fpr_lr, tpr =  tpr_lr)\n",
        "plt.show()"
      ],
      "execution_count": null,
      "outputs": [
        {
          "output_type": "display_data",
          "data": {
            "image/png": "[encoded data removed]",
            "text/plain": [
              "<Figure size 432x288 with 1 Axes>"
            ]
          },
          "metadata": {
            "tags": [],
            "needs_background": "light"
          }
        }
      ]
    },
    {
      "cell_type": "code",
      "metadata": {
        "id": "OwHvSK6iKh07",
        "colab": {
          "base_uri": "https://localhost:8080/"
        },
        "outputId": "2016aa07-6bbf-4fc3-ca23-804434ab004b"
      },
      "source": [
        "from sklearn.metrics import roc_auc_score\n",
        "\n",
        "roc_auc_score(y_train, y_pred_LogReg)"
      ],
      "execution_count": null,
      "outputs": [
        {
          "output_type": "execute_result",
          "data": {
            "text/plain": [
              "0.712740515668501"
            ]
          },
          "metadata": {
            "tags": []
          },
          "execution_count": 92
        }
      ]
    },
    {
      "cell_type": "markdown",
      "metadata": {
        "id": "osXAqX1sIXfZ"
      },
      "source": [
        "2. **Naive-Bayes Classifier**"
      ]
    },
    {
      "cell_type": "code",
      "metadata": {
        "id": "WTNR7WGm_4m6",
        "colab": {
          "base_uri": "https://localhost:8080/"
        },
        "outputId": "04293532-9268-42ed-db67-41c6940ead85"
      },
      "source": [
        "from sklearn.naive_bayes import GaussianNB\n",
        "\n",
        "NBClf_ = GaussianNB()\n",
        "\n",
        "NBClf_.fit(X_train, y_train)\n",
        "\n",
        "y_pred_NB = cross_val_predict(NBClf_, X_train, y_train, cv = 10)\n",
        "\n",
        "print(confusion_matrix(y_train, y_pred_NB))\n",
        "print(\"\\n\")\n",
        "print(classification_report(y_train, y_pred_NB))"
      ],
      "execution_count": null,
      "outputs": [
        {
          "output_type": "stream",
          "text": [
            "[[136347   1222]\n",
            " [129285   8284]]\n",
            "\n",
            "\n",
            "              precision    recall  f1-score   support\n",
            "\n",
            "           0       0.51      0.99      0.68    137569\n",
            "           1       0.87      0.06      0.11    137569\n",
            "\n",
            "    accuracy                           0.53    275138\n",
            "   macro avg       0.69      0.53      0.39    275138\n",
            "weighted avg       0.69      0.53      0.39    275138\n",
            "\n"
          ],
          "name": "stdout"
        }
      ]
    },
    {
      "cell_type": "code",
      "metadata": {
        "id": "ushXZDzA_4dH",
        "colab": {
          "base_uri": "https://localhost:8080/",
          "height": 279
        },
        "outputId": "06a03c77-665a-4eeb-af2a-1dee5228e5f4"
      },
      "source": [
        "fpr_nb, tpr_nb, thresholds = roc_curve(y_train, y_pred_NB)\n",
        "\n",
        "roc_auc_curve(fpr_nb, tpr_nb)"
      ],
      "execution_count": null,
      "outputs": [
        {
          "output_type": "display_data",
          "data": {
            "image/png": "[encoded data removed]",
            "text/plain": [
              "<Figure size 432x288 with 1 Axes>"
            ]
          },
          "metadata": {
            "tags": [],
            "needs_background": "light"
          }
        }
      ]
    },
    {
      "cell_type": "code",
      "metadata": {
        "id": "UEO9NIUm_3xU",
        "colab": {
          "base_uri": "https://localhost:8080/"
        },
        "outputId": "64bc0e47-8fff-4779-c4bb-1ca0c21756a9"
      },
      "source": [
        "roc_auc_score(y_train, y_pred_NB)"
      ],
      "execution_count": null,
      "outputs": [
        {
          "output_type": "execute_result",
          "data": {
            "text/plain": [
              "0.5256671197726231"
            ]
          },
          "metadata": {
            "tags": []
          },
          "execution_count": 95
        }
      ]
    },
    {
      "cell_type": "markdown",
      "metadata": {
        "id": "jSjAxnSDLj3F"
      },
      "source": [
        "3. **Decision Tree**"
      ]
    },
    {
      "cell_type": "code",
      "metadata": {
        "id": "aF93jVXA_3tB",
        "colab": {
          "base_uri": "https://localhost:8080/"
        },
        "outputId": "340c238a-b957-471d-dda4-e36eba2fb062"
      },
      "source": [
        "from sklearn.tree import DecisionTreeClassifier\n",
        "\n",
        "tree_clf = DecisionTreeClassifier(random_state=101)\n",
        "\n",
        "tree_clf.fit(X_train, y_train)"
      ],
      "execution_count": null,
      "outputs": [
        {
          "output_type": "execute_result",
          "data": {
            "text/plain": [
              "DecisionTreeClassifier(ccp_alpha=0.0, class_weight=None, criterion='gini',\n",
              "                       max_depth=None, max_features=None, max_leaf_nodes=None,\n",
              "                       min_impurity_decrease=0.0, min_impurity_split=None,\n",
              "                       min_samples_leaf=1, min_samples_split=2,\n",
              "                       min_weight_fraction_leaf=0.0, presort='deprecated',\n",
              "                       random_state=101, splitter='best')"
            ]
          },
          "metadata": {
            "tags": []
          },
          "execution_count": 96
        }
      ]
    },
    {
      "cell_type": "code",
      "metadata": {
        "id": "5Icwihvc_3qe",
        "colab": {
          "base_uri": "https://localhost:8080/"
        },
        "outputId": "3e66624d-cd44-4eba-8f59-a526747284e6"
      },
      "source": [
        "y_pred_tree = cross_val_predict(tree_clf, X_train, y_train, cv = 10)\n",
        "\n",
        "print(confusion_matrix(y_train, y_pred_tree))\n",
        "print(\"\\n\")\n",
        "print(classification_report(y_train, y_pred_tree))"
      ],
      "execution_count": null,
      "outputs": [
        {
          "output_type": "stream",
          "text": [
            "[[123690  13879]\n",
            " [ 11870 125699]]\n",
            "\n",
            "\n",
            "              precision    recall  f1-score   support\n",
            "\n",
            "           0       0.91      0.90      0.91    137569\n",
            "           1       0.90      0.91      0.91    137569\n",
            "\n",
            "    accuracy                           0.91    275138\n",
            "   macro avg       0.91      0.91      0.91    275138\n",
            "weighted avg       0.91      0.91      0.91    275138\n",
            "\n"
          ],
          "name": "stdout"
        }
      ]
    },
    {
      "cell_type": "markdown",
      "metadata": {
        "id": "e1O_xS0FOE6n"
      },
      "source": [
        "**quite a good improvement compared to logistic regression and Naive bayes classifier.**"
      ]
    },
    {
      "cell_type": "code",
      "metadata": {
        "id": "uXKHzgLyaFjC",
        "colab": {
          "base_uri": "https://localhost:8080/",
          "height": 497
        },
        "outputId": "e20cc9e9-afb6-4ab2-a2f6-72d703b33bb0"
      },
      "source": [
        "fpr_tree, tpr_tree, thresholds = roc_curve(y_train, y_pred_tree)\n",
        "\n",
        "\n",
        "plt.figure(figsize= (12,8))\n",
        "\n",
        "plt.plot(fpr_lr, tpr_lr, \"b:\", label = \"Logistic Regression\")\n",
        "plt.plot(fpr_nb, tpr_nb, label = \"Naive Bayes\")\n",
        "plt.plot(fpr_tree, tpr_tree, label = \"Decision Tree\")\n",
        "plt.plot([0,1],[0,1], \"k--\")\n",
        "plt.xlabel(\"False positive rate \")\n",
        "plt.ylabel(\"true positive rate(recall)\")\n",
        "plt.legend(loc = \"lower right\")\n",
        "plt.show()"
      ],
      "execution_count": null,
      "outputs": [
        {
          "output_type": "display_data",
          "data": {
            "image/png": "[encoded data removed]",
            "text/plain": [
              "<Figure size 864x576 with 1 Axes>"
            ]
          },
          "metadata": {
            "tags": [],
            "needs_background": "light"
          }
        }
      ]
    },
    {
      "cell_type": "code",
      "metadata": {
        "id": "K3E8N72IaFhI",
        "colab": {
          "base_uri": "https://localhost:8080/"
        },
        "outputId": "d8c59569-4271-4de4-deb9-8c5ec2e554a6"
      },
      "source": [
        "roc_auc_score(y_train, y_pred_tree)"
      ],
      "execution_count": null,
      "outputs": [
        {
          "output_type": "execute_result",
          "data": {
            "text/plain": [
              "0.9064142357653252"
            ]
          },
          "metadata": {
            "tags": []
          },
          "execution_count": 99
        }
      ]
    },
    {
      "cell_type": "markdown",
      "metadata": {
        "id": "2T9CPM-Was19"
      },
      "source": [
        "**AdaBoost Classifier**"
      ]
    },
    {
      "cell_type": "code",
      "metadata": {
        "id": "OqUTFCdeaFeQ",
        "colab": {
          "base_uri": "https://localhost:8080/"
        },
        "outputId": "ee12041a-19c4-46c3-e38b-9c5ac8ad7e1d"
      },
      "source": [
        "from sklearn.ensemble import AdaBoostClassifier\n",
        "adaboost_clf = AdaBoostClassifier()\n",
        "\n",
        "adaboost_clf.fit(X_train, y_train)\n",
        "\n"
      ],
      "execution_count": null,
      "outputs": [
        {
          "output_type": "execute_result",
          "data": {
            "text/plain": [
              "AdaBoostClassifier(algorithm='SAMME.R', base_estimator=None, learning_rate=1.0,\n",
              "                   n_estimators=50, random_state=None)"
            ]
          },
          "metadata": {
            "tags": []
          },
          "execution_count": 100
        }
      ]
    },
    {
      "cell_type": "code",
      "metadata": {
        "id": "L4ngMwbwapWD",
        "colab": {
          "base_uri": "https://localhost:8080/"
        },
        "outputId": "e8895998-b2b8-45bf-86a8-89ad0fc5a7bc"
      },
      "source": [
        "y_pred_ada = cross_val_predict(adaboost_clf, X_train, y_train, cv = 10)\n",
        "\n",
        "print(confusion_matrix(y_train, y_pred_ada))\n",
        "print(\"\\n\")\n",
        "print(classification_report(y_train, y_pred_ada))\n"
      ],
      "execution_count": null,
      "outputs": [
        {
          "output_type": "stream",
          "text": [
            "[[115220  22349]\n",
            " [ 24464 113105]]\n",
            "\n",
            "\n",
            "              precision    recall  f1-score   support\n",
            "\n",
            "           0       0.82      0.84      0.83    137569\n",
            "           1       0.84      0.82      0.83    137569\n",
            "\n",
            "    accuracy                           0.83    275138\n",
            "   macro avg       0.83      0.83      0.83    275138\n",
            "weighted avg       0.83      0.83      0.83    275138\n",
            "\n"
          ],
          "name": "stdout"
        }
      ]
    },
    {
      "cell_type": "code",
      "metadata": {
        "id": "r8fXBVEI8bBp"
      },
      "source": [
        "fpr_ada, tpr_ada, thresholds = roc_curve(y_train, y_pred_ada)"
      ],
      "execution_count": null,
      "outputs": []
    },
    {
      "cell_type": "code",
      "metadata": {
        "id": "jVGlTI4c85AI",
        "colab": {
          "base_uri": "https://localhost:8080/"
        },
        "outputId": "79fecbc9-ad8c-45a2-bc2c-26c00f7be305"
      },
      "source": [
        "plt.figure(figsize= (12,8))\n",
        "\n",
        "plt.plot(fpr_lr, tpr_lr, \"b:\", label = \"Logistic Regression\")\n",
        "plt.plot(fpr_nb, tpr_nb, label = \"Naive Bayes\")\n",
        "plt.plot(fpr_tree, tpr_tree, label = \"Decision Tree\")\n",
        "plt.plot(fpr_ada, tpr_ada, label = \"Adaboost Classifier\")\n",
        "plt.plot([0,1],[0,1], \"k--\")\n",
        "plt.xlabel(\"False positive rate \")\n",
        "plt.ylabel(\"true positive rate(recall)\")\n",
        "plt.legend(loc = \"lower right\")\n",
        "plt.show()"
      ],
      "execution_count": null,
      "outputs": [
        {
          "output_type": "display_data",
          "data": {
            "image/png": "[encoded data removed]",
            "text/plain": [
              "<Figure size 864x576 with 1 Axes>"
            ]
          },
          "metadata": {
            "tags": [],
            "needs_background": "light"
          }
        }
      ]
    },
    {
      "cell_type": "code",
      "metadata": {
        "id": "Yy7kaPdpapTT",
        "colab": {
          "base_uri": "https://localhost:8080/"
        },
        "outputId": "a71e6b60-02c4-4377-f761-5d9c13bddda3"
      },
      "source": [
        "roc_auc_score(y_train, y_pred_ada)"
      ],
      "execution_count": null,
      "outputs": [
        {
          "output_type": "execute_result",
          "data": {
            "text/plain": [
              "0.8298562902979596"
            ]
          },
          "metadata": {
            "tags": []
          },
          "execution_count": 104
        }
      ]
    },
    {
      "cell_type": "markdown",
      "metadata": {
        "id": "iyuMX8qDdwr4"
      },
      "source": [
        "**Random Forest**"
      ]
    },
    {
      "cell_type": "code",
      "metadata": {
        "id": "YRenv0dQapQD",
        "colab": {
          "base_uri": "https://localhost:8080/"
        },
        "outputId": "c1604dae-087c-4077-b103-d802dda0cbaa"
      },
      "source": [
        "from sklearn.ensemble import RandomForestClassifier\n",
        "\n",
        "rfclf_ = RandomForestClassifier()\n",
        "\n",
        "rfclf_.fit(X_train, y_train)"
      ],
      "execution_count": null,
      "outputs": [
        {
          "output_type": "execute_result",
          "data": {
            "text/plain": [
              "RandomForestClassifier(bootstrap=True, ccp_alpha=0.0, class_weight=None,\n",
              "                       criterion='gini', max_depth=None, max_features='auto',\n",
              "                       max_leaf_nodes=None, max_samples=None,\n",
              "                       min_impurity_decrease=0.0, min_impurity_split=None,\n",
              "                       min_samples_leaf=1, min_samples_split=2,\n",
              "                       min_weight_fraction_leaf=0.0, n_estimators=100,\n",
              "                       n_jobs=None, oob_score=False, random_state=None,\n",
              "                       verbose=0, warm_start=False)"
            ]
          },
          "metadata": {
            "tags": []
          },
          "execution_count": 105
        }
      ]
    },
    {
      "cell_type": "code",
      "metadata": {
        "id": "BClf7zioaFaP",
        "colab": {
          "base_uri": "https://localhost:8080/"
        },
        "outputId": "17b0ca80-28f0-4e85-d67d-a713a9f41278"
      },
      "source": [
        "y_pred_rf = cross_val_predict(rfclf_, X_train, y_train, cv = 10)\n",
        "\n",
        "print(confusion_matrix(y_train, y_pred_rf))\n",
        "print(\"\\n\")\n",
        "print(classification_report(y_train, y_pred_rf))"
      ],
      "execution_count": null,
      "outputs": [
        {
          "output_type": "stream",
          "text": [
            "[[131016   6553]\n",
            " [  8775 128794]]\n",
            "\n",
            "\n",
            "              precision    recall  f1-score   support\n",
            "\n",
            "           0       0.94      0.95      0.94    137569\n",
            "           1       0.95      0.94      0.94    137569\n",
            "\n",
            "    accuracy                           0.94    275138\n",
            "   macro avg       0.94      0.94      0.94    275138\n",
            "weighted avg       0.94      0.94      0.94    275138\n",
            "\n"
          ],
          "name": "stdout"
        }
      ]
    },
    {
      "cell_type": "code",
      "metadata": {
        "id": "ShtgK_jqBNsE"
      },
      "source": [
        "fpr_rf, tpr_rf, thresholds = roc_curve(y_train, y_pred_rf)"
      ],
      "execution_count": null,
      "outputs": []
    },
    {
      "cell_type": "code",
      "metadata": {
        "id": "8lL5JAeeB62m",
        "colab": {
          "base_uri": "https://localhost:8080/"
        },
        "outputId": "e11adb07-abfc-4fa2-c6d9-f62e4276c880"
      },
      "source": [
        "plt.figure(figsize= (12,8))\n",
        "\n",
        "plt.plot(fpr_lr, tpr_lr, \"b:\", label = \"Logistic Regression\")\n",
        "plt.plot(fpr_nb, tpr_nb, label = \"Naive Bayes\")\n",
        "plt.plot(fpr_tree, tpr_tree, label = \"Decision Tree\")\n",
        "plt.plot(fpr_rf, tpr_rf, label = \"Random Forest Classifier\")\n",
        "plt.plot([0,1],[0,1], \"k--\")\n",
        "plt.xlabel(\"False positive rate \")\n",
        "plt.ylabel(\"true positive rate(recall)\")\n",
        "plt.legend(loc = \"lower right\")\n",
        "plt.show()"
      ],
      "execution_count": null,
      "outputs": [
        {
          "output_type": "display_data",
          "data": {
            "image/png": "[encoded data removed]",
            "text/plain": [
              "<Figure size 864x576 with 1 Axes>"
            ]
          },
          "metadata": {
            "tags": [],
            "needs_background": "light"
          }
        }
      ]
    },
    {
      "cell_type": "code",
      "metadata": {
        "id": "M1tKb0ErfDMc",
        "colab": {
          "base_uri": "https://localhost:8080/"
        },
        "outputId": "df1c7c44-4e85-4d31-cd33-eb16c4671cc0"
      },
      "source": [
        "roc_auc_score(y_train, y_pred_rf)"
      ],
      "execution_count": null,
      "outputs": [
        {
          "output_type": "execute_result",
          "data": {
            "text/plain": [
              "0.9442897745858443"
            ]
          },
          "metadata": {
            "tags": []
          },
          "execution_count": 109
        }
      ]
    },
    {
      "cell_type": "markdown",
      "metadata": {
        "id": "Prq_VcgxgXe0"
      },
      "source": [
        "**best model so far**...we've got best **Area Under Curve** for Random Forest model"
      ]
    },
    {
      "cell_type": "markdown",
      "metadata": {
        "id": "CmsHonEAgy24"
      },
      "source": [
        "**we will use this model to make predictions on unseen data we have'nt seen so far**"
      ]
    },
    {
      "cell_type": "code",
      "metadata": {
        "id": "byzdQKe-BB7Q"
      },
      "source": [
        "test_data = pd.read_csv(\"cs-test.csv\")"
      ],
      "execution_count": null,
      "outputs": []
    },
    {
      "cell_type": "code",
      "metadata": {
        "id": "4i8eCYen0ghA"
      },
      "source": [
        "test_data.head()"
      ],
      "execution_count": null,
      "outputs": []
    },
    {
      "cell_type": "code",
      "metadata": {
        "id": "oSmHKolP0mfS"
      },
      "source": [
        "test_data.isnull().sum()"
      ],
      "execution_count": null,
      "outputs": []
    },
    {
      "cell_type": "code",
      "metadata": {
        "id": "jrfx0voy0336"
      },
      "source": [
        "test_data['MonthlyIncome'] = test_data['MonthlyIncome'].fillna(test_data['MonthlyIncome'].mean())\n",
        "test_data['NumberOfDependents'] = test_data['NumberOfDependents'].fillna(test_data['NumberOfDependents'].median())"
      ],
      "execution_count": null,
      "outputs": []
    },
    {
      "cell_type": "code",
      "metadata": {
        "id": "wIKFpTj60306"
      },
      "source": [
        "test_data.drop(\"Unnamed: 0\", axis = 1, inplace = True)"
      ],
      "execution_count": null,
      "outputs": []
    },
    {
      "cell_type": "code",
      "metadata": {
        "id": "Y-Og9vPei7fi"
      },
      "source": [
        "X_test = test_data.drop(\"SeriousDlqin2yrs\", axis =1 )"
      ],
      "execution_count": null,
      "outputs": []
    },
    {
      "cell_type": "code",
      "metadata": {
        "id": "7CxvfuC403yN"
      },
      "source": [
        "y_predicted = pd.DataFrame(rfclf_.predict(X_test))"
      ],
      "execution_count": null,
      "outputs": []
    },
    {
      "cell_type": "code",
      "metadata": {
        "id": "vNKzx1ibils-"
      },
      "source": [
        "test_data['SeriousDlqin2yrs'] = y_predicted"
      ],
      "execution_count": null,
      "outputs": []
    },
    {
      "cell_type": "code",
      "metadata": {
        "id": "LEFPSkB0kWs6"
      },
      "source": [
        "test_data.head()"
      ],
      "execution_count": null,
      "outputs": []
    },
    {
      "cell_type": "code",
      "metadata": {
        "id": "1ANePnzFlAEy"
      },
      "source": [
        "test_data.shape"
      ],
      "execution_count": null,
      "outputs": []
    },
    {
      "cell_type": "code",
      "metadata": {
        "id": "MHyUuqFvkrnP"
      },
      "source": [
        "sns.countplot(test_data['SeriousDlqin2yrs'], hue = 'SeriousDlqin2yrs', data = test_data,pallette = \"RdBu_rr\")"
      ],
      "execution_count": null,
      "outputs": []
    },
    {
      "cell_type": "code",
      "metadata": {
        "id": "cGi7L4Oxk7Cd"
      },
      "source": [
        "train_delinquency     = train_data[train_data['SeriousDlqin2yrs'] == 1]\n",
        "train_no_delinquency  = train_data[train_data['SeriousDlqin2yrs'] == 0]\n",
        "\n",
        "print(train_delinquency.shape, train_no_delinquency.shape)"
      ],
      "execution_count": null,
      "outputs": []
    },
    {
      "cell_type": "code",
      "metadata": {
        "id": "q0Vf9i_nleL0"
      },
      "source": [
        "test_delinquency     = test_data[train_data['SeriousDlqin2yrs'] == 1]\n",
        "test_no_delinquency  = test_data[train_data['SeriousDlqin2yrs'] == 0]\n",
        "\n",
        "print(test_delinquency.shape, test_no_delinquency.shape)"
      ],
      "execution_count": null,
      "outputs": []
    },
    {
      "cell_type": "markdown",
      "metadata": {
        "id": "BFxBvpyDl8IS"
      },
      "source": [
        "conclusion :**model works super fine on unseen data**"
      ]
    },
    {
      "cell_type": "code",
      "metadata": {
        "id": "E9v_bYtIl08b"
      },
      "source": [
        ""
      ],
      "execution_count": null,
      "outputs": []
    }
  ]
}