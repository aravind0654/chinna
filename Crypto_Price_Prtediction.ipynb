{
  "nbformat": 4,
  "nbformat_minor": 0,
  "metadata": {
    "accelerator": "GPU",
    "colab": {
      "name": "Crypto_Price_Prtediction.ipynb",
      "provenance": [],
      "collapsed_sections": [],
      "include_colab_link": true
    },
    "kernelspec": {
      "display_name": "Python 3",
      "name": "python3"
    }
  },
  "cells": [
    {
      "cell_type": "markdown",
      "metadata": {
        "id": "view-in-github",
        "colab_type": "text"
      },
      "source": [
        "<a href=\"https://colab.research.google.com/github/aravind0654/chinna/blob/master/Crypto_Price_Prtediction.ipynb\" target=\"_parent\"><img src=\"https://colab.research.google.com/assets/colab-badge.svg\" alt=\"Open In Colab\"/></a>"
      ]
    },
    {
      "cell_type": "markdown",
      "metadata": {
        "id": "wr7RpAXRLmwL"
      },
      "source": [
        "# New Section"
      ]
    },
    {
      "cell_type": "code",
      "metadata": {
        "id": "H-qd1LVvcq1f"
      },
      "source": [
        "import math\n",
        "import pandas_datareader as web\n",
        "import numpy as np\n",
        "import pandas as pd\n",
        "from sklearn.preprocessing import MinMaxScaler\n",
        "from keras.layers import Dense, LSTM\n",
        "from keras.models import Sequential\n",
        "import matplotlib.pyplot as plt\n",
        "from keras.layers import GRU,Dropout\n",
        "from keras.optimizers import SGD\n",
        "plt.style.use('fivethirtyeight')\n"
      ],
      "execution_count": null,
      "outputs": []
    },
    {
      "cell_type": "markdown",
      "metadata": {
        "id": "iWbchTqGMAP-"
      },
      "source": [
        "Retrieving data from web using source_id Yahoo"
      ]
    },
    {
      "cell_type": "code",
      "metadata": {
        "id": "1h6nZaL7eikg"
      },
      "source": [
        "df = web.DataReader('XRP-INR',data_source =\"yahoo\",start = '2014-04-01', end = '2021-01-05')"
      ],
      "execution_count": null,
      "outputs": []
    },
    {
      "cell_type": "code",
      "metadata": {
        "colab": {
          "base_uri": "https://localhost:8080/",
          "height": 455
        },
        "id": "kKRvKI6leiul",
        "outputId": "17c8c080-4ff1-4bb7-db61-a170c12f7be9"
      },
      "source": [
        "df"
      ],
      "execution_count": null,
      "outputs": [
        {
          "output_type": "execute_result",
          "data": {
            "text/html": [
              "<div>\n",
              "<style scoped>\n",
              "    .dataframe tbody tr th:only-of-type {\n",
              "        vertical-align: middle;\n",
              "    }\n",
              "\n",
              "    .dataframe tbody tr th {\n",
              "        vertical-align: top;\n",
              "    }\n",
              "\n",
              "    .dataframe thead th {\n",
              "        text-align: right;\n",
              "    }\n",
              "</style>\n",
              "<table border=\"1\" class=\"dataframe\">\n",
              "  <thead>\n",
              "    <tr style=\"text-align: right;\">\n",
              "      <th></th>\n",
              "      <th>High</th>\n",
              "      <th>Low</th>\n",
              "      <th>Open</th>\n",
              "      <th>Close</th>\n",
              "      <th>Volume</th>\n",
              "      <th>Adj Close</th>\n",
              "    </tr>\n",
              "    <tr>\n",
              "      <th>Date</th>\n",
              "      <th></th>\n",
              "      <th></th>\n",
              "      <th></th>\n",
              "      <th></th>\n",
              "      <th></th>\n",
              "      <th></th>\n",
              "    </tr>\n",
              "  </thead>\n",
              "  <tbody>\n",
              "    <tr>\n",
              "      <th>2014-09-16</th>\n",
              "      <td>0.353866</td>\n",
              "      <td>0.312755</td>\n",
              "      <td>0.312755</td>\n",
              "      <td>0.328770</td>\n",
              "      <td>78071364</td>\n",
              "      <td>0.328770</td>\n",
              "    </tr>\n",
              "    <tr>\n",
              "      <th>2014-09-17</th>\n",
              "      <td>0.337389</td>\n",
              "      <td>0.309153</td>\n",
              "      <td>0.328747</td>\n",
              "      <td>0.311850</td>\n",
              "      <td>29824901</td>\n",
              "      <td>0.311850</td>\n",
              "    </tr>\n",
              "    <tr>\n",
              "      <th>2014-09-18</th>\n",
              "      <td>0.313793</td>\n",
              "      <td>0.296433</td>\n",
              "      <td>0.311754</td>\n",
              "      <td>0.300736</td>\n",
              "      <td>24772582</td>\n",
              "      <td>0.300736</td>\n",
              "    </tr>\n",
              "    <tr>\n",
              "      <th>2014-09-19</th>\n",
              "      <td>0.301444</td>\n",
              "      <td>0.288179</td>\n",
              "      <td>0.300708</td>\n",
              "      <td>0.290355</td>\n",
              "      <td>19631487</td>\n",
              "      <td>0.290355</td>\n",
              "    </tr>\n",
              "    <tr>\n",
              "      <th>2014-09-20</th>\n",
              "      <td>0.291548</td>\n",
              "      <td>0.276258</td>\n",
              "      <td>0.290149</td>\n",
              "      <td>0.278078</td>\n",
              "      <td>18837395</td>\n",
              "      <td>0.278078</td>\n",
              "    </tr>\n",
              "    <tr>\n",
              "      <th>...</th>\n",
              "      <td>...</td>\n",
              "      <td>...</td>\n",
              "      <td>...</td>\n",
              "      <td>...</td>\n",
              "      <td>...</td>\n",
              "      <td>...</td>\n",
              "    </tr>\n",
              "    <tr>\n",
              "      <th>2020-10-16</th>\n",
              "      <td>17.826361</td>\n",
              "      <td>17.569239</td>\n",
              "      <td>17.666395</td>\n",
              "      <td>17.695030</td>\n",
              "      <td>86187567611</td>\n",
              "      <td>17.695030</td>\n",
              "    </tr>\n",
              "    <tr>\n",
              "      <th>2020-10-17</th>\n",
              "      <td>17.877811</td>\n",
              "      <td>17.668648</td>\n",
              "      <td>17.689140</td>\n",
              "      <td>17.789953</td>\n",
              "      <td>90976678694</td>\n",
              "      <td>17.789953</td>\n",
              "    </tr>\n",
              "    <tr>\n",
              "      <th>2020-10-18</th>\n",
              "      <td>18.300880</td>\n",
              "      <td>17.652044</td>\n",
              "      <td>17.796110</td>\n",
              "      <td>18.053129</td>\n",
              "      <td>105376544733</td>\n",
              "      <td>18.053129</td>\n",
              "    </tr>\n",
              "    <tr>\n",
              "      <th>2020-10-19</th>\n",
              "      <td>18.292725</td>\n",
              "      <td>17.823393</td>\n",
              "      <td>18.050407</td>\n",
              "      <td>17.897989</td>\n",
              "      <td>112159734744</td>\n",
              "      <td>17.897989</td>\n",
              "    </tr>\n",
              "    <tr>\n",
              "      <th>2020-10-20</th>\n",
              "      <td>18.797001</td>\n",
              "      <td>17.873928</td>\n",
              "      <td>17.891514</td>\n",
              "      <td>18.550510</td>\n",
              "      <td>170041151424</td>\n",
              "      <td>18.550510</td>\n",
              "    </tr>\n",
              "  </tbody>\n",
              "</table>\n",
              "<p>2227 rows × 6 columns</p>\n",
              "</div>"
            ],
            "text/plain": [
              "                 High        Low       Open      Close        Volume  Adj Close\n",
              "Date                                                                           \n",
              "2014-09-16   0.353866   0.312755   0.312755   0.328770      78071364   0.328770\n",
              "2014-09-17   0.337389   0.309153   0.328747   0.311850      29824901   0.311850\n",
              "2014-09-18   0.313793   0.296433   0.311754   0.300736      24772582   0.300736\n",
              "2014-09-19   0.301444   0.288179   0.300708   0.290355      19631487   0.290355\n",
              "2014-09-20   0.291548   0.276258   0.290149   0.278078      18837395   0.278078\n",
              "...               ...        ...        ...        ...           ...        ...\n",
              "2020-10-16  17.826361  17.569239  17.666395  17.695030   86187567611  17.695030\n",
              "2020-10-17  17.877811  17.668648  17.689140  17.789953   90976678694  17.789953\n",
              "2020-10-18  18.300880  17.652044  17.796110  18.053129  105376544733  18.053129\n",
              "2020-10-19  18.292725  17.823393  18.050407  17.897989  112159734744  17.897989\n",
              "2020-10-20  18.797001  17.873928  17.891514  18.550510  170041151424  18.550510\n",
              "\n",
              "[2227 rows x 6 columns]"
            ]
          },
          "metadata": {
            "tags": []
          },
          "execution_count": 3
        }
      ]
    },
    {
      "cell_type": "code",
      "metadata": {
        "colab": {
          "base_uri": "https://localhost:8080/"
        },
        "id": "zooepBT6eixT",
        "outputId": "97fd9b3f-349c-4fd0-d011-710577210a96"
      },
      "source": [
        "df.shape"
      ],
      "execution_count": null,
      "outputs": [
        {
          "output_type": "execute_result",
          "data": {
            "text/plain": [
              "(2227, 6)"
            ]
          },
          "metadata": {
            "tags": []
          },
          "execution_count": 4
        }
      ]
    },
    {
      "cell_type": "markdown",
      "metadata": {
        "id": "Jy7nZqGDMkPO"
      },
      "source": [
        "* Creating a graph to visualize the data.*"
      ]
    },
    {
      "cell_type": "code",
      "metadata": {
        "colab": {
          "base_uri": "https://localhost:8080/",
          "height": 513
        },
        "id": "CFCtju39eizl",
        "outputId": "92e3bf86-5ade-43b3-b3f6-3244a4f8545f"
      },
      "source": [
        "plt.figure(figsize=(16,8))\n",
        "plt.title('closingprice')\n",
        "plt.plot(df['Close'])\n",
        "plt.xlabel('Date')\n",
        "plt.ylabel('closingprice')\n",
        "plt.show() "
      ],
      "execution_count": null,
      "outputs": [
        {
          "output_type": "display_data",
          "data": {
            "image/png": "[encoded data removed]",
            "text/plain": [
              "<Figure size 1152x576 with 1 Axes>"
            ]
          },
          "metadata": {
            "tags": []
          }
        }
      ]
    },
    {
      "cell_type": "markdown",
      "metadata": {
        "id": "wINz7DF4NQiy"
      },
      "source": [
        "Training data"
      ]
    },
    {
      "cell_type": "markdown",
      "metadata": {
        "id": "HQAgLj5bQlBo"
      },
      "source": [
        "Creating a new data frame with only the closing price and convert it to an array.\n",
        "Then created training data set to contain about 80% of the data a variable using the length of the training data set."
      ]
    },
    {
      "cell_type": "code",
      "metadata": {
        "colab": {
          "base_uri": "https://localhost:8080/"
        },
        "id": "9J_w90kUei29",
        "outputId": "5a032399-5740-47e7-ad06-49984ba9fedc"
      },
      "source": [
        "data = df.filter(['Close'])\n",
        "dataset = data.values\n",
        "training_data_len = math.ceil(len(dataset)*.8)\n",
        "training_data_len"
      ],
      "execution_count": null,
      "outputs": [
        {
          "output_type": "execute_result",
          "data": {
            "text/plain": [
              "1782"
            ]
          },
          "metadata": {
            "tags": []
          },
          "execution_count": 6
        }
      ]
    },
    {
      "cell_type": "markdown",
      "metadata": {
        "id": "8o7ppGgdQosy"
      },
      "source": [
        "scaling the data set to be values between 0 and 1"
      ]
    },
    {
      "cell_type": "code",
      "metadata": {
        "colab": {
          "base_uri": "https://localhost:8080/"
        },
        "id": "AWpEpvn7kw4p",
        "outputId": "de514a64-9034-4453-c74e-fef1c5a3a36e"
      },
      "source": [
        "scaler = MinMaxScaler(feature_range=(0,1))\n",
        "scaler_data = scaler.fit_transform(dataset)\n",
        "scaler_data"
      ],
      "execution_count": null,
      "outputs": [
        {
          "output_type": "execute_result",
          "data": {
            "text/plain": [
              "array([[0.00026657],\n",
              "       [0.00018738],\n",
              "       [0.00013536],\n",
              "       ...,\n",
              "       [0.08322835],\n",
              "       [0.08250219],\n",
              "       [0.08555643]])"
            ]
          },
          "metadata": {
            "tags": []
          },
          "execution_count": 7
        }
      ]
    },
    {
      "cell_type": "markdown",
      "metadata": {
        "id": "pEEYCWyGQznr"
      },
      "source": [
        "Create a training data set that contains the past 60 day closing price values that we want to use to predict the 61st closing price value.\n"
      ]
    },
    {
      "cell_type": "code",
      "metadata": {
        "colab": {
          "base_uri": "https://localhost:8080/"
        },
        "id": "QtgwIm9Kkw7E",
        "outputId": "fa2bf60b-f41c-49c0-feb8-df1aa8aa0b1f"
      },
      "source": [
        "train_data = scaler_data[0:training_data_len]\n",
        "X_train=[]\n",
        "Y_train=[]\n",
        "for i in range (60,len(train_data)):\n",
        "  X_train.append(train_data[i-60:i,0])\n",
        "  Y_train.append(train_data[i,0])\n",
        "  if i <=60:\n",
        "    print(X_train)\n",
        "    print(Y_train)\n",
        "    print()"
      ],
      "execution_count": null,
      "outputs": [
        {
          "output_type": "stream",
          "text": [
            "[array([2.66573196e-04, 1.87377888e-04, 1.35355722e-04, 8.67655445e-05,\n",
            "       2.93007157e-05, 5.59349908e-05, 4.57331877e-05, 5.88809787e-05,\n",
            "       8.33137489e-05, 4.85792974e-05, 7.41804750e-05, 2.39281064e-04,\n",
            "       8.29556661e-05, 7.37672918e-05, 1.00410216e-04, 1.31570116e-04,\n",
            "       1.74407952e-04, 1.50982892e-04, 1.06964094e-04, 9.00513414e-05,\n",
            "       9.47884409e-05, 1.02228808e-04, 1.05908956e-04, 1.24767240e-04,\n",
            "       9.08120058e-05, 1.20806708e-04, 9.35843229e-05, 1.27412338e-04,\n",
            "       1.14301932e-04, 1.30177541e-04, 1.35955689e-04, 1.53472314e-04,\n",
            "       1.48900655e-04, 1.81524552e-04, 2.13598282e-04, 2.13289999e-04,\n",
            "       1.99651884e-04, 1.82461538e-04, 7.86888032e-05, 2.96308996e-05,\n",
            "       1.30946575e-04, 1.14881811e-04, 9.75083079e-05, 1.33626268e-04,\n",
            "       1.26135683e-04, 6.98646494e-05, 6.80142526e-05, 1.10353814e-04,\n",
            "       1.05999069e-04, 1.25197581e-04, 1.31510412e-04, 1.31755086e-04,\n",
            "       1.40357025e-04, 1.45861345e-04, 1.37964970e-04, 1.37941675e-04,\n",
            "       1.91713382e-04, 1.79235305e-04, 2.28613209e-04, 1.86968192e-04])]\n",
            "[0.00022412789776498666]\n",
            "\n"
          ],
          "name": "stdout"
        }
      ]
    },
    {
      "cell_type": "markdown",
      "metadata": {
        "id": "aJmEL7QlRCds"
      },
      "source": [
        "converting the independent train data set ‘x_train’ and dependent train data set ‘y_train’ to numpy arrays so they can be used for training the LSTM model."
      ]
    },
    {
      "cell_type": "code",
      "metadata": {
        "id": "p9uth51nnjN9"
      },
      "source": [
        "x_train,y_train = np.array(X_train),np.array(Y_train)"
      ],
      "execution_count": null,
      "outputs": []
    },
    {
      "cell_type": "markdown",
      "metadata": {
        "id": "qYic76T4LllZ"
      },
      "source": [
        "Reshape the data to be 3-dimensional in the form [number of samples, number of time steps, and number of features]. The LSTM model is expecting a 3-dimensional data set."
      ]
    },
    {
      "cell_type": "code",
      "metadata": {
        "colab": {
          "base_uri": "https://localhost:8080/"
        },
        "id": "ayOtLkaSnjQu",
        "outputId": "cf3bd28b-baba-41c9-bce2-51b86f3df353"
      },
      "source": [
        "x_train = np.reshape(x_train,(x_train.shape[0],x_train.shape[1],1))\n",
        "x_train.shape"
      ],
      "execution_count": null,
      "outputs": [
        {
          "output_type": "execute_result",
          "data": {
            "text/plain": [
              "(1722, 60, 1)"
            ]
          },
          "metadata": {
            "tags": []
          },
          "execution_count": 10
        }
      ]
    },
    {
      "cell_type": "markdown",
      "metadata": {
        "id": "ojG0f9OrRRnJ"
      },
      "source": [
        "Build the LSTM model to have two LSTM layers with 50 neurons and two Dense layers, one with 25 neurons and the other with 1 neuron."
      ]
    },
    {
      "cell_type": "code",
      "metadata": {
        "id": "TFGAGiKRnjTi"
      },
      "source": [
        "model = Sequential()\n",
        "model.add(LSTM(50,return_sequences=True,input_shape = (x_train.shape[1],1)))\n",
        "model.add(LSTM(50,return_sequences=False))\n",
        "model.add(Dense(25))\n",
        "model.add(Dense(1))\n"
      ],
      "execution_count": null,
      "outputs": []
    },
    {
      "cell_type": "markdown",
      "metadata": {
        "id": "Wk-4Zv_cRanf"
      },
      "source": [
        "Compile the model using the mean squared error (MSE) loss function and the adam optimizer."
      ]
    },
    {
      "cell_type": "code",
      "metadata": {
        "id": "PiT9dyWInjWV"
      },
      "source": [
        "model.compile(optimizer= 'adam',loss = 'mean_squared_error')"
      ],
      "execution_count": null,
      "outputs": []
    },
    {
      "cell_type": "markdown",
      "metadata": {
        "id": "VUES47voRlFV"
      },
      "source": [
        "Train the model using the training data sets. Note, fit is another name for train. Batch size is the total number of training examples present in a single batch, and epoch is the number of iterations when an entire data set is passed forward and backward through the neural network."
      ]
    },
    {
      "cell_type": "code",
      "metadata": {
        "colab": {
          "background_save": true,
          "base_uri": "https://localhost:8080/"
        },
        "id": "_QMv9Ek0njZe",
        "outputId": "1f191606-8be2-43b2-cf39-e5a5b37d1b57"
      },
      "source": [
        "model.fit(x_train,y_train,batch_size= 43,epochs=1000)"
      ],
      "execution_count": null,
      "outputs": [
        {
          "output_type": "stream",
          "text": [
            "Epoch 1/1000\n",
            "41/41 [==============================] - 9s 9ms/step - loss: 0.0061\n",
            "Epoch 2/1000\n",
            "41/41 [==============================] - 0s 8ms/step - loss: 0.0011\n",
            "Epoch 3/1000\n",
            "41/41 [==============================] - 0s 8ms/step - loss: 8.5307e-04\n",
            "Epoch 4/1000\n",
            "41/41 [==============================] - 0s 7ms/step - loss: 8.6989e-04\n",
            "Epoch 5/1000\n",
            "41/41 [==============================] - 0s 8ms/step - loss: 5.4809e-04\n",
            "Epoch 6/1000\n",
            "41/41 [==============================] - 0s 7ms/step - loss: 4.1806e-04\n",
            "Epoch 7/1000\n",
            "41/41 [==============================] - 0s 8ms/step - loss: 4.4550e-04\n",
            "Epoch 8/1000\n",
            "41/41 [==============================] - 0s 7ms/step - loss: 7.0077e-04\n",
            "Epoch 9/1000\n",
            "41/41 [==============================] - 0s 7ms/step - loss: 4.1443e-04\n",
            "Epoch 10/1000\n",
            "41/41 [==============================] - 0s 7ms/step - loss: 3.0495e-04\n",
            "Epoch 11/1000\n",
            "41/41 [==============================] - 0s 7ms/step - loss: 3.6284e-04\n",
            "Epoch 12/1000\n",
            "41/41 [==============================] - 0s 8ms/step - loss: 5.7870e-04\n",
            "Epoch 13/1000\n",
            "41/41 [==============================] - 0s 7ms/step - loss: 3.4562e-04\n",
            "Epoch 14/1000\n",
            "41/41 [==============================] - 0s 7ms/step - loss: 6.3798e-04\n",
            "Epoch 15/1000\n",
            "41/41 [==============================] - 0s 8ms/step - loss: 4.6334e-04\n",
            "Epoch 16/1000\n",
            "41/41 [==============================] - 0s 7ms/step - loss: 2.5339e-04\n",
            "Epoch 17/1000\n",
            "41/41 [==============================] - 0s 7ms/step - loss: 3.3962e-04\n",
            "Epoch 18/1000\n",
            "41/41 [==============================] - 0s 7ms/step - loss: 3.7458e-04\n",
            "Epoch 19/1000\n",
            "41/41 [==============================] - 0s 7ms/step - loss: 5.1630e-04\n",
            "Epoch 20/1000\n",
            "41/41 [==============================] - 0s 8ms/step - loss: 5.1597e-04\n",
            "Epoch 21/1000\n",
            "41/41 [==============================] - 0s 9ms/step - loss: 3.3990e-04\n",
            "Epoch 22/1000\n",
            "41/41 [==============================] - 0s 8ms/step - loss: 2.1238e-04\n",
            "Epoch 23/1000\n",
            "41/41 [==============================] - 0s 8ms/step - loss: 5.1010e-04\n",
            "Epoch 24/1000\n",
            "41/41 [==============================] - 0s 9ms/step - loss: 2.5077e-04\n",
            "Epoch 25/1000\n",
            "41/41 [==============================] - 0s 8ms/step - loss: 2.4094e-04\n",
            "Epoch 26/1000\n",
            "41/41 [==============================] - 0s 8ms/step - loss: 2.7086e-04\n",
            "Epoch 27/1000\n",
            "41/41 [==============================] - 0s 9ms/step - loss: 2.5561e-04\n",
            "Epoch 28/1000\n",
            "41/41 [==============================] - 0s 8ms/step - loss: 5.7871e-04\n",
            "Epoch 29/1000\n",
            "41/41 [==============================] - 0s 8ms/step - loss: 2.9520e-04\n",
            "Epoch 30/1000\n",
            "41/41 [==============================] - 0s 8ms/step - loss: 2.4385e-04\n",
            "Epoch 31/1000\n",
            "41/41 [==============================] - 0s 9ms/step - loss: 2.6471e-04\n",
            "Epoch 32/1000\n",
            "41/41 [==============================] - 0s 8ms/step - loss: 3.7069e-04\n",
            "Epoch 33/1000\n",
            "41/41 [==============================] - 0s 8ms/step - loss: 2.4595e-04\n",
            "Epoch 34/1000\n",
            "41/41 [==============================] - 0s 8ms/step - loss: 3.6683e-04\n",
            "Epoch 35/1000\n",
            "41/41 [==============================] - 0s 8ms/step - loss: 2.6285e-04\n",
            "Epoch 36/1000\n",
            "41/41 [==============================] - 0s 7ms/step - loss: 2.0441e-04\n",
            "Epoch 37/1000\n",
            "41/41 [==============================] - 0s 7ms/step - loss: 4.6192e-04\n",
            "Epoch 38/1000\n",
            "41/41 [==============================] - 0s 7ms/step - loss: 2.6670e-04\n",
            "Epoch 39/1000\n",
            "41/41 [==============================] - 0s 9ms/step - loss: 2.5980e-04\n",
            "Epoch 40/1000\n",
            "41/41 [==============================] - 0s 7ms/step - loss: 2.8956e-04\n",
            "Epoch 41/1000\n",
            "41/41 [==============================] - 0s 7ms/step - loss: 2.6343e-04\n",
            "Epoch 42/1000\n",
            "41/41 [==============================] - 0s 7ms/step - loss: 3.3906e-04\n",
            "Epoch 43/1000\n",
            "41/41 [==============================] - 0s 8ms/step - loss: 2.3832e-04\n",
            "Epoch 44/1000\n",
            "41/41 [==============================] - 0s 8ms/step - loss: 2.6368e-04\n",
            "Epoch 45/1000\n",
            "41/41 [==============================] - 0s 9ms/step - loss: 3.6372e-04\n",
            "Epoch 46/1000\n",
            "41/41 [==============================] - 0s 7ms/step - loss: 4.0624e-04\n",
            "Epoch 47/1000\n",
            "41/41 [==============================] - 0s 7ms/step - loss: 2.4271e-04\n",
            "Epoch 48/1000\n",
            "41/41 [==============================] - 0s 7ms/step - loss: 4.4085e-04\n",
            "Epoch 49/1000\n",
            "41/41 [==============================] - 0s 7ms/step - loss: 2.3765e-04\n",
            "Epoch 50/1000\n",
            "41/41 [==============================] - 0s 7ms/step - loss: 2.3941e-04\n",
            "Epoch 51/1000\n",
            "41/41 [==============================] - 0s 7ms/step - loss: 2.9912e-04\n",
            "Epoch 52/1000\n",
            "41/41 [==============================] - 0s 7ms/step - loss: 2.7235e-04\n",
            "Epoch 53/1000\n",
            "41/41 [==============================] - 0s 7ms/step - loss: 1.6555e-04\n",
            "Epoch 54/1000\n",
            "41/41 [==============================] - 0s 7ms/step - loss: 2.6926e-04\n",
            "Epoch 55/1000\n",
            "41/41 [==============================] - 0s 8ms/step - loss: 2.7953e-04\n",
            "Epoch 56/1000\n",
            "41/41 [==============================] - 0s 7ms/step - loss: 4.1560e-04\n",
            "Epoch 57/1000\n",
            "41/41 [==============================] - 0s 7ms/step - loss: 1.9308e-04\n",
            "Epoch 58/1000\n",
            "41/41 [==============================] - 0s 7ms/step - loss: 3.5630e-04\n",
            "Epoch 59/1000\n",
            "41/41 [==============================] - 0s 7ms/step - loss: 2.1329e-04\n",
            "Epoch 60/1000\n",
            "41/41 [==============================] - 0s 7ms/step - loss: 2.0720e-04\n",
            "Epoch 61/1000\n",
            "41/41 [==============================] - 0s 7ms/step - loss: 2.6953e-04\n",
            "Epoch 62/1000\n",
            "41/41 [==============================] - 0s 7ms/step - loss: 2.5904e-04\n",
            "Epoch 63/1000\n",
            "41/41 [==============================] - 0s 8ms/step - loss: 2.6379e-04\n",
            "Epoch 64/1000\n",
            "41/41 [==============================] - 0s 9ms/step - loss: 1.3312e-04\n",
            "Epoch 65/1000\n",
            "41/41 [==============================] - 0s 8ms/step - loss: 3.3667e-04\n",
            "Epoch 66/1000\n",
            "41/41 [==============================] - 0s 8ms/step - loss: 1.7037e-04\n",
            "Epoch 67/1000\n",
            "41/41 [==============================] - 0s 7ms/step - loss: 2.5945e-04\n",
            "Epoch 68/1000\n",
            "41/41 [==============================] - 0s 7ms/step - loss: 2.2941e-04\n",
            "Epoch 69/1000\n",
            "41/41 [==============================] - 0s 7ms/step - loss: 3.0620e-04\n",
            "Epoch 70/1000\n",
            "41/41 [==============================] - 0s 7ms/step - loss: 1.9798e-04\n",
            "Epoch 71/1000\n",
            "41/41 [==============================] - 0s 8ms/step - loss: 1.9916e-04\n",
            "Epoch 72/1000\n",
            "41/41 [==============================] - 0s 7ms/step - loss: 2.1086e-04\n",
            "Epoch 73/1000\n",
            "41/41 [==============================] - 0s 7ms/step - loss: 2.8339e-04\n",
            "Epoch 74/1000\n",
            "41/41 [==============================] - 0s 7ms/step - loss: 1.3641e-04\n",
            "Epoch 75/1000\n",
            "41/41 [==============================] - 0s 8ms/step - loss: 1.5431e-04\n",
            "Epoch 76/1000\n",
            "41/41 [==============================] - 0s 7ms/step - loss: 1.9781e-04\n",
            "Epoch 77/1000\n",
            "41/41 [==============================] - 0s 7ms/step - loss: 2.9250e-04\n",
            "Epoch 78/1000\n",
            "41/41 [==============================] - 0s 9ms/step - loss: 2.2451e-04\n",
            "Epoch 79/1000\n",
            "41/41 [==============================] - 0s 7ms/step - loss: 1.3481e-04\n",
            "Epoch 80/1000\n",
            "41/41 [==============================] - 0s 7ms/step - loss: 2.2144e-04\n",
            "Epoch 81/1000\n",
            "41/41 [==============================] - 0s 8ms/step - loss: 1.6751e-04\n",
            "Epoch 82/1000\n",
            "41/41 [==============================] - 0s 7ms/step - loss: 1.9416e-04\n",
            "Epoch 83/1000\n",
            "41/41 [==============================] - 0s 7ms/step - loss: 2.0789e-04\n",
            "Epoch 84/1000\n",
            "41/41 [==============================] - 0s 7ms/step - loss: 1.8069e-04\n",
            "Epoch 85/1000\n",
            "41/41 [==============================] - 0s 7ms/step - loss: 2.1755e-04\n",
            "Epoch 86/1000\n",
            "41/41 [==============================] - 0s 7ms/step - loss: 2.9333e-04\n",
            "Epoch 87/1000\n",
            "41/41 [==============================] - 0s 8ms/step - loss: 4.3561e-04\n",
            "Epoch 88/1000\n",
            "41/41 [==============================] - 0s 8ms/step - loss: 1.7236e-04\n",
            "Epoch 89/1000\n",
            "41/41 [==============================] - 0s 7ms/step - loss: 2.7952e-04\n",
            "Epoch 90/1000\n",
            "41/41 [==============================] - 0s 8ms/step - loss: 2.6692e-04\n",
            "Epoch 91/1000\n",
            "41/41 [==============================] - 0s 8ms/step - loss: 2.2443e-04\n",
            "Epoch 92/1000\n",
            "41/41 [==============================] - 0s 7ms/step - loss: 1.5871e-04\n",
            "Epoch 93/1000\n",
            "41/41 [==============================] - 0s 7ms/step - loss: 1.8920e-04\n",
            "Epoch 94/1000\n",
            "41/41 [==============================] - 0s 7ms/step - loss: 2.0458e-04\n",
            "Epoch 95/1000\n",
            "41/41 [==============================] - 0s 7ms/step - loss: 2.4160e-04\n",
            "Epoch 96/1000\n",
            "41/41 [==============================] - 0s 7ms/step - loss: 2.7171e-04\n",
            "Epoch 97/1000\n",
            "41/41 [==============================] - 0s 7ms/step - loss: 2.0215e-04\n",
            "Epoch 98/1000\n",
            "41/41 [==============================] - 0s 7ms/step - loss: 1.7741e-04\n",
            "Epoch 99/1000\n",
            "41/41 [==============================] - 0s 7ms/step - loss: 1.7093e-04\n",
            "Epoch 100/1000\n",
            "41/41 [==============================] - 0s 7ms/step - loss: 2.0624e-04\n",
            "Epoch 101/1000\n",
            "41/41 [==============================] - 0s 8ms/step - loss: 2.3695e-04\n",
            "Epoch 102/1000\n",
            "41/41 [==============================] - 0s 8ms/step - loss: 1.2284e-04\n",
            "Epoch 103/1000\n",
            "41/41 [==============================] - 0s 8ms/step - loss: 1.8168e-04\n",
            "Epoch 104/1000\n",
            "41/41 [==============================] - 0s 8ms/step - loss: 2.0079e-04\n",
            "Epoch 105/1000\n",
            "41/41 [==============================] - 0s 7ms/step - loss: 1.5075e-04\n",
            "Epoch 106/1000\n",
            "41/41 [==============================] - 0s 7ms/step - loss: 1.5613e-04\n",
            "Epoch 107/1000\n",
            "41/41 [==============================] - 0s 7ms/step - loss: 3.6771e-04\n",
            "Epoch 108/1000\n",
            "41/41 [==============================] - 0s 9ms/step - loss: 1.4942e-04\n",
            "Epoch 109/1000\n",
            "41/41 [==============================] - 0s 8ms/step - loss: 1.8632e-04\n",
            "Epoch 110/1000\n",
            "41/41 [==============================] - 0s 8ms/step - loss: 2.1318e-04\n",
            "Epoch 111/1000\n",
            "41/41 [==============================] - 0s 9ms/step - loss: 1.9300e-04\n",
            "Epoch 112/1000\n",
            "41/41 [==============================] - 0s 9ms/step - loss: 2.3050e-04\n",
            "Epoch 113/1000\n",
            "41/41 [==============================] - 0s 8ms/step - loss: 2.8644e-04\n",
            "Epoch 114/1000\n",
            "41/41 [==============================] - 0s 8ms/step - loss: 2.2503e-04\n",
            "Epoch 115/1000\n",
            "41/41 [==============================] - 0s 9ms/step - loss: 2.0477e-04\n",
            "Epoch 116/1000\n",
            "41/41 [==============================] - 0s 9ms/step - loss: 2.1398e-04\n",
            "Epoch 117/1000\n",
            "41/41 [==============================] - 0s 7ms/step - loss: 1.9489e-04\n",
            "Epoch 118/1000\n",
            "41/41 [==============================] - 0s 8ms/step - loss: 1.3145e-04\n",
            "Epoch 119/1000\n",
            "41/41 [==============================] - 0s 8ms/step - loss: 1.5871e-04\n",
            "Epoch 120/1000\n",
            "41/41 [==============================] - 0s 7ms/step - loss: 2.6038e-04\n",
            "Epoch 121/1000\n",
            "41/41 [==============================] - 0s 8ms/step - loss: 2.0952e-04\n",
            "Epoch 122/1000\n",
            "41/41 [==============================] - 0s 8ms/step - loss: 2.3513e-04\n",
            "Epoch 123/1000\n",
            "41/41 [==============================] - 0s 7ms/step - loss: 1.8706e-04\n",
            "Epoch 124/1000\n",
            "41/41 [==============================] - 0s 7ms/step - loss: 2.0513e-04\n",
            "Epoch 125/1000\n",
            "41/41 [==============================] - 0s 7ms/step - loss: 1.4836e-04\n",
            "Epoch 126/1000\n",
            "41/41 [==============================] - 0s 7ms/step - loss: 2.2553e-04\n",
            "Epoch 127/1000\n",
            "41/41 [==============================] - 0s 7ms/step - loss: 1.5703e-04\n",
            "Epoch 128/1000\n",
            "41/41 [==============================] - 0s 7ms/step - loss: 2.2956e-04\n",
            "Epoch 129/1000\n",
            "41/41 [==============================] - 0s 7ms/step - loss: 1.3861e-04\n",
            "Epoch 130/1000\n",
            "41/41 [==============================] - 0s 8ms/step - loss: 2.2122e-04\n",
            "Epoch 131/1000\n",
            "41/41 [==============================] - 0s 7ms/step - loss: 2.3953e-04\n",
            "Epoch 132/1000\n",
            "41/41 [==============================] - 0s 8ms/step - loss: 1.9232e-04\n",
            "Epoch 133/1000\n",
            "41/41 [==============================] - 0s 9ms/step - loss: 1.8994e-04\n",
            "Epoch 134/1000\n",
            "41/41 [==============================] - 0s 8ms/step - loss: 1.6266e-04\n",
            "Epoch 135/1000\n",
            "41/41 [==============================] - 0s 8ms/step - loss: 2.8946e-04\n",
            "Epoch 136/1000\n",
            "41/41 [==============================] - 0s 7ms/step - loss: 1.7863e-04\n",
            "Epoch 137/1000\n",
            "41/41 [==============================] - 0s 8ms/step - loss: 1.6858e-04\n",
            "Epoch 138/1000\n",
            "41/41 [==============================] - 0s 8ms/step - loss: 1.2681e-04\n",
            "Epoch 139/1000\n",
            "41/41 [==============================] - 0s 8ms/step - loss: 2.8337e-04\n",
            "Epoch 140/1000\n",
            "41/41 [==============================] - 0s 9ms/step - loss: 1.5293e-04\n",
            "Epoch 141/1000\n",
            "41/41 [==============================] - 0s 9ms/step - loss: 1.3492e-04\n",
            "Epoch 142/1000\n",
            "41/41 [==============================] - 0s 9ms/step - loss: 1.1878e-04\n",
            "Epoch 143/1000\n",
            "41/41 [==============================] - 0s 8ms/step - loss: 2.1374e-04\n",
            "Epoch 144/1000\n",
            "41/41 [==============================] - 0s 8ms/step - loss: 1.7683e-04\n",
            "Epoch 145/1000\n",
            "41/41 [==============================] - 0s 8ms/step - loss: 2.0335e-04\n",
            "Epoch 146/1000\n",
            "41/41 [==============================] - 0s 9ms/step - loss: 1.9538e-04\n",
            "Epoch 147/1000\n",
            "41/41 [==============================] - 0s 8ms/step - loss: 1.7162e-04\n",
            "Epoch 148/1000\n",
            "41/41 [==============================] - 0s 8ms/step - loss: 2.1401e-04\n",
            "Epoch 149/1000\n",
            "41/41 [==============================] - 0s 8ms/step - loss: 1.7929e-04\n",
            "Epoch 150/1000\n",
            "41/41 [==============================] - 0s 8ms/step - loss: 1.7329e-04\n",
            "Epoch 151/1000\n",
            "41/41 [==============================] - 0s 7ms/step - loss: 1.7822e-04\n",
            "Epoch 152/1000\n",
            "41/41 [==============================] - 0s 8ms/step - loss: 1.7546e-04\n",
            "Epoch 153/1000\n",
            "41/41 [==============================] - 0s 8ms/step - loss: 8.6729e-05\n",
            "Epoch 154/1000\n",
            "41/41 [==============================] - 0s 7ms/step - loss: 2.7717e-04\n",
            "Epoch 155/1000\n",
            "41/41 [==============================] - 0s 7ms/step - loss: 1.3922e-04\n",
            "Epoch 156/1000\n",
            "41/41 [==============================] - 0s 7ms/step - loss: 1.4729e-04\n",
            "Epoch 157/1000\n",
            "41/41 [==============================] - 0s 7ms/step - loss: 2.4463e-04\n",
            "Epoch 158/1000\n",
            "41/41 [==============================] - 0s 7ms/step - loss: 1.7732e-04\n",
            "Epoch 159/1000\n",
            "41/41 [==============================] - 0s 8ms/step - loss: 1.6408e-04\n",
            "Epoch 160/1000\n",
            "41/41 [==============================] - 0s 7ms/step - loss: 1.6720e-04\n",
            "Epoch 161/1000\n",
            "41/41 [==============================] - 0s 7ms/step - loss: 2.2517e-04\n",
            "Epoch 162/1000\n",
            "41/41 [==============================] - 0s 8ms/step - loss: 1.3413e-04\n",
            "Epoch 163/1000\n",
            "41/41 [==============================] - 0s 8ms/step - loss: 1.5757e-04\n",
            "Epoch 164/1000\n",
            "41/41 [==============================] - 0s 8ms/step - loss: 1.2140e-04\n",
            "Epoch 165/1000\n",
            "41/41 [==============================] - 0s 8ms/step - loss: 2.0548e-04\n",
            "Epoch 166/1000\n",
            "41/41 [==============================] - 0s 8ms/step - loss: 1.2673e-04\n",
            "Epoch 167/1000\n",
            "41/41 [==============================] - 0s 7ms/step - loss: 2.1745e-04\n",
            "Epoch 168/1000\n",
            "41/41 [==============================] - 0s 8ms/step - loss: 1.6684e-04\n",
            "Epoch 169/1000\n",
            "41/41 [==============================] - 0s 8ms/step - loss: 1.2713e-04\n",
            "Epoch 170/1000\n",
            "41/41 [==============================] - 0s 8ms/step - loss: 1.7855e-04\n",
            "Epoch 171/1000\n",
            "41/41 [==============================] - 0s 8ms/step - loss: 1.2232e-04\n",
            "Epoch 172/1000\n",
            "41/41 [==============================] - 0s 8ms/step - loss: 1.2931e-04\n",
            "Epoch 173/1000\n",
            "41/41 [==============================] - 0s 8ms/step - loss: 8.7818e-05\n",
            "Epoch 174/1000\n",
            "41/41 [==============================] - 0s 8ms/step - loss: 1.3401e-04\n",
            "Epoch 175/1000\n",
            "41/41 [==============================] - 0s 9ms/step - loss: 1.7191e-04\n",
            "Epoch 176/1000\n",
            "41/41 [==============================] - 0s 7ms/step - loss: 1.4873e-04\n",
            "Epoch 177/1000\n",
            "41/41 [==============================] - 0s 7ms/step - loss: 1.8302e-04\n",
            "Epoch 178/1000\n",
            "41/41 [==============================] - 0s 7ms/step - loss: 2.2743e-04\n",
            "Epoch 179/1000\n",
            "41/41 [==============================] - 0s 8ms/step - loss: 1.4865e-04\n",
            "Epoch 180/1000\n",
            "41/41 [==============================] - 0s 8ms/step - loss: 3.0658e-04\n",
            "Epoch 181/1000\n",
            "41/41 [==============================] - 0s 8ms/step - loss: 1.5422e-04\n",
            "Epoch 182/1000\n",
            "41/41 [==============================] - 0s 9ms/step - loss: 1.6505e-04\n",
            "Epoch 183/1000\n",
            "41/41 [==============================] - 0s 8ms/step - loss: 1.8610e-04\n",
            "Epoch 184/1000\n",
            "41/41 [==============================] - 0s 8ms/step - loss: 1.7580e-04\n",
            "Epoch 185/1000\n",
            "41/41 [==============================] - 0s 7ms/step - loss: 2.4697e-04\n",
            "Epoch 186/1000\n",
            "41/41 [==============================] - 0s 7ms/step - loss: 1.8543e-04\n",
            "Epoch 187/1000\n",
            "41/41 [==============================] - 0s 8ms/step - loss: 2.6496e-04\n",
            "Epoch 188/1000\n",
            "41/41 [==============================] - 0s 9ms/step - loss: 1.5388e-04\n",
            "Epoch 189/1000\n",
            "41/41 [==============================] - 0s 8ms/step - loss: 1.6114e-04\n",
            "Epoch 190/1000\n",
            "41/41 [==============================] - 0s 8ms/step - loss: 1.4727e-04\n",
            "Epoch 191/1000\n",
            "41/41 [==============================] - 0s 9ms/step - loss: 1.2697e-04\n",
            "Epoch 192/1000\n",
            "41/41 [==============================] - 0s 8ms/step - loss: 1.3063e-04\n",
            "Epoch 193/1000\n",
            "41/41 [==============================] - 0s 8ms/step - loss: 2.2208e-04\n",
            "Epoch 194/1000\n",
            "41/41 [==============================] - 0s 8ms/step - loss: 1.6351e-04\n",
            "Epoch 195/1000\n",
            "41/41 [==============================] - 0s 8ms/step - loss: 1.3356e-04\n",
            "Epoch 196/1000\n",
            "41/41 [==============================] - 0s 8ms/step - loss: 1.2483e-04\n",
            "Epoch 197/1000\n",
            "41/41 [==============================] - 0s 8ms/step - loss: 1.6746e-04\n",
            "Epoch 198/1000\n",
            "41/41 [==============================] - 0s 8ms/step - loss: 1.4534e-04\n",
            "Epoch 199/1000\n",
            "41/41 [==============================] - 0s 8ms/step - loss: 1.6025e-04\n",
            "Epoch 200/1000\n",
            "41/41 [==============================] - 0s 9ms/step - loss: 1.6963e-04\n",
            "Epoch 201/1000\n",
            "41/41 [==============================] - 0s 7ms/step - loss: 1.5289e-04\n",
            "Epoch 202/1000\n",
            "41/41 [==============================] - 0s 7ms/step - loss: 1.8988e-04\n",
            "Epoch 203/1000\n",
            "41/41 [==============================] - 0s 7ms/step - loss: 2.7686e-04\n",
            "Epoch 204/1000\n",
            "41/41 [==============================] - 0s 8ms/step - loss: 1.5187e-04\n",
            "Epoch 205/1000\n",
            "41/41 [==============================] - 0s 7ms/step - loss: 1.1576e-04\n",
            "Epoch 206/1000\n",
            "41/41 [==============================] - 0s 7ms/step - loss: 1.9052e-04\n",
            "Epoch 207/1000\n",
            "41/41 [==============================] - 0s 7ms/step - loss: 2.2558e-04\n",
            "Epoch 208/1000\n",
            "41/41 [==============================] - 0s 8ms/step - loss: 2.4182e-04\n",
            "Epoch 209/1000\n",
            "41/41 [==============================] - 0s 7ms/step - loss: 1.3485e-04\n",
            "Epoch 210/1000\n",
            "41/41 [==============================] - 0s 7ms/step - loss: 1.3771e-04\n",
            "Epoch 211/1000\n",
            "41/41 [==============================] - 0s 7ms/step - loss: 1.1810e-04\n",
            "Epoch 212/1000\n",
            "41/41 [==============================] - 0s 7ms/step - loss: 1.6488e-04\n",
            "Epoch 213/1000\n",
            "41/41 [==============================] - 0s 7ms/step - loss: 1.4712e-04\n",
            "Epoch 214/1000\n",
            "41/41 [==============================] - 0s 8ms/step - loss: 1.3650e-04\n",
            "Epoch 215/1000\n",
            "41/41 [==============================] - 0s 8ms/step - loss: 1.1210e-04\n",
            "Epoch 216/1000\n",
            "41/41 [==============================] - 0s 7ms/step - loss: 1.3861e-04\n",
            "Epoch 217/1000\n",
            "41/41 [==============================] - 0s 8ms/step - loss: 1.8545e-04\n",
            "Epoch 218/1000\n",
            "41/41 [==============================] - 0s 8ms/step - loss: 1.4426e-04\n",
            "Epoch 219/1000\n",
            "41/41 [==============================] - 0s 7ms/step - loss: 1.7696e-04\n",
            "Epoch 220/1000\n",
            "41/41 [==============================] - 0s 7ms/step - loss: 1.2034e-04\n",
            "Epoch 221/1000\n",
            "41/41 [==============================] - 0s 8ms/step - loss: 1.8904e-04\n",
            "Epoch 222/1000\n",
            "41/41 [==============================] - 0s 9ms/step - loss: 1.0292e-04\n",
            "Epoch 223/1000\n",
            "41/41 [==============================] - 0s 7ms/step - loss: 1.4719e-04\n",
            "Epoch 224/1000\n",
            "41/41 [==============================] - 0s 7ms/step - loss: 1.5696e-04\n",
            "Epoch 225/1000\n",
            "41/41 [==============================] - 0s 7ms/step - loss: 2.4346e-04\n",
            "Epoch 226/1000\n",
            "41/41 [==============================] - 0s 8ms/step - loss: 1.3189e-04\n",
            "Epoch 227/1000\n",
            "41/41 [==============================] - 0s 8ms/step - loss: 1.5756e-04\n",
            "Epoch 228/1000\n",
            "41/41 [==============================] - 0s 9ms/step - loss: 1.4833e-04\n",
            "Epoch 229/1000\n",
            "41/41 [==============================] - 0s 9ms/step - loss: 2.0926e-04\n",
            "Epoch 230/1000\n",
            "41/41 [==============================] - 0s 8ms/step - loss: 1.2331e-04\n",
            "Epoch 231/1000\n",
            "41/41 [==============================] - 0s 8ms/step - loss: 1.0993e-04\n",
            "Epoch 232/1000\n",
            "41/41 [==============================] - 0s 9ms/step - loss: 1.4333e-04\n",
            "Epoch 233/1000\n",
            "41/41 [==============================] - 0s 8ms/step - loss: 1.5846e-04\n",
            "Epoch 234/1000\n",
            "41/41 [==============================] - 0s 9ms/step - loss: 1.7029e-04\n",
            "Epoch 235/1000\n",
            "41/41 [==============================] - 0s 9ms/step - loss: 1.0847e-04\n",
            "Epoch 236/1000\n",
            "41/41 [==============================] - 0s 8ms/step - loss: 1.1429e-04\n",
            "Epoch 237/1000\n",
            "41/41 [==============================] - 0s 9ms/step - loss: 1.3212e-04\n",
            "Epoch 238/1000\n",
            "41/41 [==============================] - 0s 9ms/step - loss: 1.0605e-04\n",
            "Epoch 239/1000\n",
            "41/41 [==============================] - 0s 8ms/step - loss: 4.0845e-04\n",
            "Epoch 240/1000\n",
            "41/41 [==============================] - 0s 9ms/step - loss: 1.3267e-04\n",
            "Epoch 241/1000\n",
            "41/41 [==============================] - 0s 9ms/step - loss: 1.2834e-04\n",
            "Epoch 242/1000\n",
            "41/41 [==============================] - 0s 9ms/step - loss: 1.3042e-04\n",
            "Epoch 243/1000\n",
            "41/41 [==============================] - 0s 9ms/step - loss: 1.1906e-04\n",
            "Epoch 244/1000\n",
            "41/41 [==============================] - 0s 8ms/step - loss: 1.2073e-04\n",
            "Epoch 245/1000\n",
            "41/41 [==============================] - 0s 7ms/step - loss: 1.6675e-04\n",
            "Epoch 246/1000\n",
            "41/41 [==============================] - 0s 7ms/step - loss: 1.3850e-04\n",
            "Epoch 247/1000\n",
            "41/41 [==============================] - 0s 8ms/step - loss: 1.5761e-04\n",
            "Epoch 248/1000\n",
            "41/41 [==============================] - 0s 7ms/step - loss: 9.5960e-05\n",
            "Epoch 249/1000\n",
            "41/41 [==============================] - 0s 7ms/step - loss: 1.2425e-04\n",
            "Epoch 250/1000\n",
            "41/41 [==============================] - 0s 7ms/step - loss: 1.4792e-04\n",
            "Epoch 251/1000\n",
            "41/41 [==============================] - 0s 7ms/step - loss: 1.6956e-04\n",
            "Epoch 252/1000\n",
            "41/41 [==============================] - 0s 7ms/step - loss: 3.0592e-04\n",
            "Epoch 253/1000\n",
            "41/41 [==============================] - 0s 8ms/step - loss: 1.4043e-04\n",
            "Epoch 254/1000\n",
            "41/41 [==============================] - 0s 9ms/step - loss: 1.6301e-04\n",
            "Epoch 255/1000\n",
            "41/41 [==============================] - 0s 8ms/step - loss: 7.8672e-05\n",
            "Epoch 256/1000\n",
            "41/41 [==============================] - 0s 8ms/step - loss: 1.0729e-04\n",
            "Epoch 257/1000\n",
            "41/41 [==============================] - 0s 8ms/step - loss: 1.5447e-04\n",
            "Epoch 258/1000\n",
            "41/41 [==============================] - 0s 7ms/step - loss: 1.3612e-04\n",
            "Epoch 259/1000\n",
            "41/41 [==============================] - 0s 7ms/step - loss: 1.4067e-04\n",
            "Epoch 260/1000\n",
            "41/41 [==============================] - 0s 7ms/step - loss: 1.0091e-04\n",
            "Epoch 261/1000\n",
            "41/41 [==============================] - 0s 7ms/step - loss: 1.3983e-04\n",
            "Epoch 262/1000\n",
            "41/41 [==============================] - 0s 7ms/step - loss: 1.0133e-04\n",
            "Epoch 263/1000\n",
            "41/41 [==============================] - 0s 7ms/step - loss: 1.4770e-04\n",
            "Epoch 264/1000\n",
            "41/41 [==============================] - 0s 7ms/step - loss: 1.1531e-04\n",
            "Epoch 265/1000\n",
            "41/41 [==============================] - 0s 7ms/step - loss: 1.0997e-04\n",
            "Epoch 266/1000\n",
            "41/41 [==============================] - 0s 7ms/step - loss: 1.3482e-04\n",
            "Epoch 267/1000\n",
            "41/41 [==============================] - 0s 7ms/step - loss: 9.9687e-05\n",
            "Epoch 268/1000\n",
            "41/41 [==============================] - 0s 7ms/step - loss: 2.0288e-04\n",
            "Epoch 269/1000\n",
            "41/41 [==============================] - 0s 7ms/step - loss: 1.6941e-04\n",
            "Epoch 270/1000\n",
            "41/41 [==============================] - 0s 8ms/step - loss: 1.0282e-04\n",
            "Epoch 271/1000\n",
            "41/41 [==============================] - 0s 7ms/step - loss: 9.4089e-05\n",
            "Epoch 272/1000\n",
            "41/41 [==============================] - 0s 7ms/step - loss: 1.2026e-04\n",
            "Epoch 273/1000\n",
            "41/41 [==============================] - 0s 7ms/step - loss: 1.3945e-04\n",
            "Epoch 274/1000\n",
            "41/41 [==============================] - 0s 7ms/step - loss: 1.1538e-04\n",
            "Epoch 275/1000\n",
            "41/41 [==============================] - 0s 7ms/step - loss: 1.2061e-04\n",
            "Epoch 276/1000\n",
            "41/41 [==============================] - 0s 8ms/step - loss: 1.7562e-04\n",
            "Epoch 277/1000\n",
            "41/41 [==============================] - 0s 7ms/step - loss: 1.4482e-04\n",
            "Epoch 278/1000\n",
            "41/41 [==============================] - 0s 8ms/step - loss: 1.2707e-04\n",
            "Epoch 279/1000\n",
            "41/41 [==============================] - 0s 8ms/step - loss: 9.4126e-05\n",
            "Epoch 280/1000\n",
            "41/41 [==============================] - 0s 7ms/step - loss: 1.6218e-04\n",
            "Epoch 281/1000\n",
            "41/41 [==============================] - 0s 7ms/step - loss: 1.3308e-04\n",
            "Epoch 282/1000\n",
            "41/41 [==============================] - 0s 8ms/step - loss: 1.1992e-04\n",
            "Epoch 283/1000\n",
            "41/41 [==============================] - 0s 9ms/step - loss: 1.2085e-04\n",
            "Epoch 284/1000\n",
            "41/41 [==============================] - 0s 8ms/step - loss: 1.0068e-04\n",
            "Epoch 285/1000\n",
            "41/41 [==============================] - 0s 9ms/step - loss: 1.5402e-04\n",
            "Epoch 286/1000\n",
            "41/41 [==============================] - 0s 9ms/step - loss: 1.2800e-04\n",
            "Epoch 287/1000\n",
            "41/41 [==============================] - 0s 9ms/step - loss: 1.0732e-04\n",
            "Epoch 288/1000\n",
            "41/41 [==============================] - 0s 9ms/step - loss: 8.7540e-05\n",
            "Epoch 289/1000\n",
            "41/41 [==============================] - 0s 7ms/step - loss: 1.5594e-04\n",
            "Epoch 290/1000\n",
            "41/41 [==============================] - 0s 9ms/step - loss: 1.4284e-04\n",
            "Epoch 291/1000\n",
            "41/41 [==============================] - 0s 8ms/step - loss: 1.4844e-04\n",
            "Epoch 292/1000\n",
            "41/41 [==============================] - 0s 7ms/step - loss: 1.5257e-04\n",
            "Epoch 293/1000\n",
            "41/41 [==============================] - 0s 7ms/step - loss: 1.3081e-04\n",
            "Epoch 294/1000\n",
            "41/41 [==============================] - 0s 9ms/step - loss: 1.2926e-04\n",
            "Epoch 295/1000\n",
            "41/41 [==============================] - 0s 7ms/step - loss: 1.5409e-04\n",
            "Epoch 296/1000\n",
            "41/41 [==============================] - 0s 7ms/step - loss: 1.2300e-04\n",
            "Epoch 297/1000\n",
            "41/41 [==============================] - 0s 8ms/step - loss: 1.3520e-04\n",
            "Epoch 298/1000\n",
            "41/41 [==============================] - 0s 7ms/step - loss: 7.5788e-05\n",
            "Epoch 299/1000\n",
            "41/41 [==============================] - 0s 7ms/step - loss: 1.6626e-04\n",
            "Epoch 300/1000\n",
            "41/41 [==============================] - 0s 9ms/step - loss: 1.0792e-04\n",
            "Epoch 301/1000\n",
            "41/41 [==============================] - 0s 8ms/step - loss: 1.2717e-04\n",
            "Epoch 302/1000\n",
            "41/41 [==============================] - 0s 7ms/step - loss: 1.1742e-04\n",
            "Epoch 303/1000\n",
            "41/41 [==============================] - 0s 7ms/step - loss: 1.5226e-04\n",
            "Epoch 304/1000\n",
            "41/41 [==============================] - 0s 8ms/step - loss: 1.5198e-04\n",
            "Epoch 305/1000\n",
            "41/41 [==============================] - 0s 8ms/step - loss: 9.7513e-05\n",
            "Epoch 306/1000\n",
            "41/41 [==============================] - 0s 8ms/step - loss: 1.3354e-04\n",
            "Epoch 307/1000\n",
            "41/41 [==============================] - 0s 8ms/step - loss: 1.5379e-04\n",
            "Epoch 308/1000\n",
            "41/41 [==============================] - 0s 7ms/step - loss: 1.2506e-04\n",
            "Epoch 309/1000\n",
            "41/41 [==============================] - 0s 8ms/step - loss: 1.0166e-04\n",
            "Epoch 310/1000\n",
            "41/41 [==============================] - 0s 8ms/step - loss: 1.0017e-04\n",
            "Epoch 311/1000\n",
            "41/41 [==============================] - 0s 8ms/step - loss: 1.3802e-04\n",
            "Epoch 312/1000\n",
            "41/41 [==============================] - 0s 8ms/step - loss: 1.7195e-04\n",
            "Epoch 313/1000\n",
            "41/41 [==============================] - 0s 8ms/step - loss: 9.7133e-05\n",
            "Epoch 314/1000\n",
            "41/41 [==============================] - 0s 8ms/step - loss: 1.2629e-04\n",
            "Epoch 315/1000\n",
            "41/41 [==============================] - 0s 9ms/step - loss: 1.2336e-04\n",
            "Epoch 316/1000\n",
            "41/41 [==============================] - 0s 8ms/step - loss: 1.1679e-04\n",
            "Epoch 317/1000\n",
            "41/41 [==============================] - 0s 7ms/step - loss: 1.0533e-04\n",
            "Epoch 318/1000\n",
            "41/41 [==============================] - 0s 7ms/step - loss: 9.9320e-05\n",
            "Epoch 319/1000\n",
            "41/41 [==============================] - 0s 8ms/step - loss: 1.1263e-04\n",
            "Epoch 320/1000\n",
            "41/41 [==============================] - 0s 7ms/step - loss: 1.0185e-04\n",
            "Epoch 321/1000\n",
            "41/41 [==============================] - 0s 7ms/step - loss: 1.5497e-04\n",
            "Epoch 322/1000\n",
            "41/41 [==============================] - 0s 8ms/step - loss: 1.6998e-04\n",
            "Epoch 323/1000\n",
            "41/41 [==============================] - 0s 7ms/step - loss: 9.0578e-05\n",
            "Epoch 324/1000\n",
            "41/41 [==============================] - 0s 7ms/step - loss: 1.0764e-04\n",
            "Epoch 325/1000\n",
            "41/41 [==============================] - 0s 8ms/step - loss: 8.2333e-05\n",
            "Epoch 326/1000\n",
            "41/41 [==============================] - 0s 7ms/step - loss: 9.8844e-05\n",
            "Epoch 327/1000\n",
            "41/41 [==============================] - 0s 8ms/step - loss: 1.3285e-04\n",
            "Epoch 328/1000\n",
            "41/41 [==============================] - 0s 8ms/step - loss: 2.6955e-04\n",
            "Epoch 329/1000\n",
            "41/41 [==============================] - 0s 8ms/step - loss: 8.5061e-05\n",
            "Epoch 330/1000\n",
            "41/41 [==============================] - 0s 7ms/step - loss: 1.1908e-04\n",
            "Epoch 331/1000\n",
            "41/41 [==============================] - 0s 7ms/step - loss: 1.2841e-04\n",
            "Epoch 332/1000\n",
            "41/41 [==============================] - 0s 7ms/step - loss: 1.6033e-04\n",
            "Epoch 333/1000\n",
            "41/41 [==============================] - 0s 7ms/step - loss: 1.5037e-04\n",
            "Epoch 334/1000\n",
            "41/41 [==============================] - 0s 7ms/step - loss: 1.0889e-04\n",
            "Epoch 335/1000\n",
            "41/41 [==============================] - 0s 8ms/step - loss: 1.2840e-04\n",
            "Epoch 336/1000\n",
            "41/41 [==============================] - 0s 8ms/step - loss: 1.1636e-04\n",
            "Epoch 337/1000\n",
            "41/41 [==============================] - 0s 7ms/step - loss: 1.1137e-04\n",
            "Epoch 338/1000\n",
            "41/41 [==============================] - 0s 8ms/step - loss: 1.0159e-04\n",
            "Epoch 339/1000\n",
            "41/41 [==============================] - 0s 7ms/step - loss: 8.6388e-05\n",
            "Epoch 340/1000\n",
            "41/41 [==============================] - 0s 7ms/step - loss: 1.0961e-04\n",
            "Epoch 341/1000\n",
            "41/41 [==============================] - 0s 7ms/step - loss: 1.0296e-04\n",
            "Epoch 342/1000\n",
            "41/41 [==============================] - 0s 7ms/step - loss: 1.8657e-04\n",
            "Epoch 343/1000\n",
            "41/41 [==============================] - 0s 7ms/step - loss: 1.1752e-04\n",
            "Epoch 344/1000\n",
            "41/41 [==============================] - 0s 7ms/step - loss: 1.7794e-04\n",
            "Epoch 345/1000\n",
            "41/41 [==============================] - 0s 8ms/step - loss: 1.0681e-04\n",
            "Epoch 346/1000\n",
            "41/41 [==============================] - 0s 8ms/step - loss: 1.1519e-04\n",
            "Epoch 347/1000\n",
            "41/41 [==============================] - 0s 8ms/step - loss: 1.2848e-04\n",
            "Epoch 348/1000\n",
            "41/41 [==============================] - 0s 9ms/step - loss: 8.7053e-05\n",
            "Epoch 349/1000\n",
            "41/41 [==============================] - 0s 9ms/step - loss: 1.0600e-04\n",
            "Epoch 350/1000\n",
            "41/41 [==============================] - 0s 9ms/step - loss: 1.5437e-04\n",
            "Epoch 351/1000\n",
            "41/41 [==============================] - 0s 9ms/step - loss: 1.1045e-04\n",
            "Epoch 352/1000\n",
            "41/41 [==============================] - 0s 9ms/step - loss: 1.4547e-04\n",
            "Epoch 353/1000\n",
            "41/41 [==============================] - 0s 8ms/step - loss: 1.3767e-04\n",
            "Epoch 354/1000\n",
            "41/41 [==============================] - 0s 7ms/step - loss: 1.2343e-04\n",
            "Epoch 355/1000\n",
            "41/41 [==============================] - 0s 7ms/step - loss: 9.6426e-05\n",
            "Epoch 356/1000\n",
            "41/41 [==============================] - 0s 7ms/step - loss: 1.0478e-04\n",
            "Epoch 357/1000\n",
            "41/41 [==============================] - 0s 8ms/step - loss: 1.3354e-04\n",
            "Epoch 358/1000\n",
            "41/41 [==============================] - 0s 8ms/step - loss: 9.5390e-05\n",
            "Epoch 359/1000\n",
            "41/41 [==============================] - 0s 8ms/step - loss: 1.5610e-04\n",
            "Epoch 360/1000\n",
            "41/41 [==============================] - 0s 8ms/step - loss: 1.2310e-04\n",
            "Epoch 361/1000\n",
            "41/41 [==============================] - 0s 7ms/step - loss: 1.0255e-04\n",
            "Epoch 362/1000\n",
            "41/41 [==============================] - 0s 9ms/step - loss: 1.0011e-04\n",
            "Epoch 363/1000\n",
            "41/41 [==============================] - 0s 9ms/step - loss: 6.7553e-05\n",
            "Epoch 364/1000\n",
            "41/41 [==============================] - 0s 8ms/step - loss: 1.2426e-04\n",
            "Epoch 365/1000\n",
            "41/41 [==============================] - 0s 8ms/step - loss: 1.0248e-04\n",
            "Epoch 366/1000\n",
            "41/41 [==============================] - 0s 8ms/step - loss: 1.0299e-04\n",
            "Epoch 367/1000\n",
            "41/41 [==============================] - 0s 7ms/step - loss: 1.0296e-04\n",
            "Epoch 368/1000\n",
            "41/41 [==============================] - 0s 8ms/step - loss: 1.1829e-04\n",
            "Epoch 369/1000\n",
            "41/41 [==============================] - 0s 7ms/step - loss: 1.1232e-04\n",
            "Epoch 370/1000\n",
            "41/41 [==============================] - 0s 7ms/step - loss: 1.4474e-04\n",
            "Epoch 371/1000\n",
            "41/41 [==============================] - 0s 8ms/step - loss: 1.2943e-04\n",
            "Epoch 372/1000\n",
            "41/41 [==============================] - 0s 8ms/step - loss: 9.3165e-05\n",
            "Epoch 373/1000\n",
            "41/41 [==============================] - 0s 9ms/step - loss: 1.0864e-04\n",
            "Epoch 374/1000\n",
            "41/41 [==============================] - 0s 8ms/step - loss: 9.0551e-05\n",
            "Epoch 375/1000\n",
            "41/41 [==============================] - 0s 7ms/step - loss: 1.3487e-04\n",
            "Epoch 376/1000\n",
            "41/41 [==============================] - 0s 9ms/step - loss: 1.2300e-04\n",
            "Epoch 377/1000\n",
            "41/41 [==============================] - 0s 9ms/step - loss: 8.1055e-05\n",
            "Epoch 378/1000\n",
            "41/41 [==============================] - 0s 8ms/step - loss: 1.1177e-04\n",
            "Epoch 379/1000\n",
            "41/41 [==============================] - 0s 7ms/step - loss: 1.2866e-04\n",
            "Epoch 380/1000\n",
            "41/41 [==============================] - 0s 7ms/step - loss: 8.9865e-05\n",
            "Epoch 381/1000\n",
            "41/41 [==============================] - 0s 8ms/step - loss: 1.4554e-04\n",
            "Epoch 382/1000\n",
            "41/41 [==============================] - 0s 7ms/step - loss: 1.0983e-04\n",
            "Epoch 383/1000\n",
            "41/41 [==============================] - 0s 7ms/step - loss: 8.2273e-05\n",
            "Epoch 384/1000\n",
            "41/41 [==============================] - 0s 7ms/step - loss: 1.3017e-04\n",
            "Epoch 385/1000\n",
            "41/41 [==============================] - 0s 7ms/step - loss: 1.2095e-04\n",
            "Epoch 386/1000\n",
            "41/41 [==============================] - 0s 7ms/step - loss: 1.4094e-04\n",
            "Epoch 387/1000\n",
            "41/41 [==============================] - 0s 7ms/step - loss: 1.0033e-04\n",
            "Epoch 388/1000\n",
            "41/41 [==============================] - 0s 8ms/step - loss: 1.9821e-04\n",
            "Epoch 389/1000\n",
            "41/41 [==============================] - 0s 7ms/step - loss: 1.0289e-04\n",
            "Epoch 390/1000\n",
            "41/41 [==============================] - 0s 8ms/step - loss: 9.2981e-05\n",
            "Epoch 391/1000\n",
            "41/41 [==============================] - 0s 8ms/step - loss: 9.2639e-05\n",
            "Epoch 392/1000\n",
            "41/41 [==============================] - 0s 9ms/step - loss: 1.0259e-04\n",
            "Epoch 393/1000\n",
            "41/41 [==============================] - 0s 9ms/step - loss: 1.7835e-04\n",
            "Epoch 394/1000\n",
            "41/41 [==============================] - 0s 8ms/step - loss: 9.1925e-05\n",
            "Epoch 395/1000\n",
            "41/41 [==============================] - 0s 9ms/step - loss: 1.0346e-04\n",
            "Epoch 396/1000\n",
            "41/41 [==============================] - 0s 9ms/step - loss: 9.9180e-05\n",
            "Epoch 397/1000\n",
            "41/41 [==============================] - 0s 8ms/step - loss: 1.2376e-04\n",
            "Epoch 398/1000\n",
            "41/41 [==============================] - 0s 7ms/step - loss: 1.3044e-04\n",
            "Epoch 399/1000\n",
            "41/41 [==============================] - 0s 8ms/step - loss: 7.2109e-05\n",
            "Epoch 400/1000\n",
            "41/41 [==============================] - 0s 9ms/step - loss: 1.5369e-04\n",
            "Epoch 401/1000\n",
            "41/41 [==============================] - 0s 9ms/step - loss: 8.2134e-05\n",
            "Epoch 402/1000\n",
            " 1/41 [..............................] - ETA: 0s - loss: 1.2126e-04"
          ],
          "name": "stdout"
        },
        {
          "output_type": "error",
          "ename": "KeyboardInterrupt",
          "evalue": "ignored",
          "traceback": [
            "\u001b[0;31m---------------------------------------------------------------------------\u001b[0m",
            "\u001b[0;31mKeyboardInterrupt\u001b[0m                         Traceback (most recent call last)",
            "\u001b[0;32m<ipython-input-13-e38c877ca82c>\u001b[0m in \u001b[0;36m<module>\u001b[0;34m()\u001b[0m\n\u001b[0;32m----> 1\u001b[0;31m \u001b[0mmodel\u001b[0m\u001b[0;34m.\u001b[0m\u001b[0mfit\u001b[0m\u001b[0;34m(\u001b[0m\u001b[0mx_train\u001b[0m\u001b[0;34m,\u001b[0m\u001b[0my_train\u001b[0m\u001b[0;34m,\u001b[0m\u001b[0mbatch_size\u001b[0m\u001b[0;34m=\u001b[0m \u001b[0;36m43\u001b[0m\u001b[0;34m,\u001b[0m\u001b[0mepochs\u001b[0m\u001b[0;34m=\u001b[0m\u001b[0;36m1000\u001b[0m\u001b[0;34m)\u001b[0m\u001b[0;34m\u001b[0m\u001b[0;34m\u001b[0m\u001b[0m\n\u001b[0m",
            "\u001b[0;32m/usr/local/lib/python3.6/dist-packages/tensorflow/python/keras/engine/training.py\u001b[0m in \u001b[0;36mfit\u001b[0;34m(self, x, y, batch_size, epochs, verbose, callbacks, validation_split, validation_data, shuffle, class_weight, sample_weight, initial_epoch, steps_per_epoch, validation_steps, validation_batch_size, validation_freq, max_queue_size, workers, use_multiprocessing)\u001b[0m\n\u001b[1;32m   1098\u001b[0m                 _r=1):\n\u001b[1;32m   1099\u001b[0m               \u001b[0mcallbacks\u001b[0m\u001b[0;34m.\u001b[0m\u001b[0mon_train_batch_begin\u001b[0m\u001b[0;34m(\u001b[0m\u001b[0mstep\u001b[0m\u001b[0;34m)\u001b[0m\u001b[0;34m\u001b[0m\u001b[0;34m\u001b[0m\u001b[0m\n\u001b[0;32m-> 1100\u001b[0;31m               \u001b[0mtmp_logs\u001b[0m \u001b[0;34m=\u001b[0m \u001b[0mself\u001b[0m\u001b[0;34m.\u001b[0m\u001b[0mtrain_function\u001b[0m\u001b[0;34m(\u001b[0m\u001b[0miterator\u001b[0m\u001b[0;34m)\u001b[0m\u001b[0;34m\u001b[0m\u001b[0;34m\u001b[0m\u001b[0m\n\u001b[0m\u001b[1;32m   1101\u001b[0m               \u001b[0;32mif\u001b[0m \u001b[0mdata_handler\u001b[0m\u001b[0;34m.\u001b[0m\u001b[0mshould_sync\u001b[0m\u001b[0;34m:\u001b[0m\u001b[0;34m\u001b[0m\u001b[0;34m\u001b[0m\u001b[0m\n\u001b[1;32m   1102\u001b[0m                 \u001b[0mcontext\u001b[0m\u001b[0;34m.\u001b[0m\u001b[0masync_wait\u001b[0m\u001b[0;34m(\u001b[0m\u001b[0;34m)\u001b[0m\u001b[0;34m\u001b[0m\u001b[0;34m\u001b[0m\u001b[0m\n",
            "\u001b[0;32m/usr/local/lib/python3.6/dist-packages/tensorflow/python/eager/def_function.py\u001b[0m in \u001b[0;36m__call__\u001b[0;34m(self, *args, **kwds)\u001b[0m\n\u001b[1;32m    826\u001b[0m     \u001b[0mtracing_count\u001b[0m \u001b[0;34m=\u001b[0m \u001b[0mself\u001b[0m\u001b[0;34m.\u001b[0m\u001b[0mexperimental_get_tracing_count\u001b[0m\u001b[0;34m(\u001b[0m\u001b[0;34m)\u001b[0m\u001b[0;34m\u001b[0m\u001b[0;34m\u001b[0m\u001b[0m\n\u001b[1;32m    827\u001b[0m     \u001b[0;32mwith\u001b[0m \u001b[0mtrace\u001b[0m\u001b[0;34m.\u001b[0m\u001b[0mTrace\u001b[0m\u001b[0;34m(\u001b[0m\u001b[0mself\u001b[0m\u001b[0;34m.\u001b[0m\u001b[0m_name\u001b[0m\u001b[0;34m)\u001b[0m \u001b[0;32mas\u001b[0m \u001b[0mtm\u001b[0m\u001b[0;34m:\u001b[0m\u001b[0;34m\u001b[0m\u001b[0;34m\u001b[0m\u001b[0m\n\u001b[0;32m--> 828\u001b[0;31m       \u001b[0mresult\u001b[0m \u001b[0;34m=\u001b[0m \u001b[0mself\u001b[0m\u001b[0;34m.\u001b[0m\u001b[0m_call\u001b[0m\u001b[0;34m(\u001b[0m\u001b[0;34m*\u001b[0m\u001b[0margs\u001b[0m\u001b[0;34m,\u001b[0m \u001b[0;34m**\u001b[0m\u001b[0mkwds\u001b[0m\u001b[0;34m)\u001b[0m\u001b[0;34m\u001b[0m\u001b[0;34m\u001b[0m\u001b[0m\n\u001b[0m\u001b[1;32m    829\u001b[0m       \u001b[0mcompiler\u001b[0m \u001b[0;34m=\u001b[0m \u001b[0;34m\"xla\"\u001b[0m \u001b[0;32mif\u001b[0m \u001b[0mself\u001b[0m\u001b[0;34m.\u001b[0m\u001b[0m_experimental_compile\u001b[0m \u001b[0;32melse\u001b[0m \u001b[0;34m\"nonXla\"\u001b[0m\u001b[0;34m\u001b[0m\u001b[0;34m\u001b[0m\u001b[0m\n\u001b[1;32m    830\u001b[0m       \u001b[0mnew_tracing_count\u001b[0m \u001b[0;34m=\u001b[0m \u001b[0mself\u001b[0m\u001b[0;34m.\u001b[0m\u001b[0mexperimental_get_tracing_count\u001b[0m\u001b[0;34m(\u001b[0m\u001b[0;34m)\u001b[0m\u001b[0;34m\u001b[0m\u001b[0;34m\u001b[0m\u001b[0m\n",
            "\u001b[0;32m/usr/local/lib/python3.6/dist-packages/tensorflow/python/eager/def_function.py\u001b[0m in \u001b[0;36m_call\u001b[0;34m(self, *args, **kwds)\u001b[0m\n\u001b[1;32m    853\u001b[0m       \u001b[0;31m# In this case we have created variables on the first call, so we run the\u001b[0m\u001b[0;34m\u001b[0m\u001b[0;34m\u001b[0m\u001b[0;34m\u001b[0m\u001b[0m\n\u001b[1;32m    854\u001b[0m       \u001b[0;31m# defunned version which is guaranteed to never create variables.\u001b[0m\u001b[0;34m\u001b[0m\u001b[0;34m\u001b[0m\u001b[0;34m\u001b[0m\u001b[0m\n\u001b[0;32m--> 855\u001b[0;31m       \u001b[0;32mreturn\u001b[0m \u001b[0mself\u001b[0m\u001b[0;34m.\u001b[0m\u001b[0m_stateless_fn\u001b[0m\u001b[0;34m(\u001b[0m\u001b[0;34m*\u001b[0m\u001b[0margs\u001b[0m\u001b[0;34m,\u001b[0m \u001b[0;34m**\u001b[0m\u001b[0mkwds\u001b[0m\u001b[0;34m)\u001b[0m  \u001b[0;31m# pylint: disable=not-callable\u001b[0m\u001b[0;34m\u001b[0m\u001b[0;34m\u001b[0m\u001b[0m\n\u001b[0m\u001b[1;32m    856\u001b[0m     \u001b[0;32melif\u001b[0m \u001b[0mself\u001b[0m\u001b[0;34m.\u001b[0m\u001b[0m_stateful_fn\u001b[0m \u001b[0;32mis\u001b[0m \u001b[0;32mnot\u001b[0m \u001b[0;32mNone\u001b[0m\u001b[0;34m:\u001b[0m\u001b[0;34m\u001b[0m\u001b[0;34m\u001b[0m\u001b[0m\n\u001b[1;32m    857\u001b[0m       \u001b[0;31m# Release the lock early so that multiple threads can perform the call\u001b[0m\u001b[0;34m\u001b[0m\u001b[0;34m\u001b[0m\u001b[0;34m\u001b[0m\u001b[0m\n",
            "\u001b[0;32m/usr/local/lib/python3.6/dist-packages/tensorflow/python/eager/function.py\u001b[0m in \u001b[0;36m__call__\u001b[0;34m(self, *args, **kwargs)\u001b[0m\n\u001b[1;32m   2941\u001b[0m        filtered_flat_args) = self._maybe_define_function(args, kwargs)\n\u001b[1;32m   2942\u001b[0m     return graph_function._call_flat(\n\u001b[0;32m-> 2943\u001b[0;31m         filtered_flat_args, captured_inputs=graph_function.captured_inputs)  # pylint: disable=protected-access\n\u001b[0m\u001b[1;32m   2944\u001b[0m \u001b[0;34m\u001b[0m\u001b[0m\n\u001b[1;32m   2945\u001b[0m   \u001b[0;34m@\u001b[0m\u001b[0mproperty\u001b[0m\u001b[0;34m\u001b[0m\u001b[0;34m\u001b[0m\u001b[0m\n",
            "\u001b[0;32m/usr/local/lib/python3.6/dist-packages/tensorflow/python/eager/function.py\u001b[0m in \u001b[0;36m_call_flat\u001b[0;34m(self, args, captured_inputs, cancellation_manager)\u001b[0m\n\u001b[1;32m   1917\u001b[0m       \u001b[0;31m# No tape is watching; skip to running the function.\u001b[0m\u001b[0;34m\u001b[0m\u001b[0;34m\u001b[0m\u001b[0;34m\u001b[0m\u001b[0m\n\u001b[1;32m   1918\u001b[0m       return self._build_call_outputs(self._inference_function.call(\n\u001b[0;32m-> 1919\u001b[0;31m           ctx, args, cancellation_manager=cancellation_manager))\n\u001b[0m\u001b[1;32m   1920\u001b[0m     forward_backward = self._select_forward_and_backward_functions(\n\u001b[1;32m   1921\u001b[0m         \u001b[0margs\u001b[0m\u001b[0;34m,\u001b[0m\u001b[0;34m\u001b[0m\u001b[0;34m\u001b[0m\u001b[0m\n",
            "\u001b[0;32m/usr/local/lib/python3.6/dist-packages/tensorflow/python/eager/function.py\u001b[0m in \u001b[0;36mcall\u001b[0;34m(self, ctx, args, cancellation_manager)\u001b[0m\n\u001b[1;32m    558\u001b[0m               \u001b[0minputs\u001b[0m\u001b[0;34m=\u001b[0m\u001b[0margs\u001b[0m\u001b[0;34m,\u001b[0m\u001b[0;34m\u001b[0m\u001b[0;34m\u001b[0m\u001b[0m\n\u001b[1;32m    559\u001b[0m               \u001b[0mattrs\u001b[0m\u001b[0;34m=\u001b[0m\u001b[0mattrs\u001b[0m\u001b[0;34m,\u001b[0m\u001b[0;34m\u001b[0m\u001b[0;34m\u001b[0m\u001b[0m\n\u001b[0;32m--> 560\u001b[0;31m               ctx=ctx)\n\u001b[0m\u001b[1;32m    561\u001b[0m         \u001b[0;32melse\u001b[0m\u001b[0;34m:\u001b[0m\u001b[0;34m\u001b[0m\u001b[0;34m\u001b[0m\u001b[0m\n\u001b[1;32m    562\u001b[0m           outputs = execute.execute_with_cancellation(\n",
            "\u001b[0;32m/usr/local/lib/python3.6/dist-packages/tensorflow/python/eager/execute.py\u001b[0m in \u001b[0;36mquick_execute\u001b[0;34m(op_name, num_outputs, inputs, attrs, ctx, name)\u001b[0m\n\u001b[1;32m     58\u001b[0m     \u001b[0mctx\u001b[0m\u001b[0;34m.\u001b[0m\u001b[0mensure_initialized\u001b[0m\u001b[0;34m(\u001b[0m\u001b[0;34m)\u001b[0m\u001b[0;34m\u001b[0m\u001b[0;34m\u001b[0m\u001b[0m\n\u001b[1;32m     59\u001b[0m     tensors = pywrap_tfe.TFE_Py_Execute(ctx._handle, device_name, op_name,\n\u001b[0;32m---> 60\u001b[0;31m                                         inputs, attrs, num_outputs)\n\u001b[0m\u001b[1;32m     61\u001b[0m   \u001b[0;32mexcept\u001b[0m \u001b[0mcore\u001b[0m\u001b[0;34m.\u001b[0m\u001b[0m_NotOkStatusException\u001b[0m \u001b[0;32mas\u001b[0m \u001b[0me\u001b[0m\u001b[0;34m:\u001b[0m\u001b[0;34m\u001b[0m\u001b[0;34m\u001b[0m\u001b[0m\n\u001b[1;32m     62\u001b[0m     \u001b[0;32mif\u001b[0m \u001b[0mname\u001b[0m \u001b[0;32mis\u001b[0m \u001b[0;32mnot\u001b[0m \u001b[0;32mNone\u001b[0m\u001b[0;34m:\u001b[0m\u001b[0;34m\u001b[0m\u001b[0;34m\u001b[0m\u001b[0m\n",
            "\u001b[0;31mKeyboardInterrupt\u001b[0m: "
          ]
        }
      ]
    },
    {
      "cell_type": "markdown",
      "metadata": {
        "id": "kC4miRx-RuRW"
      },
      "source": [
        "Create a test data set."
      ]
    },
    {
      "cell_type": "code",
      "metadata": {
        "colab": {
          "background_save": true
        },
        "id": "uLC2v0qTnjmc"
      },
      "source": [
        "test_data = scaler_data[training_data_len-60:,:]\n",
        "x_test = []\n",
        "y_test = dataset[training_data_len:,:]\n",
        "for i in range(60,len(test_data)):\n",
        "  x_test.append(test_data[i-60:i,0])"
      ],
      "execution_count": null,
      "outputs": []
    },
    {
      "cell_type": "markdown",
      "metadata": {
        "id": "CrddFF5iR8am"
      },
      "source": [
        "Then convert the independent test data set ‘x_test’ to a numpy array so it can be used for testing the LSTM model."
      ]
    },
    {
      "cell_type": "code",
      "metadata": {
        "colab": {
          "background_save": true
        },
        "id": "ec9frRx_njpm"
      },
      "source": [
        "x_test = np.array(x_test)"
      ],
      "execution_count": null,
      "outputs": []
    },
    {
      "cell_type": "code",
      "metadata": {
        "colab": {
          "background_save": true
        },
        "id": "EUv30fvvroVV"
      },
      "source": [
        "x_test = np.reshape(x_test,(x_test.shape[0],x_test.shape[1],1))"
      ],
      "execution_count": null,
      "outputs": []
    },
    {
      "cell_type": "code",
      "metadata": {
        "colab": {
          "background_save": true
        },
        "id": "8nDlllRprpEZ"
      },
      "source": [
        "predictions = model.predict(x_test)"
      ],
      "execution_count": null,
      "outputs": []
    },
    {
      "cell_type": "code",
      "metadata": {
        "colab": {
          "background_save": true
        },
        "id": "siZ9G3klrpHB"
      },
      "source": [
        "predictions = scaler.inverse_transform(predictions)"
      ],
      "execution_count": null,
      "outputs": []
    },
    {
      "cell_type": "code",
      "metadata": {
        "colab": {
          "background_save": true
        },
        "id": "1ru5S7HxrpJZ"
      },
      "source": [
        "#calculating root mean_square_error\n",
        "rmse = np.sqrt(np.mean(predictions - y_test)**2)\n",
        "rmse"
      ],
      "execution_count": null,
      "outputs": []
    },
    {
      "cell_type": "markdown",
      "metadata": {
        "id": "d73dYQAuSovn"
      },
      "source": [
        "visualizing the data."
      ]
    },
    {
      "cell_type": "code",
      "metadata": {
        "colab": {
          "background_save": true
        },
        "id": "JNkh7nd0roX6"
      },
      "source": [
        "train = data[:training_data_len]\n",
        "valid = data[training_data_len:]\n",
        "valid['predictions'] = predictions\n",
        "plt.figure(figsize=(16,8))\n",
        "plt.title('model')\n",
        "plt.xlabel('Date')\n",
        "plt.ylabel('closingprice')\n",
        "plt.plot(train['Close'])\n",
        "plt.plot(valid[['Close','predictions']])\n",
        "plt.legend(['Train','val','predictions'])\n",
        "plt.show()"
      ],
      "execution_count": null,
      "outputs": []
    },
    {
      "cell_type": "markdown",
      "metadata": {
        "id": "w8dO_iNnScW2"
      },
      "source": [
        "Actual and predicted values"
      ]
    },
    {
      "cell_type": "code",
      "metadata": {
        "colab": {
          "background_save": true
        },
        "id": "1iMBADBRtaIv"
      },
      "source": [
        "valid"
      ],
      "execution_count": null,
      "outputs": []
    },
    {
      "cell_type": "markdown",
      "metadata": {
        "id": "uob7XPseSWf-"
      },
      "source": [
        "Testing the model with new data using last_60_days as test data to predict price"
      ]
    },
    {
      "cell_type": "code",
      "metadata": {
        "colab": {
          "background_save": true
        },
        "id": "7ECsKGdStaLy"
      },
      "source": [
        "df = web.DataReader('BTC-USD',data_source =\"yahoo\",start = '2014-04-01', end = '2020-11-24')\n",
        "#Create a new dataframe\n",
        "new_df = df.filter(['Close'])\n",
        "#Get teh last 60 day closing price \n",
        "last_60_days = new_df[-60:].values\n",
        "#Scale the data to be values between 0 and 1\n",
        "last_60_days_scaled = scaler.transform(last_60_days)\n",
        "#Create an empty list\n",
        "X_test = []\n",
        "#Append teh past 60 days\n",
        "X_test.append(last_60_days_scaled)\n",
        "#Convert the X_test data set to a numpy array\n",
        "X_test = np.array(X_test)\n",
        "#Reshape the data\n",
        "X_test = np.reshape(X_test, (X_test.shape[0], X_test.shape[1], 1))\n",
        "#Get the predicted scaled price\n",
        "pred_price = model.predict(X_test)\n",
        "#undo the scaling \n",
        "pred_price = scaler.inverse_transform(pred_price)\n",
        "print(pred_price)"
      ],
      "execution_count": null,
      "outputs": []
    },
    {
      "cell_type": "markdown",
      "metadata": {
        "id": "0gQIqSNUdPnK"
      },
      "source": [
        "Actual price"
      ]
    },
    {
      "cell_type": "code",
      "metadata": {
        "colab": {
          "background_save": true
        },
        "id": "_m7VjNxktaOY"
      },
      "source": [
        "df = web.DataReader('BTC-USD',data_source =\"yahoo\",start = '2020-11-25', end = '2020-11-25')"
      ],
      "execution_count": null,
      "outputs": []
    },
    {
      "cell_type": "code",
      "metadata": {
        "colab": {
          "background_save": true
        },
        "id": "gjVzn1s7taRI"
      },
      "source": [
        "print(df['Close'])"
      ],
      "execution_count": null,
      "outputs": []
    },
    {
      "cell_type": "markdown",
      "metadata": {
        "id": "bx6q5h3jdbKn"
      },
      "source": [
        "Building GRU model"
      ]
    },
    {
      "cell_type": "code",
      "metadata": {
        "colab": {
          "background_save": true
        },
        "id": "Yi3Z4YYJtaV8"
      },
      "source": [
        "# The GRU architecture\n",
        "regressorGRU = Sequential()\n",
        "# First GRU layer with Dropout regularisation\n",
        "regressorGRU.add(GRU(units=50, return_sequences=True, input_shape=(x_train.shape[1],1), activation='tanh'))\n",
        "regressorGRU.add(Dropout(0.2))\n",
        "# Second GRU layer\n",
        "regressorGRU.add(GRU(units=50, return_sequences=True, input_shape=(x_train.shape[1],1), activation='tanh'))\n",
        "regressorGRU.add(Dropout(0.2))\n",
        "# Third GRU layer\n",
        "regressorGRU.add(GRU(units=50, return_sequences=True, input_shape=(x_train.shape[1],1), activation='tanh'))\n",
        "regressorGRU.add(Dropout(0.2))\n",
        "# Fourth GRU layer\n",
        "regressorGRU.add(GRU(units=50, activation='tanh'))\n",
        "regressorGRU.add(Dropout(0.2))\n",
        "# The output layer\n",
        "regressorGRU.add(Dense(units=1))"
      ],
      "execution_count": null,
      "outputs": []
    },
    {
      "cell_type": "code",
      "metadata": {
        "colab": {
          "background_save": true
        },
        "id": "fRSFb1x6taZT"
      },
      "source": [
        "#compiling the model\n",
        "regressorGRU.compile(optimizer = 'adam', loss = 'mean_squared_error')"
      ],
      "execution_count": null,
      "outputs": []
    },
    {
      "cell_type": "code",
      "metadata": {
        "colab": {
          "background_save": true
        },
        "id": "KWttmBvMTndU"
      },
      "source": [
        "#fitting the model\n",
        "regressorGRU.fit(x_train,y_train,batch_size= 20,epochs=100)"
      ],
      "execution_count": null,
      "outputs": []
    },
    {
      "cell_type": "code",
      "metadata": {
        "colab": {
          "background_save": true
        },
        "id": "Si7lesiCTnjK"
      },
      "source": [
        "#converting and scaling test_data\n",
        "x_test = np.array(x_test)\n",
        "x_test = np.reshape(x_test,(x_test.shape[0],x_test.shape[1],1))\n",
        "predicted_with_gru = regressorGRU.predict(x_test)\n",
        "predicted_with_gru = scaler.inverse_transform(predicted_with_gru)"
      ],
      "execution_count": null,
      "outputs": []
    },
    {
      "cell_type": "code",
      "metadata": {
        "colab": {
          "background_save": true
        },
        "id": "VV8Fve7ETr5Z"
      },
      "source": [
        "#Rmse Error\n",
        "rmse = np.sqrt(np.mean(predicted_with_gru - y_test)**2)\n",
        "rmse"
      ],
      "execution_count": null,
      "outputs": []
    },
    {
      "cell_type": "markdown",
      "metadata": {
        "id": "umkKrGBphKtT"
      },
      "source": [
        "visualising the graph"
      ]
    },
    {
      "cell_type": "code",
      "metadata": {
        "colab": {
          "background_save": true
        },
        "id": "omSWwzogTr8U"
      },
      "source": [
        "train = data[:training_data_len]\n",
        "valid = data[training_data_len:]\n",
        "valid['predicted_with_gru'] = predicted_with_gru\n",
        "plt.figure(figsize=(16,8))\n",
        "plt.title('model')\n",
        "plt.xlabel('Date')\n",
        "plt.ylabel('closingprice')\n",
        "plt.plot(train['Close'])\n",
        "plt.plot(valid[['Close','predicted_with_gru']])\n",
        "plt.legend(['Train','val','predicted_with_gru'])\n",
        "plt.show()"
      ],
      "execution_count": null,
      "outputs": []
    },
    {
      "cell_type": "markdown",
      "metadata": {
        "id": "F-kxuJX9hSc4"
      },
      "source": [
        "Actual and predicted prices"
      ]
    },
    {
      "cell_type": "code",
      "metadata": {
        "colab": {
          "background_save": true
        },
        "id": "FODC0y4jTr_G"
      },
      "source": [
        "valid"
      ],
      "execution_count": null,
      "outputs": []
    },
    {
      "cell_type": "markdown",
      "metadata": {
        "id": "nOT46v8ohlkj"
      },
      "source": [
        "Testing the model with new data with last_60days as test data"
      ]
    },
    {
      "cell_type": "code",
      "metadata": {
        "colab": {
          "background_save": true
        },
        "id": "nFXoRo_ZTsCO"
      },
      "source": [
        "\n",
        "df = web.DataReader('XRP-INR',data_source =\"yahoo\",start = '2014-04-01', end = '2020-11-24')\n",
        "#Create a new dataframe\n",
        "new_df = df.filter(['Close'])\n",
        "#Get teh last 60 day closing price \n",
        "last_60_days = new_df[-60:].values\n",
        "#Scale the data to be values between 0 and 1\n",
        "last_60_days_scaled = scaler.transform(last_60_days)\n",
        "#Create an empty list\n",
        "X_test = []\n",
        "#Append teh past 60 days\n",
        "X_test.append(last_60_days_scaled)\n",
        "#Convert the X_test data set to a numpy array\n",
        "X_test = np.array(X_test)\n",
        "#Reshape the data\n",
        "X_test = np.reshape(X_test, (X_test.shape[0], X_test.shape[1], 1))\n",
        "#Get the predicted scaled price\n",
        "pred_price =regressorGRU .predict(X_test)\n"
      ],
      "execution_count": null,
      "outputs": []
    },
    {
      "cell_type": "code",
      "metadata": {
        "colab": {
          "background_save": true
        },
        "id": "8docXrBciFl8"
      },
      "source": [
        "#undo the scaling and predicting price\n",
        "pred_price = scaler.inverse_transform(pred_price)\n",
        "print(pred_price)"
      ],
      "execution_count": null,
      "outputs": []
    },
    {
      "cell_type": "code",
      "metadata": {
        "colab": {
          "background_save": true
        },
        "id": "ZQSHVgOBUB6g"
      },
      "source": [
        "#Actual price\n",
        "df = web.DataReader('XRP-INR',data_source =\"yahoo\",start = '2020-11-25', end = '2020-11-25')\n",
        "print(df['Close'])"
      ],
      "execution_count": null,
      "outputs": []
    }
  ]
}